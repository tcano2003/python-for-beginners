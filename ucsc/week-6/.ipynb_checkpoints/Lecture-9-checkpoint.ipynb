{
 "cells": [
  {
   "cell_type": "markdown",
   "metadata": {
    "collapsed": true
   },
   "source": [
    "# Lecture 9\n",
    "- File I/O\n",
    "- With\n",
    "- Optional\n",
    "  - List Comprehension\n",
    "  - Dict Comprehension\n",
    "  - Set Comprehension\n",
    "  - Generators\n",
    "  - One Liners\n",
    "  - doctest\n",
    "  - logging"
   ]
  },
  {
   "cell_type": "markdown",
   "metadata": {},
   "source": [
    "## File I/O\n",
    "\n",
    "- Programs read and write data most of the time\n",
    "- Some programs run continuously while some are short lived\n",
    "- In either case when the **program exits** the **data** stored internally in its memory is **lost**\n",
    "  - To prevent data loss, data is saved in **persistent store** as **files** or  **databases**\n",
    "- Examples of persistent store:\n",
    "  - Hard Disk, SSD\n",
    "  - Tapes, Optical Disks\n",
    "  - Cloud"
   ]
  },
  {
   "cell_type": "markdown",
   "metadata": {},
   "source": [
    "## File\n",
    "- Sequence of characters stored in a **persistent** medium (**survives power recycle**)\n",
    "- Different types of files based on the type of content stored\n",
    "  - **text** files\n",
    "    - human readable\n",
    "    - json, xml files\n",
    "    - plain text file (.py, .txt)\n",
    "  - **binary** files\n",
    "    - contains data as 0 and 1 (non printable)\n",
    "    - photos, spreadsheets, word doc, power point presentation, x-rays (.jpeg, .xls, .doc, .ppt, .dcm)\n",
    "    - music and video files  (.mp3, .mp4)"
   ]
  },
  {
   "cell_type": "markdown",
   "metadata": {},
   "source": [
    "## File Attributes\n",
    "- Name\n",
    "- Size\n",
    "- Permissions\n",
    "- Type\n",
    "- File Pointer \n",
    "  - Using which you can do something to the fhile\n",
    "  - Position in File\n",
    "  - Standard File Pointers\n",
    "    - stdin, stdout and stderr\n"
   ]
  },
  {
   "cell_type": "markdown",
   "metadata": {},
   "source": [
    "## File Operations\n",
    "- open\n",
    "- read, write, append\n",
    "- close\n",
    "![file operations](images/Lecture-9.002.png)"
   ]
  },
  {
   "cell_type": "markdown",
   "metadata": {},
   "source": [
    "## File Open\n",
    "- **File Name**  and **Mode**\n",
    "   - python **string**\n",
    "- **Mode**\n",
    "  - **Read**\n",
    "  - **Write**\n",
    "  - **Append**\n",
    "- Default mode is **'rt'**, **read** and **text**\n",
    "- **'b'** for **binary**\n",
    "- fd = open('filename', mode) # where mode is 'r', 'w', 'a', '+', 'b' (read, write, append)"
   ]
  },
  {
   "cell_type": "code",
   "execution_count": null,
   "metadata": {
    "scrolled": false
   },
   "outputs": [],
   "source": [
    "help(open)"
   ]
  },
  {
   "cell_type": "markdown",
   "metadata": {},
   "source": [
    "## File Read Mode\n",
    "![file operations](images/Lecture-9.003.png)"
   ]
  },
  {
   "cell_type": "markdown",
   "metadata": {},
   "source": [
    "## Read File\n",
    "- Mode\n",
    "  - r\n",
    "  - r+\n",
    "  - rt\n",
    "  - rt+\n",
    "  - rb\n",
    "  - rb+\n",
    "- **Fails when file does not exist**\n",
    "- **file pointer points to the start of file**\n",
    "- \\+ reading and writing\n",
    "![file operations](images/Lecture-9.004.png)"
   ]
  },
  {
   "cell_type": "code",
   "execution_count": null,
   "metadata": {
    "scrolled": false
   },
   "outputs": [],
   "source": [
    "dir(fd)"
   ]
  },
  {
   "cell_type": "code",
   "execution_count": null,
   "metadata": {
    "collapsed": true
   },
   "outputs": [],
   "source": [
    "!(echo \"Read File Example\" > 'file.txt')       # create a text file called file.txt"
   ]
  },
  {
   "cell_type": "code",
   "execution_count": null,
   "metadata": {
    "collapsed": true
   },
   "outputs": [],
   "source": [
    "# !echo -n \"Read File Example\" > 'file.txt'  # try echo -n , no new line"
   ]
  },
  {
   "cell_type": "code",
   "execution_count": null,
   "metadata": {
    "scrolled": false
   },
   "outputs": [],
   "source": [
    "!cat file.txt                         # display contents of file.txt"
   ]
  },
  {
   "cell_type": "code",
   "execution_count": null,
   "metadata": {},
   "outputs": [],
   "source": [
    "fd = open('file.txt','r')             # open text file file.txt for reading\n",
    "                                      # fd = open('file.txt') \n",
    "lines = fd.readlines()                # read all lines\n",
    "print(lines)                          # display contents of file.txt.  Note new line, \\n\n",
    "fd.close()                            # close fd"
   ]
  },
  {
   "cell_type": "markdown",
   "metadata": {},
   "source": [
    "## File Readable, Writable, Seekable?"
   ]
  },
  {
   "cell_type": "code",
   "execution_count": null,
   "metadata": {
    "scrolled": true
   },
   "outputs": [],
   "source": [
    "fd.readable()                         # expect error.  file is closed."
   ]
  },
  {
   "cell_type": "code",
   "execution_count": null,
   "metadata": {},
   "outputs": [],
   "source": [
    "fd = open('file.txt','r')\n",
    "print (\"Readable {}\".format(fd.readable()))\n",
    "print (\"Writable {}\".format(fd.writable()))\n",
    "print (\"Seekable {}\".format(fd.seekable()))\n",
    "fd.close()"
   ]
  },
  {
   "cell_type": "markdown",
   "metadata": {},
   "source": [
    "## Reading Multiple Lines"
   ]
  },
  {
   "cell_type": "code",
   "execution_count": null,
   "metadata": {
    "collapsed": true
   },
   "outputs": [],
   "source": [
    "!echo \"Line 1\\nLine 2\" > 'file.txt'   # create a text file called file.txt"
   ]
  },
  {
   "cell_type": "code",
   "execution_count": null,
   "metadata": {
    "scrolled": false
   },
   "outputs": [],
   "source": [
    "!cat file.txt                         # display contents of file.txt"
   ]
  },
  {
   "cell_type": "markdown",
   "metadata": {},
   "source": [
    "## Reading Single Line"
   ]
  },
  {
   "cell_type": "code",
   "execution_count": null,
   "metadata": {
    "scrolled": true
   },
   "outputs": [],
   "source": [
    "fd = open('file.txt')                 # open text file file.txt for reading (default mode 'rt')\n",
    "                                      # fd = open('file.txt') \n",
    "for line in fd.readlines():           # read all lines\n",
    "    print(line, end='')               # display contents of file.txt.  Note new line, \\n\n",
    "fd.close()                            # close fd"
   ]
  },
  {
   "cell_type": "code",
   "execution_count": null,
   "metadata": {},
   "outputs": [],
   "source": [
    "fd = open('file.txt')                 # open text file file.txt for reading (default mode 'rt')\n",
    "                                      # fd = open('file.txt') \n",
    "line = fd.readline()                  # read one line\n",
    "print(line, end='')                   # display contents of file.txt.  Note new line, \\n\n",
    "\n",
    "line = fd.readline()                  # read one line\n",
    "print(line, end='')                   # display contents of file.txt.  Note new line, \\n\n",
    "\n",
    "line = fd.readline()                  # read one line\n",
    "if line:\n",
    "    print(line, end='')               # display contents of file.txt.  Note new line, \\n\n",
    "else:\n",
    "    print(\"No more lines\")\n",
    "fd.close()                            # close fd"
   ]
  },
  {
   "cell_type": "markdown",
   "metadata": {},
   "source": [
    "## File Write Mode\n",
    "\n",
    "![file operations](images/Lecture-9.005.png)\n",
    "\n",
    "## Write File\n",
    "- Mode\n",
    "  - w\n",
    "  - w+\n",
    "  - wt\n",
    "  - wt+\n",
    "  - wb\n",
    "  - wb+\n",
    "- If **file exists**\n",
    "  - **truncates** file  #\n",
    "  - **warning**: Incorrectly use 'w' for 'r', the file contents will be lost\n",
    "- else\n",
    "  - **creates** file\n",
    "- **file pointer** points to the **start** of file\n",
    "- contents are overwritten\n",
    "![file operations](images/Lecture-9.006.png)"
   ]
  },
  {
   "cell_type": "markdown",
   "metadata": {},
   "source": [
    "## File  Created"
   ]
  },
  {
   "cell_type": "code",
   "execution_count": null,
   "metadata": {},
   "outputs": [],
   "source": [
    "!cat file.txt                        # windows users try: !type file.txt"
   ]
  },
  {
   "cell_type": "code",
   "execution_count": null,
   "metadata": {
    "collapsed": true
   },
   "outputs": [],
   "source": [
    "!rm file.txt                          # remove file.txt. windows user try !del file.txt"
   ]
  },
  {
   "cell_type": "code",
   "execution_count": null,
   "metadata": {
    "collapsed": true
   },
   "outputs": [],
   "source": [
    "fd = open('file.txt','w')             # open text file file.txt for writing\n",
    "fd.write(\"Write File Example\")        # write string\n",
    "fd.close()                            # close fd"
   ]
  },
  {
   "cell_type": "code",
   "execution_count": null,
   "metadata": {
    "scrolled": false
   },
   "outputs": [],
   "source": [
    "!cat file.txt "
   ]
  },
  {
   "cell_type": "markdown",
   "metadata": {},
   "source": [
    "## File Overwritten"
   ]
  },
  {
   "cell_type": "code",
   "execution_count": null,
   "metadata": {},
   "outputs": [],
   "source": [
    "!cat file.txt                         # display contents of file.txt"
   ]
  },
  {
   "cell_type": "code",
   "execution_count": null,
   "metadata": {
    "collapsed": true
   },
   "outputs": [],
   "source": [
    "fd = open('file.txt','w')             # open text file file.txt for writing\n",
    "fd.write(\"Example 2\")                 # write string\n",
    "fd.close()                            # close fd"
   ]
  },
  {
   "cell_type": "code",
   "execution_count": null,
   "metadata": {},
   "outputs": [],
   "source": [
    "!cat file.txt                         # display contents of file.txt"
   ]
  },
  {
   "cell_type": "markdown",
   "metadata": {},
   "source": [
    "## File Truncated"
   ]
  },
  {
   "cell_type": "code",
   "execution_count": null,
   "metadata": {},
   "outputs": [],
   "source": [
    "!cat file.txt                         # display contents of file.txt"
   ]
  },
  {
   "cell_type": "code",
   "execution_count": null,
   "metadata": {
    "collapsed": true
   },
   "outputs": [],
   "source": [
    "fd = open('file.txt','w')             # open text file file.txt for writing\n",
    "fd.close()                            # close fd"
   ]
  },
  {
   "cell_type": "code",
   "execution_count": null,
   "metadata": {
    "collapsed": true
   },
   "outputs": [],
   "source": [
    "!cat file.txt                         # display contents of file.txt"
   ]
  },
  {
   "cell_type": "code",
   "execution_count": null,
   "metadata": {},
   "outputs": [],
   "source": [
    "!ls -al file.txt                      # 0 sized file"
   ]
  },
  {
   "cell_type": "markdown",
   "metadata": {},
   "source": [
    "## File Append Mode\n",
    "![file operations](images/Lecture-9.007.png)\n",
    "\n",
    "## Append File\n",
    "- Mode\n",
    "  - a\n",
    "  - a+\n",
    "  - at\n",
    "  - at+\n",
    "  - ab\n",
    "  - ab+\n",
    "- File **created** if **non existent**\n",
    "- **File pointer points** to the **end**\n",
    "![file operations](images/Lecture-9.008.png)"
   ]
  },
  {
   "cell_type": "code",
   "execution_count": null,
   "metadata": {
    "collapsed": true
   },
   "outputs": [],
   "source": [
    "!echo \"Append File Example\" > 'file.txt'   # create a file called file.txt"
   ]
  },
  {
   "cell_type": "code",
   "execution_count": null,
   "metadata": {
    "scrolled": false
   },
   "outputs": [],
   "source": [
    "!cat file.txt                              # display contents of file.txt"
   ]
  },
  {
   "cell_type": "code",
   "execution_count": null,
   "metadata": {
    "collapsed": true
   },
   "outputs": [],
   "source": [
    "fd = open('file.txt','a')                  # open text file file.txt for appending\n",
    "fd.write(\"Append File Example 2\")          # write string\n",
    "fd.close()                                 # close fd"
   ]
  },
  {
   "cell_type": "code",
   "execution_count": null,
   "metadata": {
    "scrolled": false
   },
   "outputs": [],
   "source": [
    "!cat file.txt                              # display contents of file.txt"
   ]
  },
  {
   "cell_type": "markdown",
   "metadata": {},
   "source": [
    "### File Mode Flow Chart\n",
    "![file operations](images/Lecture-9.009.png)"
   ]
  },
  {
   "cell_type": "markdown",
   "metadata": {},
   "source": [
    "### File Operations\n",
    "- name\n",
    "- mode\n",
    "- seek\n",
    "- tell\n",
    "- closed"
   ]
  },
  {
   "cell_type": "code",
   "execution_count": null,
   "metadata": {
    "collapsed": true
   },
   "outputs": [],
   "source": [
    "!echo \"File Operations Example\" > 'file.txt' #  create a file called file.txt"
   ]
  },
  {
   "cell_type": "code",
   "execution_count": null,
   "metadata": {
    "scrolled": false
   },
   "outputs": [],
   "source": [
    "!cat file.txt                         # display contents of file.txt"
   ]
  },
  {
   "cell_type": "code",
   "execution_count": null,
   "metadata": {},
   "outputs": [],
   "source": [
    "fd = open('file.txt')                 # default is read text mode 'rt'\n",
    "print(\"File Name:    \", fd.name)      # file descriptor's file name\n",
    "print(\"File Mode:    \", fd.mode)      # file descriptor's mode"
   ]
  },
  {
   "cell_type": "code",
   "execution_count": null,
   "metadata": {},
   "outputs": [],
   "source": [
    "print(\"File Pointer: \", fd.tell())    # file descriptor's position in file\n",
    "fd.seek(5,0)                          # move file descriptor's positions by 5 from start\n",
    "print(\"File Pointer: \", fd.tell())"
   ]
  },
  {
   "cell_type": "code",
   "execution_count": null,
   "metadata": {},
   "outputs": [],
   "source": [
    "print(\"File Content: \", fd.read(10))  # read 10 characters from current position (5)"
   ]
  },
  {
   "cell_type": "code",
   "execution_count": null,
   "metadata": {},
   "outputs": [],
   "source": [
    "print(\"File Closed?: \", fd.closed)    # file is still open, closed will return False\n",
    "fd.close()                            # close file\n",
    "print(\"File Closed?: \", fd.closed)    # file was closed, closed will return True"
   ]
  },
  {
   "cell_type": "markdown",
   "metadata": {},
   "source": [
    "### File Errors\n",
    "- File does not exists\n",
    "- Opening a directory\n",
    "- No write permission"
   ]
  },
  {
   "cell_type": "code",
   "execution_count": null,
   "metadata": {
    "collapsed": true
   },
   "outputs": [],
   "source": [
    "!rm file.txt                         # Will error if file does not exists"
   ]
  },
  {
   "cell_type": "code",
   "execution_count": null,
   "metadata": {},
   "outputs": [],
   "source": [
    "fd = open('file.txt')                # FileNotFoundError"
   ]
  },
  {
   "cell_type": "code",
   "execution_count": null,
   "metadata": {},
   "outputs": [],
   "source": [
    "fd = open(\"/\",'w')                   # Cant open directory IsADirectoryError   "
   ]
  },
  {
   "cell_type": "code",
   "execution_count": null,
   "metadata": {},
   "outputs": [],
   "source": [
    "fd = open(\"/etc/passwd\",'w')         # no write permission to /etc/passwd   ||"
   ]
  },
  {
   "cell_type": "markdown",
   "metadata": {},
   "source": [
    "### Leaking File Descriptor\n",
    "-  Caused by failure to close"
   ]
  },
  {
   "cell_type": "code",
   "execution_count": null,
   "metadata": {
    "collapsed": true
   },
   "outputs": [],
   "source": [
    "!echo \"Leaking File Descriptor Example\" > 'file.txt'   # lets create a file called file.txt"
   ]
  },
  {
   "cell_type": "code",
   "execution_count": null,
   "metadata": {},
   "outputs": [],
   "source": [
    "fdList = []\n",
    "for i in range(10000):    \n",
    "    fdList.append(open('file.txt'))"
   ]
  },
  {
   "cell_type": "markdown",
   "metadata": {},
   "source": [
    "###  With Statement\n",
    "- Useful when there are **pair of statements** need to be executed such as **open** and **close**\n",
    "- Where python uses **ContextGenerators** to define **\\__entry\\__** and **\\__exit\\__** functions\n",
    "  - which takes care of automatically calling **\\__exit\\__** when out of the 'with' block\n",
    "- Other examples are **socket open/close**,  **mutex lock/unlock**\n",
    "  - sockets are used to read/write data over networks\n",
    "  - mutex prevent multiple threads calling the same function or modifying the same data concurrently\n",
    "  \n",
    "![file operations](images/Lecture-9.010.png)"
   ]
  },
  {
   "cell_type": "markdown",
   "metadata": {},
   "source": [
    "## Opening File using With, No FilePtr Leak"
   ]
  },
  {
   "cell_type": "code",
   "execution_count": null,
   "metadata": {},
   "outputs": [],
   "source": [
    "fdList=[]\n",
    "for i in range(10000):\n",
    "    with open('file.txt') as fd:     # using with statement to open a file\n",
    "         fdList.append(fd)"
   ]
  },
  {
   "cell_type": "markdown",
   "metadata": {},
   "source": [
    "## Opening File using With - Variation"
   ]
  },
  {
   "cell_type": "code",
   "execution_count": null,
   "metadata": {
    "scrolled": true
   },
   "outputs": [],
   "source": [
    "f = open('file.txt')\n",
    "with f:                               # using with, alternative example\n",
    "    print(f.readlines()) \n",
    "print(\"File Closed?: \", fd.closed)    # file was closed, closed will return True"
   ]
  },
  {
   "cell_type": "markdown",
   "metadata": {},
   "source": [
    "## Check if File Exists\n",
    "### Try Except Else"
   ]
  },
  {
   "cell_type": "code",
   "execution_count": null,
   "metadata": {},
   "outputs": [],
   "source": [
    "try:\n",
    "    f = open('file.txt')              # exception thrown when file.txt does not exist\n",
    "except IOError:\n",
    "    print('File Exception')\n",
    "else:\n",
    "    with f:                           # using with, alternative example\n",
    "        print(f.readlines()) \n",
    "print(\"File Closed?: \", fd.closed)    # file was closed, closed will return True"
   ]
  },
  {
   "cell_type": "markdown",
   "metadata": {},
   "source": [
    "### Try Except Else Finally"
   ]
  },
  {
   "cell_type": "code",
   "execution_count": null,
   "metadata": {
    "scrolled": true
   },
   "outputs": [],
   "source": [
    "try:\n",
    "    f = open('file.txt')              # exception thrown when file.txt does not exist\n",
    "except IOError:\n",
    "    print('File Exception')\n",
    "else:\n",
    "    with f:                           # using with, alternative example\n",
    "        print(f.readlines()) \n",
    "finally:\n",
    "    print(\"File Closed?: \", fd.closed)    # file was closed, closed will return True"
   ]
  },
  {
   "cell_type": "code",
   "execution_count": null,
   "metadata": {},
   "outputs": [],
   "source": [
    "!rm file.txt"
   ]
  },
  {
   "cell_type": "code",
   "execution_count": null,
   "metadata": {},
   "outputs": [],
   "source": [
    "try:\n",
    "    f = open('file.txt')              # exception thrown when file.txt does not exist\n",
    "except IOError as e:\n",
    "    print('File Exception, File does not exist', e)\n",
    "else:\n",
    "    with f:                           # using with, alternative example\n",
    "        print(f.readlines()) "
   ]
  },
  {
   "cell_type": "markdown",
   "metadata": {},
   "source": [
    "# \\*\\*Optional\\*\\*"
   ]
  },
  {
   "cell_type": "markdown",
   "metadata": {},
   "source": [
    "## List Comprehension\n",
    "- Concise way to create a new list\n",
    "- Say we have a list of 10 numbers numList = [1,2,3,4,5,6,7,8,9,10]\n",
    "  - Now we want to create another list called squareList which is the square of numList's elements"
   ]
  },
  {
   "cell_type": "markdown",
   "metadata": {},
   "source": [
    "### Square List Elements\n",
    "#### [ item \\* item for item in list ]"
   ]
  },
  {
   "cell_type": "code",
   "execution_count": null,
   "metadata": {
    "scrolled": true
   },
   "outputs": [],
   "source": [
    "numList = [1,2,3,4,5,6,7,8,9,10]\n",
    "print(\"Num List:    \", numList)\n",
    "squareList = []\n",
    "for item in numList:\n",
    "    squareList.append(item*item)\n",
    "print(\"Square List: \", squareList)"
   ]
  },
  {
   "cell_type": "code",
   "execution_count": null,
   "metadata": {},
   "outputs": [],
   "source": [
    "numList = [1,2,3,4,5,6,7,8,9,10]\n",
    "squareList = [ item*item for item in numList]   # list comprehension\n",
    "print(\"Square List: \", squareList)"
   ]
  },
  {
   "cell_type": "code",
   "execution_count": null,
   "metadata": {},
   "outputs": [],
   "source": [
    "squareList = [ item*item for item in range(1,11)]   # list comprehension, using range\n",
    "print(\"Square List: \", squareList)"
   ]
  },
  {
   "cell_type": "markdown",
   "metadata": {},
   "source": [
    "### Find  Odd Elements From List"
   ]
  },
  {
   "cell_type": "code",
   "execution_count": null,
   "metadata": {},
   "outputs": [],
   "source": [
    "numList = [1,2,3,4,5,6,7,8,9,10]\n",
    "print(\"Num List  \", numList)\n",
    "oddList = []\n",
    "for item in numList:\n",
    "    if item % 2:\n",
    "        oddList.append(item)\n",
    "print(\"Odd List: \", oddList)"
   ]
  },
  {
   "cell_type": "markdown",
   "metadata": {},
   "source": [
    "#### [ item for item in list if  expression ]"
   ]
  },
  {
   "cell_type": "code",
   "execution_count": null,
   "metadata": {},
   "outputs": [],
   "source": [
    "numList = [1,2,3,4,5,6,7,8,9,10]\n",
    "oddList = [item for item in numList if item %2 ]\n",
    "print(\"Odd List: \", oddList)"
   ]
  },
  {
   "cell_type": "markdown",
   "metadata": {},
   "source": [
    "## Dict Comprehension\n",
    "-  Similar to List comprehension but to create dictionaries\n",
    "-  Used to create new dictionaries which is a transform of an existing dictionary"
   ]
  },
  {
   "cell_type": "code",
   "execution_count": null,
   "metadata": {},
   "outputs": [],
   "source": [
    "d = { x: x for x in range(1,10) }\n",
    "d"
   ]
  },
  {
   "cell_type": "code",
   "execution_count": null,
   "metadata": {},
   "outputs": [],
   "source": [
    "d = {1:1, 2:2, 3:3}\n",
    "\n",
    "newDict = { k: v*v for k,v in d.items() }  # key, values in dictionary items\n",
    "\n",
    "print(newDict)"
   ]
  },
  {
   "cell_type": "code",
   "execution_count": null,
   "metadata": {},
   "outputs": [],
   "source": [
    "# Lets pick all keys which are even\n",
    "\n",
    "d = { 1:1, 2:2, 3:3, 4:4, 5:5, 6:6,7:7, 8:8, 9:9, 10:10 }\n",
    "evenDict = { k:v for k,v in d.items() if not k%2 }\n",
    "evenDict"
   ]
  },
  {
   "cell_type": "markdown",
   "metadata": {},
   "source": [
    "## Set Comprehension\n",
    "-  Similar to List comprehension but to create a set\n",
    "-  Used to create new set which is a transform of an existing list"
   ]
  },
  {
   "cell_type": "code",
   "execution_count": null,
   "metadata": {
    "collapsed": true
   },
   "outputs": [],
   "source": [
    "dupList = [ 1, 2, 3, 4, 5, 4, 5]  # list with duplicate items"
   ]
  },
  {
   "cell_type": "code",
   "execution_count": null,
   "metadata": {
    "collapsed": true
   },
   "outputs": [],
   "source": [
    "s = { item for item in dupList}   # set with unique items"
   ]
  },
  {
   "cell_type": "code",
   "execution_count": null,
   "metadata": {
    "scrolled": false
   },
   "outputs": [],
   "source": [
    "s"
   ]
  },
  {
   "cell_type": "code",
   "execution_count": null,
   "metadata": {},
   "outputs": [],
   "source": [
    "uniqList = list(s)\n",
    "uniqList"
   ]
  },
  {
   "cell_type": "code",
   "execution_count": null,
   "metadata": {},
   "outputs": [],
   "source": [
    "dupList = [ 1, 2, 3, 4, 5, 4, 5]  # list with duplicate items\n",
    "uniqList = list(set(dupList))\n",
    "uniqList"
   ]
  },
  {
   "cell_type": "markdown",
   "metadata": {},
   "source": [
    "## Creating a Set of Odd Numbers"
   ]
  },
  {
   "cell_type": "code",
   "execution_count": null,
   "metadata": {
    "collapsed": true
   },
   "outputs": [],
   "source": [
    "oddSet = { item for item in range(1,10) if item % 2 }\n",
    "oddSet"
   ]
  },
  {
   "cell_type": "markdown",
   "metadata": {},
   "source": [
    "## Generators\n",
    "- Iterators\n",
    "- Generator expression\n",
    "- Generator function\n",
    "  - uses yield\n",
    "- [Iterators - Iterables - Generator](https://nvie.com/posts/iterators-vs-generators/)"
   ]
  },
  {
   "cell_type": "markdown",
   "metadata": {},
   "source": [
    "### Generator Expression"
   ]
  },
  {
   "cell_type": "code",
   "execution_count": null,
   "metadata": {},
   "outputs": [],
   "source": [
    "gen = ( x for x in [1,2,3,4,5])           # looks like list comprehension but usaes {}\n",
    "\n",
    "for i in gen:\n",
    "    print(i)"
   ]
  },
  {
   "cell_type": "markdown",
   "metadata": {},
   "source": [
    "### Generator Function has Yield"
   ]
  },
  {
   "cell_type": "code",
   "execution_count": null,
   "metadata": {
    "collapsed": true
   },
   "outputs": [],
   "source": [
    "def gen():\n",
    "    x = [1,2,3,4,5]\n",
    "    for i in x:\n",
    "        print(\"Before yield: \", i)\n",
    "        yield i\n",
    "        print(\"After yield: \", i)"
   ]
  },
  {
   "cell_type": "code",
   "execution_count": null,
   "metadata": {},
   "outputs": [],
   "source": [
    "for i in gen():\n",
    "    print(i)"
   ]
  },
  {
   "cell_type": "markdown",
   "metadata": {},
   "source": [
    "## One Liners\n",
    "-  Handy tools in Python\n",
    "### Simple HTTP Server\n",
    "-  python -m http.server\n",
    "### doctest\n",
    "-  python -m doctest myprogram.py\n",
    "### json.tool\n",
    "-  cat foo.json | python -m json.tool"
   ]
  },
  {
   "cell_type": "markdown",
   "metadata": {},
   "source": [
    "## DocTest\n",
    "- Simple way to test python modules\n",
    "- Include "
   ]
  },
  {
   "cell_type": "code",
   "execution_count": null,
   "metadata": {
    "collapsed": true
   },
   "outputs": [],
   "source": [
    "import doctest\n",
    "\n",
    "def Square(x):\n",
    "    '''\n",
    "    >>> Square(3)\n",
    "    9\n",
    "    >>> Square(-3)\n",
    "    9\n",
    "    '''\n",
    "    return x+x\n",
    "\n",
    "doctest.testmod()"
   ]
  },
  {
   "cell_type": "markdown",
   "metadata": {},
   "source": [
    "# Logging\n",
    "- Formatter\n",
    "- Handler\n",
    "  - Stream Handler\n",
    "  - File Handler\n",
    "- Logger"
   ]
  },
  {
   "cell_type": "markdown",
   "metadata": {},
   "source": [
    "### Import Logging and Sys"
   ]
  },
  {
   "cell_type": "code",
   "execution_count": null,
   "metadata": {
    "collapsed": true
   },
   "outputs": [],
   "source": [
    "import logging\n",
    "import sys"
   ]
  },
  {
   "cell_type": "markdown",
   "metadata": {},
   "source": [
    "### Set Logger Name and  Logging Level"
   ]
  },
  {
   "cell_type": "code",
   "execution_count": null,
   "metadata": {
    "collapsed": true
   },
   "outputs": [],
   "source": [
    "logger = logging.getLogger(name=__name__)\n",
    "logger.setLevel(logging.DEBUG)        # logger logs debug and above"
   ]
  },
  {
   "cell_type": "markdown",
   "metadata": {},
   "source": [
    "### Define Formatter"
   ]
  },
  {
   "cell_type": "code",
   "execution_count": null,
   "metadata": {
    "collapsed": true
   },
   "outputs": [],
   "source": [
    "formatter = logging.Formatter ( \n",
    "    '[%(asctime)s:%(module)s:%(lineno)s:%(levelname)s] %(message)s' \n",
    ")"
   ]
  },
  {
   "cell_type": "markdown",
   "metadata": {},
   "source": [
    "### Define Stream Handler, Log Level and Formatter"
   ]
  },
  {
   "cell_type": "code",
   "execution_count": null,
   "metadata": {
    "collapsed": true
   },
   "outputs": [],
   "source": [
    "streamhandler = logging.StreamHandler(sys.stdout)\n",
    "streamhandler.setLevel(logging.INFO)   # stdout logs warning and above\n",
    "streamhandler.setFormatter(formatter)"
   ]
  },
  {
   "cell_type": "markdown",
   "metadata": {},
   "source": [
    "### Define File Handler, Log Level and Formatter"
   ]
  },
  {
   "cell_type": "code",
   "execution_count": null,
   "metadata": {
    "collapsed": true
   },
   "outputs": [],
   "source": [
    "filehandler = logging.FileHandler('myAppLogs.log', mode='a')\n",
    "filehandler.setLevel(logging.DEBUG)      # file logs debug and above\n",
    "filehandler.setFormatter(formatter)"
   ]
  },
  {
   "cell_type": "markdown",
   "metadata": {},
   "source": [
    "### Add Handlers to Logger"
   ]
  },
  {
   "cell_type": "code",
   "execution_count": null,
   "metadata": {
    "collapsed": true
   },
   "outputs": [],
   "source": [
    "logger.addHandler(streamhandler)\n",
    "logger.addHandler(filehandler)"
   ]
  },
  {
   "cell_type": "markdown",
   "metadata": {},
   "source": [
    "### Apps calling the logger"
   ]
  },
  {
   "cell_type": "code",
   "execution_count": null,
   "metadata": {},
   "outputs": [],
   "source": [
    "logger.debug(\"Debug Log\")        # detailed logs useful for programmer and debugging\n",
    "logger.info(\"info Log\")          # informational logs\n",
    "logger.warning(\"warning Log\")    # warning on system state,  network slow, low disk or battery\n",
    "logger.error(\"Error Log\")        # apps runs with loss of functions\n",
    "logger.critical(\"Critical Log\")  # Cant run application - app crash \n"
   ]
  },
  {
   "cell_type": "code",
   "execution_count": null,
   "metadata": {},
   "outputs": [],
   "source": [
    "!cat myAppLogs.log"
   ]
  },
  {
   "cell_type": "markdown",
   "metadata": {},
   "source": [
    "### Recap\n",
    "- Files are used for data persistence\n",
    "- Files can be text or binary\n",
    "- Files need to be opened before reading or writing\n",
    "- Files need to be closed\n",
    "- Optional\n",
    "  - List, dict, set comprehension\n",
    "  - with statement\n",
    "  - Generators\n",
    "  - one liners\n",
    "  - doctest\n",
    "  - loggging"
   ]
  },
  {
   "cell_type": "markdown",
   "metadata": {},
   "source": [
    "\n",
    "## Read\n",
    "[Real Python pathlib](https://realpython.com/python-pathlib/)"
   ]
  },
  {
   "cell_type": "markdown",
   "metadata": {},
   "source": [
    "## Assignments\n",
    "- Reading and Writing Text Files Writing Assignment 1\n",
    "- Reading and Writing Text Files Assignment 2\n",
    "   "
   ]
  },
  {
   "cell_type": "markdown",
   "metadata": {
    "collapsed": true
   },
   "source": [
    "## Quiz\n",
    "- Quiz 9"
   ]
  }
 ],
 "metadata": {
  "kernelspec": {
   "display_name": "Python 3",
   "language": "python",
   "name": "python3"
  },
  "language_info": {
   "codemirror_mode": {
    "name": "ipython",
    "version": 3
   },
   "file_extension": ".py",
   "mimetype": "text/x-python",
   "name": "python",
   "nbconvert_exporter": "python",
   "pygments_lexer": "ipython3",
   "version": "3.6.5"
  }
 },
 "nbformat": 4,
 "nbformat_minor": 2
}
