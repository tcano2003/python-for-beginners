{
 "cells": [
  {
   "cell_type": "markdown",
   "metadata": {},
   "source": [
    "## Lecture 5"
   ]
  },
  {
   "cell_type": "markdown",
   "metadata": {},
   "source": [
    "## Developing Python Scripts\n",
    "-  We have few choices\n",
    "   - run python3 and enter python code interactively\n",
    "   - run ipython and enter python code interactively\n",
    "   - jupyter notebook\n",
    "   - bpython https://www.bpython-interpreter.org/\n",
    "   - All the above approaches wont be practical in a production setting\n",
    "   - use tools such as pycharm, atom, brackets, sublime, vim, emacs etc\n",
    "     - use a text editor, enter python code and save it as a file with .py extension (e.g.: filename.py)\n",
    "     - python3 filename.py\n",
    "       - filename.py is also called as a python **script**\n",
    "   - all python .py files should have:\n",
    "     - #!/usr/bin/env python[3]\n",
    "     - or\n",
    "     - #!/usr/bin/python[3]\n",
    "       - whatever your local python or env path is"
   ]
  },
  {
   "cell_type": "markdown",
   "metadata": {},
   "source": [
    "## Concepts\n",
    "\n",
    "###  - Modules\n",
    "#### &nbsp;&nbsp;&nbsp;&nbsp;&nbsp;&nbsp;-  dot py file(s)\n",
    "#### &nbsp;&nbsp;&nbsp;&nbsp;&nbsp;&nbsp;-  Executed once when imported\n",
    "\n",
    "###  - Objects \n",
    "#### &nbsp;&nbsp;&nbsp;&nbsp;&nbsp;&nbsp;-   Variables, Constants, Functions, Classes\n",
    "\n",
    "### - Packages\n",
    "#### &nbsp;&nbsp;&nbsp;&nbsp;&nbsp;&nbsp;-  Directory or Folder.  Contains Modules and Sub Directories\n",
    "#### &nbsp;&nbsp;&nbsp;&nbsp;&nbsp;&nbsp;- may have \\_\\_init\\_\\_.py\n",
    "\n",
    "## - sys.path\n",
    "#### &nbsp;&nbsp;&nbsp;&nbsp;&nbsp;&nbsp;-  Module Package Search Path\n",
    "#### &nbsp;&nbsp;&nbsp;&nbsp;&nbsp;&nbsp;-  Different when run as script vs interactively\n",
    "## - \\_\\_name\\_\\_\n",
    "#### &nbsp;&nbsp;&nbsp;&nbsp;&nbsp;&nbsp;-   \\_\\_main\\_\\_  when run as script\n",
    "#### &nbsp;&nbsp;&nbsp;&nbsp;&nbsp;&nbsp;-  module name when imported\n",
    "## - dir() and dir(module)"
   ]
  },
  {
   "cell_type": "markdown",
   "metadata": {},
   "source": [
    "## When Script Becomes Too Large\n",
    "- We refactor and organize code into many smaller files"
   ]
  },
  {
   "cell_type": "markdown",
   "metadata": {},
   "source": [
    "## What is a Module?\n",
    "\n",
    "- python files end with dot py (.py) extension\n",
    "\n",
    "![Script](images/Lecture-5.002.png)\n",
    "\n",
    "-  A module is a python script file containing functions and class definitions, variables  and statements\n",
    "-  We dont want to reinvent the wheel\n",
    "   - Leverage the code provided by standard python modules, packages and the open source community"
   ]
  },
  {
   "cell_type": "markdown",
   "metadata": {},
   "source": [
    "![Script](images/Lecture-5.003.png)"
   ]
  },
  {
   "cell_type": "markdown",
   "metadata": {},
   "source": [
    "-  Lets say we have a script.py\n",
    "   - it has functions foo(),  bar() defined\n",
    "-  In order to improve code readability we are splitting script.py into 2 files\n",
    "   1. script.py\n",
    "   2. foobar.py\n",
    "      -  Moved foo() and bar() functions into foobar.py\n",
    "- This **wont work** because within script.py the python interpreter will not be able to search and locate foo() and bar() functions which are defined elsewhere in foobar.py\n",
    "  - It will look for the functions in its symbol table and wont find them\n",
    "  - The python interpreter needs to be told about foobar.py where foo() and bar() are defined\n",
    "\n",
    "\n",
    "## script-orig.py\n",
    "- What does dir() output before and after defining functions foo and bar?"
   ]
  },
  {
   "cell_type": "code",
   "execution_count": null,
   "metadata": {},
   "outputs": [],
   "source": [
    "!cat example/script-orig.py"
   ]
  },
  {
   "cell_type": "markdown",
   "metadata": {},
   "source": [
    "## Execute script-orig.py"
   ]
  },
  {
   "cell_type": "code",
   "execution_count": null,
   "metadata": {},
   "outputs": [],
   "source": [
    "!python3 example/script-orig.py"
   ]
  },
  {
   "cell_type": "markdown",
   "metadata": {},
   "source": [
    "## foobar.py"
   ]
  },
  {
   "cell_type": "code",
   "execution_count": null,
   "metadata": {
    "scrolled": true
   },
   "outputs": [],
   "source": [
    "!cat example/foobar.py"
   ]
  },
  {
   "cell_type": "markdown",
   "metadata": {},
   "source": [
    "## script.py without import\n",
    "- Python **will not** be able to find the names foo and bar from script.py \n",
    "\n",
    "```\n",
    "foo()\n",
    "bar()\n",
    "```"
   ]
  },
  {
   "cell_type": "markdown",
   "metadata": {},
   "source": [
    "## Import Statement\n",
    "\n",
    "![Script](images/Lecture-5.004.png)\n",
    "\n",
    "```\n",
    "import foobar\n",
    "```\n",
    "\n",
    "- When 'import foobar', Python **runs all code** in the **foobar.py** file\n",
    "- We need to tell python where to find foobar module which contains the foo()\n",
    "  - python provides the **import** statement to specify the module or package\n",
    "  - There are a few variations of using the import statement\n",
    "  - using **modulename.functionname()** we invoke the function named **functionname** in **modulename**"
   ]
  },
  {
   "cell_type": "code",
   "execution_count": null,
   "metadata": {},
   "outputs": [],
   "source": [
    "!cat example/script.py"
   ]
  },
  {
   "cell_type": "markdown",
   "metadata": {},
   "source": [
    "## Lets Run script.py\n",
    "- You can run a script within jupyter in 2 ways\n",
    "  ```\n",
    "  %run example/script.py\n",
    "  \n",
    "  or\n",
    "  \n",
    "  !python3 example/script.py\n",
    "  \n",
    "  Try what happens when you run %run example/script without .py\n",
    "  \n",
    "  ```\n",
    "  "
   ]
  },
  {
   "cell_type": "code",
   "execution_count": null,
   "metadata": {},
   "outputs": [],
   "source": [
    "%run example/script.py"
   ]
  },
  {
   "cell_type": "code",
   "execution_count": null,
   "metadata": {},
   "outputs": [],
   "source": [
    "!python3 example/script.py"
   ]
  },
  {
   "cell_type": "markdown",
   "metadata": {},
   "source": [
    "## Import Error\n",
    "- What happens if we import a module, which python cannot find?\n",
    "  - It raises an import error"
   ]
  },
  {
   "cell_type": "code",
   "execution_count": null,
   "metadata": {},
   "outputs": [],
   "source": [
    "# script with name this_module_does_not_exists.py does not exists\n",
    "# Expect Import Error\n",
    "import this_module_does_not_exists "
   ]
  },
  {
   "cell_type": "markdown",
   "metadata": {},
   "source": [
    "## Where does python look for the modules\n",
    "\n",
    "- Where does the interpreter search looking for functions or variables or classes?\n",
    "  - path specified by a path list in the **module sys** called **sys.path**\n",
    "    1. look inside python's builtin module\n",
    "    2. directories pointed by PYTHONPATH environment variable\n",
    "    3. default path as specified in python installation\n",
    "- sys.path\n",
    "  - note the first entry, it is blank when running python interactively. Means current directory\n",
    "  - when run as python path/to/filename.py then it will be path/to/"
   ]
  },
  {
   "cell_type": "markdown",
   "metadata": {},
   "source": [
    "## sys.path is different when run interactively or in a script\n",
    "## sys.path when run interactively"
   ]
  },
  {
   "cell_type": "code",
   "execution_count": null,
   "metadata": {
    "scrolled": true
   },
   "outputs": [],
   "source": [
    "import sys\n",
    "sys.path    # note the comma seperated strings encluded in [ ]"
   ]
  },
  {
   "cell_type": "code",
   "execution_count": null,
   "metadata": {},
   "outputs": [],
   "source": [
    "print(\"Type of sys.list:\", type(sys.path))  # what is sys.path's data type?"
   ]
  },
  {
   "cell_type": "code",
   "execution_count": null,
   "metadata": {
    "scrolled": true
   },
   "outputs": [],
   "source": [
    "for i,j in enumerate(sys.path):     # using enumerate\n",
    "    print(\"|{:3d} | {:60} |\".format(i,j)) # i printed as width of 3"
   ]
  },
  {
   "cell_type": "markdown",
   "metadata": {},
   "source": [
    "## sys.path when run from a script"
   ]
  },
  {
   "cell_type": "markdown",
   "metadata": {},
   "source": [
    "## path.py"
   ]
  },
  {
   "cell_type": "code",
   "execution_count": null,
   "metadata": {
    "scrolled": true
   },
   "outputs": [],
   "source": [
    "!cat example/path.py"
   ]
  },
  {
   "cell_type": "code",
   "execution_count": null,
   "metadata": {
    "scrolled": true
   },
   "outputs": [],
   "source": [
    "!python3 example/path.py"
   ]
  },
  {
   "cell_type": "markdown",
   "metadata": {},
   "source": [
    "## Checking the PYTHONPATH environment variable\n",
    "- using os.environment\n",
    "\n",
    "```\n",
    "import os\n",
    "os.environ['PYTHONPATH']\n",
    "```"
   ]
  },
  {
   "cell_type": "markdown",
   "metadata": {},
   "source": [
    "## env.py"
   ]
  },
  {
   "cell_type": "code",
   "execution_count": null,
   "metadata": {},
   "outputs": [],
   "source": [
    "!cat example/env.py"
   ]
  },
  {
   "cell_type": "code",
   "execution_count": null,
   "metadata": {},
   "outputs": [],
   "source": [
    "!python3 example/env.py"
   ]
  },
  {
   "cell_type": "markdown",
   "metadata": {},
   "source": [
    "## Changing the sys.path\n",
    "- using PYTHONPATH environment variable\n",
    "- sys.append(\"new/path\")"
   ]
  },
  {
   "cell_type": "code",
   "execution_count": null,
   "metadata": {},
   "outputs": [],
   "source": [
    "%env PYTHONPATH=/fake/path/foo/bar    # setting environment variable"
   ]
  },
  {
   "cell_type": "code",
   "execution_count": null,
   "metadata": {},
   "outputs": [],
   "source": [
    "!(export PYTHONPATH=/fake/path/foo/bar; python3 example/env.py)  # alternative way to set env variable"
   ]
  },
  {
   "cell_type": "markdown",
   "metadata": {},
   "source": [
    "## Several ways to Import\n",
    "```\n",
    "1. import <package>\n",
    "2. import <module>\n",
    "3. from <package> import <module or object>\n",
    "4. from <module> import <object>\n",
    "5. import <module> as my_module\n",
    "6. from  <modudule> import <object> as my_object\n",
    "7. Then we have relative and absolute path when dealing with packages\n",
    "8. And we have __init__.py where we can add initialization code for packages\n",
    "```\n"
   ]
  },
  {
   "cell_type": "markdown",
   "metadata": {},
   "source": [
    "![from module](images/Lecture-5.005.png)"
   ]
  },
  {
   "cell_type": "markdown",
   "metadata": {},
   "source": [
    "![from_module multiple functions](images/Lecture-5.006.png)"
   ]
  },
  {
   "cell_type": "markdown",
   "metadata": {},
   "source": [
    "![import star](images/Lecture-5.007.png)\n",
    "- Not recommended because we might not know what we are importing"
   ]
  },
  {
   "cell_type": "code",
   "execution_count": null,
   "metadata": {
    "scrolled": false
   },
   "outputs": [],
   "source": [
    "# 2 functions with the same name, one in jupyter and the other in collide.py\n",
    "def collide():\n",
    "    print(\"In Jupyter::collide()\")\n",
    "collide()"
   ]
  },
  {
   "cell_type": "code",
   "execution_count": null,
   "metadata": {},
   "outputs": [],
   "source": [
    "!cat example/collide.py"
   ]
  },
  {
   "cell_type": "code",
   "execution_count": null,
   "metadata": {},
   "outputs": [],
   "source": [
    "import example.collide   # example is a package (directory), collide a module\n",
    "example.collide.collide()"
   ]
  },
  {
   "cell_type": "code",
   "execution_count": null,
   "metadata": {},
   "outputs": [],
   "source": [
    "collide()"
   ]
  },
  {
   "cell_type": "code",
   "execution_count": null,
   "metadata": {},
   "outputs": [],
   "source": [
    "# importing all names from collide.py into jupyter's name space\n",
    "from example.collide import *   # collide() defined in jupyter got replaced by one in collide.py\n",
    "collide()"
   ]
  },
  {
   "cell_type": "markdown",
   "metadata": {},
   "source": [
    "![import as](images/Lecture-5.008.png)"
   ]
  },
  {
   "cell_type": "code",
   "execution_count": null,
   "metadata": {},
   "outputs": [],
   "source": [
    "import example.collide as my  # renaming collide module as my\n",
    "my.collide()"
   ]
  },
  {
   "cell_type": "markdown",
   "metadata": {},
   "source": [
    "![import as](images/Lecture-5.009.png)"
   ]
  },
  {
   "cell_type": "markdown",
   "metadata": {},
   "source": [
    "## What is a Package\n",
    "- A directory containing  files with .py extension\n",
    "- May contain directories(sub packages) which in turn contains files with .py extension\n",
    "- The name of the directory is the name of the package\n",
    "  - the name of the subdirectories are the names of the sub packages\n",
    "- Packages have \\_\\_init\\_\\_.py which could be empty or have initialization code\n",
    "\n"
   ]
  },
  {
   "cell_type": "markdown",
   "metadata": {},
   "source": [
    "![import as](images/Lecture-5.010.png)"
   ]
  },
  {
   "cell_type": "markdown",
   "metadata": {},
   "source": [
    "![import as](images/Lecture-5.011.png)"
   ]
  },
  {
   "cell_type": "markdown",
   "metadata": {},
   "source": [
    "## Absolute import\n",
    "- sound is a package\n",
    "- effects is a sub package\n",
    "- echo is a module\n",
    "- echo() is a name or object in echo module\n",
    "![import as](images/Lecture-5.013.png)"
   ]
  },
  {
   "cell_type": "markdown",
   "metadata": {},
   "source": [
    "- from sur_absolute.py we want to call:\n",
    "  - echo() from echo module, effects sub package, sound package\n",
    "  - audio_func() from audio module, sound package\n",
    "  - equalizer() from equalizer module, filters sub package, sound package\n",
    "  - encode() from wave module, format sub package and sound package"
   ]
  },
  {
   "cell_type": "markdown",
   "metadata": {},
   "source": [
    "## Relative import\n",
    "- dot (.) means one level up \n",
    "- dot dot (..) means two levels up\n",
    "![import as](images/Lecture-5.012.png)"
   ]
  },
  {
   "cell_type": "markdown",
   "metadata": {},
   "source": [
    "## Experimentation\n",
    "- a.py imports b\n",
    "- b.py imports c"
   ]
  },
  {
   "cell_type": "code",
   "execution_count": null,
   "metadata": {},
   "outputs": [],
   "source": [
    "!cat example/a.py"
   ]
  },
  {
   "cell_type": "code",
   "execution_count": null,
   "metadata": {
    "scrolled": true
   },
   "outputs": [],
   "source": [
    "!cat example/b.py"
   ]
  },
  {
   "cell_type": "code",
   "execution_count": null,
   "metadata": {
    "scrolled": true
   },
   "outputs": [],
   "source": [
    "!cat example/c.py"
   ]
  },
  {
   "cell_type": "code",
   "execution_count": null,
   "metadata": {
    "scrolled": true
   },
   "outputs": [],
   "source": [
    "# when we run a.py,  __name__ == __main__\n",
    "# __name__ in b.py and c.py are b and c respectively\n",
    "\n",
    "!python3 example/a.py"
   ]
  },
  {
   "cell_type": "code",
   "execution_count": null,
   "metadata": {},
   "outputs": [],
   "source": [
    "# when we run b.py,  __name__ == __main__\n",
    "# __name__ in  c.py is c\n",
    "\n",
    "!python3 example/b.py"
   ]
  },
  {
   "cell_type": "code",
   "execution_count": null,
   "metadata": {},
   "outputs": [],
   "source": [
    "# when we run c.py,  __name__ == __main__\n",
    "# you add test code for a module by putting an if __name__ == \"__main__\":\n",
    "\n",
    "!python3 example/c.py"
   ]
  },
  {
   "cell_type": "markdown",
   "metadata": {},
   "source": [
    "## Optional Review\n",
    "- code under sound_pkg, run the python3 main[1-9].py"
   ]
  },
  {
   "cell_type": "markdown",
   "metadata": {},
   "source": [
    "## Recap\n",
    "- We looked into developing scripts and refactoring them\n",
    "- Different ways to import modules and packages\n",
    "- dir() lists names in current scope\n",
    "- dir(module_name) lists functions, classes and variable available in module_name\n",
    "- \\_\\_init\\_\\_.py can have initalization code"
   ]
  },
  {
   "cell_type": "markdown",
   "metadata": {},
   "source": [
    "## Read \n",
    "1. [Python Modules and Packages – An Introduction](https://realpython.com/python-modules-packages)\n",
    "2. [Packages Tutorial](https://docs.python.org/3.6/tutorial/modules.html#packages)\n",
    "\n",
    "3. [Definitive Guide to Import Statements by Chris Yeh](https://chrisyeh96.github.io/2017/08/08/definitive-guide-python-imports.html)\n",
    "\n"
   ]
  },
  {
   "cell_type": "markdown",
   "metadata": {},
   "source": [
    "## Assignment\n",
    "- Python Built-in Modules Writing Assignment"
   ]
  },
  {
   "cell_type": "markdown",
   "metadata": {},
   "source": [
    "## Quiz\n",
    "- Quiz 5"
   ]
  },
  {
   "cell_type": "code",
   "execution_count": null,
   "metadata": {
    "collapsed": true
   },
   "outputs": [],
   "source": []
  }
 ],
 "metadata": {
  "kernelspec": {
   "display_name": "Python 3",
   "language": "python",
   "name": "python3"
  },
  "language_info": {
   "codemirror_mode": {
    "name": "ipython",
    "version": 3
   },
   "file_extension": ".py",
   "mimetype": "text/x-python",
   "name": "python",
   "nbconvert_exporter": "python",
   "pygments_lexer": "ipython3",
   "version": "3.5.2"
  }
 },
 "nbformat": 4,
 "nbformat_minor": 2
}
