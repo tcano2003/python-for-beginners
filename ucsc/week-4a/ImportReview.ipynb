{
 "cells": [
  {
   "cell_type": "markdown",
   "metadata": {},
   "source": [
    "# Review\n",
    "[realpython.com - Modules, Packages Introduction](https://realpython.com/python-modules-packages/)"
   ]
  },
  {
   "cell_type": "markdown",
   "metadata": {},
   "source": [
    "## Why Modules and Packages\n",
    "- Functions, modules and packages are all constructs in Python that **promote code modularization**\n",
    "  - **Simplicity**\n",
    "    - deal with smaller code\n",
    "  - **Maintainability**\n",
    "    - easy to fix bugs and changes isolated\n",
    "  - **Reusability**\n",
    "    - software reused across projects\n",
    "  - **Scoping**\n",
    "    - prevents name collision"
   ]
  },
  {
   "cell_type": "markdown",
   "metadata": {},
   "source": [
    "## Modules\n",
    "- Modules are python script .py files\n",
    "  - module_name is the file name without the .py extension\n",
    "  - Help **avoid collisions between object names**\n",
    "    - Same variable and function names can be used in different files\n",
    "- module script file is executed when the module is imported\n",
    "  - module is executed **only once** during the first time it is imported\n",
    "\n",
    "## Packages\n",
    "- Packages are directory containing python .py files and sub directories containing .py files or directories\n",
    "  - **help avoid collisions between module names**\n",
    "- **\\__init\\__.py** is executed when package is imported\n",
    "   - **\\__init\\__.py** can define objects and can import modules\n"
   ]
  },
  {
   "cell_type": "markdown",
   "metadata": {},
   "source": [
    "##  Module Import Syntax\n",
    "\n",
    "1. ```import <module_name>```\n",
    "2. ```import <module_name>[, <module_name> ...]```\n",
    "3. ```import <module_name> as <alt_name>```\n",
    "4. ```from <module_name> import <name>[, <name> ...]```\n",
    "5. ```from <module_name> import *         # not recommended```\n",
    "6. ```from <module_name> import <name> as <alt_name>```\n"
   ]
  },
  {
   "cell_type": "markdown",
   "metadata": {},
   "source": [
    "### import  module_name\n",
    "- Access the name from module as: module_name dot name\n",
    "- e.g pi from math module will be accessed as: math.pi"
   ]
  },
  {
   "cell_type": "code",
   "execution_count": 1,
   "metadata": {},
   "outputs": [
    {
     "name": "stdout",
     "output_type": "stream",
     "text": [
      "math.pi 3.141592653589793\n"
     ]
    }
   ],
   "source": [
    "import math\n",
    "print(\"math.pi {}\".format(math.pi))"
   ]
  },
  {
   "cell_type": "code",
   "execution_count": 2,
   "metadata": {},
   "outputs": [
    {
     "name": "stdout",
     "output_type": "stream",
     "text": [
      "sys.version 3.5.2 (default, Nov 17 2016, 17:05:23) \n",
      "[GCC 5.4.0 20160609]\n"
     ]
    }
   ],
   "source": [
    "import sys\n",
    "print (\"sys.version {}\".format(sys.version))"
   ]
  },
  {
   "cell_type": "code",
   "execution_count": 8,
   "metadata": {},
   "outputs": [
    {
     "name": "stdout",
     "output_type": "stream",
     "text": [
      "|  0 |                                                              |\n",
      "|  1 | /home/kripa/caffe/python                                     |\n",
      "|  2 | /home/kripa/python-for-beginners/ucsc/week-4a                |\n",
      "|  3 | /usr/lib/python35.zip                                        |\n",
      "|  4 | /usr/lib/python3.5                                           |\n",
      "|  5 | /usr/lib/python3.5/plat-x86_64-linux-gnu                     |\n",
      "|  6 | /usr/lib/python3.5/lib-dynload                               |\n",
      "|  7 | /home/kripa/.local/lib/python3.5/site-packages               |\n",
      "|  8 | /usr/local/lib/python3.5/dist-packages                       |\n",
      "|  9 | /usr/lib/python3/dist-packages                               |\n",
      "| 10 | /usr/local/lib/python3.5/dist-packages/IPython/extensions    |\n",
      "| 11 | /home/kripa/.ipython                                         |\n"
     ]
    }
   ],
   "source": [
    "for index, path in enumerate(sys.path):\n",
    "    print(\"| {:2d} | {:60} |\".format(index, path))"
   ]
  },
  {
   "cell_type": "code",
   "execution_count": 9,
   "metadata": {},
   "outputs": [
    {
     "name": "stdout",
     "output_type": "stream",
     "text": [
      "dt 2018-07-30 00:14:54.924230\n"
     ]
    }
   ],
   "source": [
    "import datetime\n",
    "\n",
    "dt = datetime.datetime(2018,7,28)\n",
    "\n",
    "print(\"dt {}\".format(dt.now()))\n"
   ]
  },
  {
   "cell_type": "code",
   "execution_count": 10,
   "metadata": {},
   "outputs": [
    {
     "name": "stdout",
     "output_type": "stream",
     "text": [
      "Clock - cpu time, Stop - Start 0.0012389999999999901\n"
     ]
    }
   ],
   "source": [
    "import time\n",
    "\n",
    "start = time.clock()     # time since last call to time.clock()\n",
    "for i in range(3):\n",
    "    time.sleep(1)        # cpu is idle when time.sleep()\n",
    "stop = time.clock()\n",
    "\n",
    "print(\"Clock - cpu time, Stop - Start {}\".format(stop-start))"
   ]
  },
  {
   "cell_type": "code",
   "execution_count": 11,
   "metadata": {},
   "outputs": [
    {
     "name": "stdout",
     "output_type": "stream",
     "text": [
      "Time - wall time, Stop - Start 3.003220796585083\n"
     ]
    }
   ],
   "source": [
    "start = time.time()\n",
    "for i in range(3):\n",
    "    time.sleep(1)        # wall clock continues when time.sleep()\n",
    "stop = time.time()\n",
    "\n",
    "print(\"Time - wall time, Stop - Start {}\".format(stop-start))"
   ]
  },
  {
   "cell_type": "code",
   "execution_count": 12,
   "metadata": {},
   "outputs": [
    {
     "name": "stdout",
     "output_type": "stream",
     "text": [
      "Iteration: 0, random: greetings\n",
      "Iteration: 1, random: hi\n",
      "Iteration: 2, random: hello\n",
      "Iteration: 3, random: greetings\n",
      "Iteration: 4, random: hi\n",
      "Iteration: 5, random: greetings\n",
      "Iteration: 6, random: hello\n",
      "Iteration: 7, random: hello\n",
      "Iteration: 8, random: hi\n",
      "Iteration: 9, random: greetings\n"
     ]
    }
   ],
   "source": [
    "import random\n",
    "\n",
    "random.seed(\"hello\")   # seed can be a string or integer\n",
    "\n",
    "# choice returns an element randomly from a list\n",
    "for i in range(10):\n",
    "    x = random.choice([\"hi\", \"hello\", \"greetings\", \"howdy\"])\n",
    "    print(\"Iteration: {}, random: {}\".format(i, x))"
   ]
  },
  {
   "cell_type": "code",
   "execution_count": 13,
   "metadata": {},
   "outputs": [
    {
     "name": "stdout",
     "output_type": "stream",
     "text": [
      "Iteration: 0, random: 2\n",
      "Iteration: 1, random: 5\n",
      "Iteration: 2, random: 4\n",
      "Iteration: 3, random: 2\n",
      "Iteration: 4, random: 2\n",
      "Iteration: 5, random: 5\n",
      "Iteration: 6, random: 3\n",
      "Iteration: 7, random: 4\n",
      "Iteration: 8, random: 5\n",
      "Iteration: 9, random: 3\n"
     ]
    }
   ],
   "source": [
    "for i in range(10):\n",
    "    x = random.randint(1,5)       # returns numbers 1,2,3,4,5 randomly\n",
    "    print(\"Iteration: {}, random: {}\".format(i, x))"
   ]
  },
  {
   "cell_type": "markdown",
   "metadata": {},
   "source": [
    "### import  module_name as\n",
    "- Why?\n",
    "  - Renaming to something more readable or shorter\n",
    "  - To prevent overriding names in present namespace"
   ]
  },
  {
   "cell_type": "code",
   "execution_count": 15,
   "metadata": {},
   "outputs": [
    {
     "name": "stdout",
     "output_type": "stream",
     "text": [
      "m.pi 3.141592653589793\n"
     ]
    }
   ],
   "source": [
    "import math as m         # math module will be called 'm' in this name scope\n",
    "print(\"m.pi {}\".format(m.pi))"
   ]
  },
  {
   "cell_type": "code",
   "execution_count": 16,
   "metadata": {},
   "outputs": [
    {
     "name": "stdout",
     "output_type": "stream",
     "text": [
      "system.version 3.5.2 (default, Nov 17 2016, 17:05:23) \n",
      "[GCC 5.4.0 20160609]\n"
     ]
    }
   ],
   "source": [
    "import sys  as system    # sys module will be called system in this name scope\n",
    "print(\"system.version {}\".format(system.version))"
   ]
  },
  {
   "cell_type": "markdown",
   "metadata": {},
   "source": [
    "### from module_name import name"
   ]
  },
  {
   "cell_type": "code",
   "execution_count": 18,
   "metadata": {},
   "outputs": [
    {
     "data": {
      "text/plain": [
       "1"
      ]
     },
     "execution_count": 18,
     "metadata": {},
     "output_type": "execute_result"
    }
   ],
   "source": [
    "from random import choice\n",
    "choice([1,2,3])         # choice returns 1,2 or 3 randomly"
   ]
  },
  {
   "cell_type": "markdown",
   "metadata": {},
   "source": [
    "### from module_name import name as "
   ]
  },
  {
   "cell_type": "code",
   "execution_count": 19,
   "metadata": {},
   "outputs": [
    {
     "name": "stdout",
     "output_type": "stream",
     "text": [
      "In my choice\n"
     ]
    },
    {
     "data": {
      "text/plain": [
       "1"
      ]
     },
     "execution_count": 19,
     "metadata": {},
     "output_type": "execute_result"
    }
   ],
   "source": [
    "def choice():               # choice() is in this name space\n",
    "    print(\"In my choice\")\n",
    "\n",
    "choice()                    # calls choice() in this name scape as defined above\n",
    "\n",
    "from random import choice   # existing choice() function definition is lost\n",
    "choice([1,2,3])             # calls choice() from random module"
   ]
  },
  {
   "cell_type": "code",
   "execution_count": 20,
   "metadata": {},
   "outputs": [
    {
     "name": "stdout",
     "output_type": "stream",
     "text": [
      "In my choice()\n",
      "random.choice():  2\n",
      "In my choice()\n"
     ]
    }
   ],
   "source": [
    "def choice():\n",
    "    print(\"In my choice()\")\n",
    "\n",
    "choice()            \n",
    "\n",
    "from random import choice as pickfromlist # choice is imported with an alternate name\n",
    "print(\"random.choice(): \", pickfromlist([1,2,3]))\n",
    "\n",
    "choice()"
   ]
  },
  {
   "cell_type": "markdown",
   "metadata": {},
   "source": [
    "##  Package Import Syntax\n",
    "\n",
    "1. ```import <package_name>                # __init__.py will include modules```\n",
    "2. ```from <package_name> import *         # not recommended ```\n",
    "\n",
    "3. ```from <package_name> import <modules_name>[, <module_name> ...]```\n",
    "4. ```from <package_name> import <module_name> as <alt_name>```"
   ]
  },
  {
   "cell_type": "markdown",
   "metadata": {},
   "source": [
    "## Search Path\n",
    "- import sys; sys.path\n",
    "- Current directory if using python interpreter\n",
    "- Script Directory\n",
    "- PYTHONPATH environment variable\n",
    "- Python Installation Specific Path\n",
    "- sys.append('new path') to add new path"
   ]
  },
  {
   "cell_type": "markdown",
   "metadata": {},
   "source": [
    "## dir()\n",
    "- dir() tells about objects in current namespace\n",
    "- dir(name_of_module) tells about objects in name_of_module's namespace"
   ]
  },
  {
   "cell_type": "markdown",
   "metadata": {},
   "source": [
    "## sys.path\n",
    "- Stores the module and package search path"
   ]
  },
  {
   "cell_type": "markdown",
   "metadata": {},
   "source": [
    "## \\__name\\__ == \\__main\\__\n",
    "- Add test code in module by enclosing them within\n",
    "\n",
    "```\n",
    "if __name__ == \"__main__\":\n",
    "    test_module()\n",
    "```"
   ]
  },
  {
   "cell_type": "code",
   "execution_count": 24,
   "metadata": {},
   "outputs": [
    {
     "name": "stdout",
     "output_type": "stream",
     "text": [
      "pkg/sub_pkg_1/mod2.py\r\n",
      "pkg/sub_pkg_1/mod1.py\r\n",
      "pkg/mod5.py\r\n",
      "pkg/init.py\r\n",
      "pkg/all.py\r\n",
      "pkg/sub_pkg_2/sib_dot_mod.py\r\n",
      "pkg/sub_pkg_2/mod4.py\r\n",
      "pkg/sub_pkg_2/abs.py\r\n",
      "pkg/sub_pkg_2/sib_dot.py\r\n",
      "pkg/sub_pkg_2/rel.py\r\n",
      "pkg/sub_pkg_2/sib_dot_dot.py\r\n",
      "pkg/sub_pkg_2/mod3.py\r\n",
      "pkg/mod2.py\r\n",
      "pkg/mod1.py\r\n",
      "pkg/mod3.py\r\n"
     ]
    }
   ],
   "source": [
    "!find pkg -name \"*.py\""
   ]
  },
  {
   "cell_type": "code",
   "execution_count": 25,
   "metadata": {},
   "outputs": [
    {
     "name": "stdout",
     "output_type": "stream",
     "text": [
      "def foo():\r\n",
      "    print('[mod1] foo()')\r\n"
     ]
    }
   ],
   "source": [
    "!cat pkg/mod1.py"
   ]
  },
  {
   "cell_type": "code",
   "execution_count": 26,
   "metadata": {},
   "outputs": [
    {
     "name": "stdout",
     "output_type": "stream",
     "text": [
      "def bar():\r\n",
      "    print('[mod2] bar()')\r\n"
     ]
    }
   ],
   "source": [
    "!cat pkg/mod2.py"
   ]
  },
  {
   "cell_type": "markdown",
   "metadata": {},
   "source": [
    "## Import  Module Name"
   ]
  },
  {
   "cell_type": "code",
   "execution_count": 27,
   "metadata": {
    "scrolled": false
   },
   "outputs": [
    {
     "name": "stdout",
     "output_type": "stream",
     "text": [
      "[mod1] foo()\n",
      "[mod2] bar()\n"
     ]
    }
   ],
   "source": [
    "import pkg.mod1, pkg.mod2\n",
    "pkg.mod1.foo()\n",
    "pkg.mod2.bar()"
   ]
  },
  {
   "cell_type": "markdown",
   "metadata": {},
   "source": [
    "## From Module Name import Name"
   ]
  },
  {
   "cell_type": "code",
   "execution_count": 28,
   "metadata": {
    "scrolled": true
   },
   "outputs": [
    {
     "name": "stdout",
     "output_type": "stream",
     "text": [
      "[mod1] foo()\n",
      "[mod2] bar()\n"
     ]
    }
   ],
   "source": [
    "from  pkg.mod1 import foo\n",
    "from  pkg.mod2 import bar\n",
    "foo()\n",
    "bar()"
   ]
  },
  {
   "cell_type": "markdown",
   "metadata": {},
   "source": [
    "## Import As"
   ]
  },
  {
   "cell_type": "code",
   "execution_count": 29,
   "metadata": {
    "scrolled": false
   },
   "outputs": [
    {
     "name": "stdout",
     "output_type": "stream",
     "text": [
      "[mod1] foo()\n",
      "[mod2] bar()\n"
     ]
    }
   ],
   "source": [
    "from  pkg.mod1 import foo as Foo\n",
    "from  pkg.mod2 import bar as Bar\n",
    "Foo()\n",
    "Bar()"
   ]
  },
  {
   "cell_type": "markdown",
   "metadata": {},
   "source": [
    "## From Package import Module"
   ]
  },
  {
   "cell_type": "code",
   "execution_count": 30,
   "metadata": {
    "collapsed": true
   },
   "outputs": [],
   "source": [
    "from pkg import mod1, mod2"
   ]
  },
  {
   "cell_type": "code",
   "execution_count": 31,
   "metadata": {
    "scrolled": true
   },
   "outputs": [
    {
     "name": "stdout",
     "output_type": "stream",
     "text": [
      "[mod1] foo()\n",
      "[mod2] bar()\n"
     ]
    }
   ],
   "source": [
    "mod1.foo()\n",
    "mod2.bar()"
   ]
  },
  {
   "cell_type": "markdown",
   "metadata": {},
   "source": [
    "## From Package import Module As"
   ]
  },
  {
   "cell_type": "code",
   "execution_count": 32,
   "metadata": {
    "collapsed": true
   },
   "outputs": [],
   "source": [
    "from pkg import mod1 as module_1, mod2 as module_2"
   ]
  },
  {
   "cell_type": "code",
   "execution_count": 33,
   "metadata": {},
   "outputs": [
    {
     "name": "stdout",
     "output_type": "stream",
     "text": [
      "[mod1] foo()\n"
     ]
    }
   ],
   "source": [
    "module_1.foo()"
   ]
  },
  {
   "cell_type": "code",
   "execution_count": 34,
   "metadata": {},
   "outputs": [
    {
     "name": "stdout",
     "output_type": "stream",
     "text": [
      "[mod2] bar()\n"
     ]
    }
   ],
   "source": [
    "module_2.bar()"
   ]
  },
  {
   "cell_type": "markdown",
   "metadata": {},
   "source": [
    "## Package without \\_\\_init\\_\\_.py"
   ]
  },
  {
   "cell_type": "code",
   "execution_count": 1,
   "metadata": {},
   "outputs": [],
   "source": [
    "import pkg"
   ]
  },
  {
   "cell_type": "code",
   "execution_count": 2,
   "metadata": {
    "scrolled": true
   },
   "outputs": [
    {
     "ename": "AttributeError",
     "evalue": "module 'pkg' has no attribute 'mod1'",
     "output_type": "error",
     "traceback": [
      "\u001b[0;31m---------------------------------------------------------------------------\u001b[0m",
      "\u001b[0;31mAttributeError\u001b[0m                            Traceback (most recent call last)",
      "\u001b[0;32m<ipython-input-2-960f58e475c1>\u001b[0m in \u001b[0;36m<module>\u001b[0;34m()\u001b[0m\n\u001b[1;32m      1\u001b[0m \u001b[0;31m# Expect Attribute Error\u001b[0m\u001b[0;34m\u001b[0m\u001b[0;34m\u001b[0m\u001b[0m\n\u001b[1;32m      2\u001b[0m \u001b[0;31m# modules or subpackages will not be automatically import\u001b[0m\u001b[0;34m\u001b[0m\u001b[0;34m\u001b[0m\u001b[0m\n\u001b[0;32m----> 3\u001b[0;31m \u001b[0mpkg\u001b[0m\u001b[0;34m.\u001b[0m\u001b[0mmod1\u001b[0m\u001b[0;34m\u001b[0m\u001b[0m\n\u001b[0m",
      "\u001b[0;31mAttributeError\u001b[0m: module 'pkg' has no attribute 'mod1'"
     ]
    }
   ],
   "source": [
    "# Expect Attribute Error\n",
    "# modules or subpackages will not be automatically import\n",
    "pkg.mod1   "
   ]
  },
  {
   "cell_type": "markdown",
   "metadata": {},
   "source": [
    "## Package with \\_\\_init\\_\\_.py\n",
    "- copy init.py as \\_\\_init\\_\\_.py\n",
    "- restart kernel (esc zero zero)"
   ]
  },
  {
   "cell_type": "code",
   "execution_count": 6,
   "metadata": {},
   "outputs": [
    {
     "name": "stdout",
     "output_type": "stream",
     "text": [
      "print(\"In pkg/__init__.py\")\r\n",
      "\r\n",
      "import pkg.mod1"
     ]
    }
   ],
   "source": [
    "# only pkg.mod1 is imported.  pkg.mod2 is not being imported\n",
    "!cat pkg/__init__.py"
   ]
  },
  {
   "cell_type": "code",
   "execution_count": 7,
   "metadata": {},
   "outputs": [],
   "source": [
    "import pkg"
   ]
  },
  {
   "cell_type": "code",
   "execution_count": 8,
   "metadata": {
    "scrolled": false
   },
   "outputs": [
    {
     "data": {
      "text/plain": [
       "<module 'pkg.mod1' from '/home/kripa/python-for-beginners/ucsc/week-4a/pkg/mod1.py'>"
      ]
     },
     "execution_count": 8,
     "metadata": {},
     "output_type": "execute_result"
    }
   ],
   "source": [
    "pkg.mod1"
   ]
  },
  {
   "cell_type": "code",
   "execution_count": 12,
   "metadata": {},
   "outputs": [
    {
     "ename": "AttributeError",
     "evalue": "module 'pkg' has no attribute 'mod2'",
     "output_type": "error",
     "traceback": [
      "\u001b[0;31m---------------------------------------------------------------------------\u001b[0m",
      "\u001b[0;31mAttributeError\u001b[0m                            Traceback (most recent call last)",
      "\u001b[0;32m<ipython-input-12-ddec3b01bf9b>\u001b[0m in \u001b[0;36m<module>\u001b[0;34m()\u001b[0m\n\u001b[1;32m      1\u001b[0m \u001b[0;31m# Expect Attribute error. __init__.py does not import pkg.mod2\u001b[0m\u001b[0;34m\u001b[0m\u001b[0;34m\u001b[0m\u001b[0m\n\u001b[0;32m----> 2\u001b[0;31m \u001b[0mpkg\u001b[0m\u001b[0;34m.\u001b[0m\u001b[0mmod2\u001b[0m\u001b[0;34m.\u001b[0m\u001b[0mbar\u001b[0m\u001b[0;34m(\u001b[0m\u001b[0;34m)\u001b[0m\u001b[0;34m\u001b[0m\u001b[0m\n\u001b[0m",
      "\u001b[0;31mAttributeError\u001b[0m: module 'pkg' has no attribute 'mod2'"
     ]
    }
   ],
   "source": [
    "# Expect Attribute error. __init__.py does not import pkg.mod2\n",
    "pkg.mod2.bar()"
   ]
  },
  {
   "cell_type": "code",
   "execution_count": 13,
   "metadata": {
    "collapsed": true
   },
   "outputs": [],
   "source": [
    "from pkg import *"
   ]
  },
  {
   "cell_type": "code",
   "execution_count": 14,
   "metadata": {},
   "outputs": [
    {
     "data": {
      "text/plain": [
       "['In',\n",
       " 'Out',\n",
       " '_',\n",
       " '_2',\n",
       " '_8',\n",
       " '__',\n",
       " '___',\n",
       " '__builtin__',\n",
       " '__builtins__',\n",
       " '__doc__',\n",
       " '__loader__',\n",
       " '__name__',\n",
       " '__package__',\n",
       " '__spec__',\n",
       " '_dh',\n",
       " '_exit_code',\n",
       " '_i',\n",
       " '_i1',\n",
       " '_i10',\n",
       " '_i11',\n",
       " '_i12',\n",
       " '_i13',\n",
       " '_i14',\n",
       " '_i2',\n",
       " '_i3',\n",
       " '_i4',\n",
       " '_i5',\n",
       " '_i6',\n",
       " '_i7',\n",
       " '_i8',\n",
       " '_i9',\n",
       " '_ih',\n",
       " '_ii',\n",
       " '_iii',\n",
       " '_oh',\n",
       " '_sh',\n",
       " 'exit',\n",
       " 'get_ipython',\n",
       " 'mod1',\n",
       " 'pkg',\n",
       " 'quit']"
      ]
     },
     "execution_count": 14,
     "metadata": {},
     "output_type": "execute_result"
    }
   ],
   "source": [
    "dir()"
   ]
  },
  {
   "cell_type": "code",
   "execution_count": 15,
   "metadata": {},
   "outputs": [
    {
     "name": "stdout",
     "output_type": "stream",
     "text": [
      "[mod1] foo()\n"
     ]
    }
   ],
   "source": [
    "pkg.mod1.foo()"
   ]
  },
  {
   "cell_type": "markdown",
   "metadata": {},
   "source": [
    "## \\_\\_all\\_\\_ in  Package\n",
    "- copy all.py and rename it as \\_\\_init\\_\\_.py\n",
    "- restart kernel (esc zero zero)"
   ]
  },
  {
   "cell_type": "code",
   "execution_count": 4,
   "metadata": {},
   "outputs": [
    {
     "name": "stdout",
     "output_type": "stream",
     "text": [
      "print(\"In pkg/__init__.py\")\r\n",
      "\r\n",
      "__all__ = [ 'mod1' ]"
     ]
    }
   ],
   "source": [
    "# only mod1 is in the __all__ list\n",
    "!cat pkg/__init__.py"
   ]
  },
  {
   "cell_type": "code",
   "execution_count": 1,
   "metadata": {},
   "outputs": [
    {
     "name": "stdout",
     "output_type": "stream",
     "text": [
      "In pkg/__init__.py\n"
     ]
    }
   ],
   "source": [
    "from pkg import *"
   ]
  },
  {
   "cell_type": "code",
   "execution_count": 2,
   "metadata": {},
   "outputs": [
    {
     "data": {
      "text/plain": [
       "['In',\n",
       " 'Out',\n",
       " '_',\n",
       " '__',\n",
       " '___',\n",
       " '__builtin__',\n",
       " '__builtins__',\n",
       " '__doc__',\n",
       " '__loader__',\n",
       " '__name__',\n",
       " '__package__',\n",
       " '__spec__',\n",
       " '_dh',\n",
       " '_i',\n",
       " '_i1',\n",
       " '_i2',\n",
       " '_ih',\n",
       " '_ii',\n",
       " '_iii',\n",
       " '_oh',\n",
       " '_sh',\n",
       " 'exit',\n",
       " 'get_ipython',\n",
       " 'mod1',\n",
       " 'quit']"
      ]
     },
     "execution_count": 2,
     "metadata": {},
     "output_type": "execute_result"
    }
   ],
   "source": [
    "dir()"
   ]
  },
  {
   "cell_type": "code",
   "execution_count": 5,
   "metadata": {},
   "outputs": [
    {
     "name": "stdout",
     "output_type": "stream",
     "text": [
      "[mod1] foo()\n"
     ]
    }
   ],
   "source": [
    "mod1.foo()"
   ]
  },
  {
   "cell_type": "code",
   "execution_count": 7,
   "metadata": {},
   "outputs": [
    {
     "ename": "NameError",
     "evalue": "name 'mod2' is not defined",
     "output_type": "error",
     "traceback": [
      "\u001b[0;31m---------------------------------------------------------------------------\u001b[0m",
      "\u001b[0;31mNameError\u001b[0m                                 Traceback (most recent call last)",
      "\u001b[0;32m<ipython-input-7-02c2cdd5125f>\u001b[0m in \u001b[0;36m<module>\u001b[0;34m()\u001b[0m\n\u001b[0;32m----> 1\u001b[0;31m \u001b[0mmod2\u001b[0m\u001b[0;34m.\u001b[0m\u001b[0mbar\u001b[0m\u001b[0;34m(\u001b[0m\u001b[0;34m)\u001b[0m  \u001b[0;31m# Expect Attribute error.  __all__ does not have mod2\u001b[0m\u001b[0;34m\u001b[0m\u001b[0m\n\u001b[0m",
      "\u001b[0;31mNameError\u001b[0m: name 'mod2' is not defined"
     ]
    }
   ],
   "source": [
    "mod2.bar()  # Expect NameError.  __all__ does not have mod2"
   ]
  },
  {
   "cell_type": "markdown",
   "metadata": {},
   "source": [
    "## \\_\\_all\\_\\_ in  module\n"
   ]
  },
  {
   "cell_type": "code",
   "execution_count": 8,
   "metadata": {
    "collapsed": true
   },
   "outputs": [],
   "source": [
    "from pkg.mod3 import *"
   ]
  },
  {
   "cell_type": "code",
   "execution_count": 9,
   "metadata": {},
   "outputs": [
    {
     "name": "stdout",
     "output_type": "stream",
     "text": [
      "In mod3.py::spam()\n"
     ]
    }
   ],
   "source": [
    "spam()      # __all__ = ['spam'] im mod3.py"
   ]
  },
  {
   "cell_type": "code",
   "execution_count": 10,
   "metadata": {},
   "outputs": [
    {
     "ename": "NameError",
     "evalue": "name 'eggs' is not defined",
     "output_type": "error",
     "traceback": [
      "\u001b[0;31m---------------------------------------------------------------------------\u001b[0m",
      "\u001b[0;31mNameError\u001b[0m                                 Traceback (most recent call last)",
      "\u001b[0;32m<ipython-input-10-35567c358d36>\u001b[0m in \u001b[0;36m<module>\u001b[0;34m()\u001b[0m\n\u001b[0;32m----> 1\u001b[0;31m \u001b[0meggs\u001b[0m\u001b[0;34m(\u001b[0m\u001b[0;34m)\u001b[0m        \u001b[0;31m# NameError since __all__ does not include 'eggs'\u001b[0m\u001b[0;34m\u001b[0m\u001b[0m\n\u001b[0m",
      "\u001b[0;31mNameError\u001b[0m: name 'eggs' is not defined"
     ]
    }
   ],
   "source": [
    "eggs()      # NameError since __all__ does not include 'eggs'"
   ]
  },
  {
   "cell_type": "markdown",
   "metadata": {},
   "source": [
    "# Absolute Path"
   ]
  },
  {
   "cell_type": "code",
   "execution_count": 12,
   "metadata": {},
   "outputs": [
    {
     "name": "stdout",
     "output_type": "stream",
     "text": [
      "\r\n",
      "from pkg.sub_pkg_1.mod1 import foo\r\n",
      "\r\n",
      "def spam():\r\n",
      "    print(\"In pkg/sub_pkg_1/abs.py::spam()\")\r\n",
      "    foo()\r\n"
     ]
    }
   ],
   "source": [
    "!cat pkg/sub_pkg_2/abs.py"
   ]
  },
  {
   "cell_type": "code",
   "execution_count": 11,
   "metadata": {
    "scrolled": true
   },
   "outputs": [
    {
     "name": "stdout",
     "output_type": "stream",
     "text": [
      "In pkg/sub_pkg_1/abs.py::spam()\n",
      "In pkg/sub_pkg_1/mod1.py::foo()\n"
     ]
    }
   ],
   "source": [
    "import pkg.sub_pkg_2.abs\n",
    "\n",
    "pkg.sub_pkg_2.abs.spam()"
   ]
  },
  {
   "cell_type": "markdown",
   "metadata": {},
   "source": [
    "## Relative Path\n",
    "### from ..sub_pkg_1.mod1 import foo"
   ]
  },
  {
   "cell_type": "code",
   "execution_count": 13,
   "metadata": {},
   "outputs": [
    {
     "name": "stdout",
     "output_type": "stream",
     "text": [
      "from ..sub_pkg_1.mod1 import foo\r\n",
      "\r\n",
      "def spam():\r\n",
      "    print(\"In pkg/sub_pkg_2/rel.py::spam()\")\r\n",
      "    foo()\r\n"
     ]
    }
   ],
   "source": [
    "!cat pkg/sub_pkg_2/rel.py"
   ]
  },
  {
   "cell_type": "code",
   "execution_count": 14,
   "metadata": {
    "scrolled": true
   },
   "outputs": [
    {
     "name": "stdout",
     "output_type": "stream",
     "text": [
      "In pkg/sub_pkg_2/rel.py::spam()\n",
      "In pkg/sub_pkg_1/mod1.py::foo()\n"
     ]
    }
   ],
   "source": [
    "import pkg.sub_pkg_2.rel\n",
    "\n",
    "pkg.sub_pkg_2.rel.spam()"
   ]
  },
  {
   "cell_type": "markdown",
   "metadata": {},
   "source": [
    "### from . import mod4"
   ]
  },
  {
   "cell_type": "code",
   "execution_count": 16,
   "metadata": {},
   "outputs": [
    {
     "name": "stdout",
     "output_type": "stream",
     "text": [
      "from . import mod4\r\n",
      "\r\n",
      "def spam():\r\n",
      "    print(\"In pkg/sub_pkg_2/sib_dot.py::spam()\")\r\n",
      "    mod4.eggs()\r\n"
     ]
    }
   ],
   "source": [
    "!cat pkg/sub_pkg_2/sib_dot.py"
   ]
  },
  {
   "cell_type": "code",
   "execution_count": 18,
   "metadata": {
    "scrolled": true
   },
   "outputs": [
    {
     "name": "stdout",
     "output_type": "stream",
     "text": [
      "In pkg/sub_pkg_2/sib_dot.py::spam()\n",
      "In pkg/sub_pkg_2/mod4.py::eggs()\n"
     ]
    }
   ],
   "source": [
    "import pkg.sub_pkg_2.sib_dot\n",
    "\n",
    "pkg.sub_pkg_2.sib_dot.spam()"
   ]
  },
  {
   "cell_type": "markdown",
   "metadata": {},
   "source": [
    "### from .. import mod5"
   ]
  },
  {
   "cell_type": "code",
   "execution_count": 20,
   "metadata": {},
   "outputs": [
    {
     "name": "stdout",
     "output_type": "stream",
     "text": [
      "from .. import mod5\r\n",
      "\r\n",
      "def spam():\r\n",
      "    print(\"In pkg/sub_pkg_2/sib_dot_dot.py::spam()\")\r\n",
      "    mod5.baz()"
     ]
    }
   ],
   "source": [
    "!cat pkg/sub_pkg_2/sib_dot_dot.py"
   ]
  },
  {
   "cell_type": "code",
   "execution_count": 19,
   "metadata": {
    "scrolled": false
   },
   "outputs": [
    {
     "name": "stdout",
     "output_type": "stream",
     "text": [
      "In pkg/sub_pkg_2/sib_dot_dot.py::spam()\n",
      "[pkg] baz()\n"
     ]
    }
   ],
   "source": [
    "import pkg.sub_pkg_2.sib_dot_dot\n",
    "\n",
    "pkg.sub_pkg_2.sib_dot_dot.spam()"
   ]
  },
  {
   "cell_type": "markdown",
   "metadata": {},
   "source": [
    "### from .mod4 import eggs"
   ]
  },
  {
   "cell_type": "code",
   "execution_count": 22,
   "metadata": {},
   "outputs": [
    {
     "name": "stdout",
     "output_type": "stream",
     "text": [
      "from .mod4 import eggs\r\n",
      "\r\n",
      "def spam():\r\n",
      "    print(\"In pkg/sub_pkg_2/sib_dot_mod.py::spam()\")\r\n",
      "    eggs()\r\n"
     ]
    }
   ],
   "source": [
    "!cat pkg/sub_pkg_2/sib_dot_mod.py"
   ]
  },
  {
   "cell_type": "code",
   "execution_count": 21,
   "metadata": {},
   "outputs": [
    {
     "name": "stdout",
     "output_type": "stream",
     "text": [
      "In pkg/sub_pkg_2/sib_dot_mod.py::spam()\n",
      "In pkg/sub_pkg_2/mod4.py::eggs()\n"
     ]
    }
   ],
   "source": [
    "import pkg.sub_pkg_2.sib_dot_mod\n",
    "\n",
    "pkg.sub_pkg_2.sib_dot_mod.spam()"
   ]
  }
 ],
 "metadata": {
  "kernelspec": {
   "display_name": "Python 3",
   "language": "python",
   "name": "python3"
  },
  "language_info": {
   "codemirror_mode": {
    "name": "ipython",
    "version": 3
   },
   "file_extension": ".py",
   "mimetype": "text/x-python",
   "name": "python",
   "nbconvert_exporter": "python",
   "pygments_lexer": "ipython3",
   "version": "3.5.2"
  }
 },
 "nbformat": 4,
 "nbformat_minor": 2
}
