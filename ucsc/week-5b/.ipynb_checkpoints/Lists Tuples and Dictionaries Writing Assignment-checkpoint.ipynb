{
 "cells": [
  {
   "cell_type": "markdown",
   "metadata": {},
   "source": [
    "# Lists, Tuples and Dictionaries Writing Assignment"
   ]
  },
  {
   "cell_type": "markdown",
   "metadata": {},
   "source": [
    "## Perform the following operations on list1 = [-11, -4, 5, 12, 13, 14, 19]\n",
    "### - Find the number of elements in list1.\n",
    "### - Append 22 to list1.\n",
    "### - Pop element from index 3. \n",
    "### - Print the popped element as well as list1.\n",
    "### - Convert the list to tuple. Then print the tuple."
   ]
  },
  {
   "cell_type": "code",
   "execution_count": 13,
   "metadata": {},
   "outputs": [
    {
     "name": "stdout",
     "output_type": "stream",
     "text": [
      "After appending 22, the list now reads as:  [-11, -4, 5, 12, 13, 14, 19, 22]\n",
      "12 was popped from the list and the remaining elements are:  [-11, -4, 5, 13, 14, 19, 22]\n",
      "(-11, -4, 5, 13, 14, 19, 22)\n"
     ]
    }
   ],
   "source": [
    "list1 = [-11, -4, 5, 12, 13, 14, 19]\n",
    "len(list1)\n",
    "list1.append(22)\n",
    "print(\"After appending 22, the list now reads as: \", list1)\n",
    "p = list1.pop(3)\n",
    "print(p, \"was popped from the list and the remaining elements are: \", list1)\n",
    "list2 = tuple(list1)\n",
    "print(list2)"
   ]
  },
  {
   "cell_type": "markdown",
   "metadata": {},
   "source": [
    "## If t1 = (3, 6, 7, 11) perform all the following operations:\n",
    "### - Find the number of elements in t1.\n",
    "### - Concatenate t1 to t2 = (1, 2) and create t3.\n",
    "### - If possible append -4 to t3. If not, explain why not."
   ]
  },
  {
   "cell_type": "code",
   "execution_count": 29,
   "metadata": {},
   "outputs": [
    {
     "name": "stdout",
     "output_type": "stream",
     "text": [
      "The number of elements in t1 is:  4\n",
      "(3, 6, 7, 11, 1, 2)\n"
     ]
    }
   ],
   "source": [
    "t1 = (3, 6, 7, 11)\n",
    "t2 = (1, 2)\n",
    "print(\"The number of elements in t1 is: \",len(t1))\n",
    "t3 = t1 + t2\n",
    "print (t3)\n",
    "# t3.append(-4) # Results in AttributeError--cannot append to a tuple as the method does not exist in tuple"
   ]
  },
  {
   "cell_type": "markdown",
   "metadata": {},
   "source": [
    "## Create a dictionary with 5 key-values so that state is the key and its capital is the value. Print the dictionary."
   ]
  },
  {
   "cell_type": "code",
   "execution_count": 43,
   "metadata": {},
   "outputs": [
    {
     "name": "stdout",
     "output_type": "stream",
     "text": [
      "{'CA': 'Sacramento', 'WA': 'Olympia', 'OR': 'Salem', 'NY': 'Albany', 'TX': 'Austin'}\n"
     ]
    }
   ],
   "source": [
    "dictionary1 = {\"CA\": \"Sacramento\", \"WA\": \"Olympia\", \"OR\": \"Salem\", \"NY\": \"Albany\", \"TX\": \"Austin\"}\n",
    "print(dictionary1)"
   ]
  },
  {
   "cell_type": "markdown",
   "metadata": {},
   "source": [
    "## If dictionary1 = {12: \"Amazon\", 14: \"Nvidia\", 15: \"Tesla\"}. Perform required operations to get the following. If you can’t perform a specific operation, explain:\n",
    "### - The length of the dictionary?\n",
    "### - The value for 14?\n",
    "### - Print  the keys and values as lists.  \n",
    "### - Value for dictionary1[16]?"
   ]
  },
  {
   "cell_type": "code",
   "execution_count": 44,
   "metadata": {},
   "outputs": [],
   "source": [
    "dictionary1 = {12: \"Amazon\", 14: \"Nvidia\", 15: \"Tesla\"}"
   ]
  },
  {
   "cell_type": "code",
   "execution_count": 45,
   "metadata": {},
   "outputs": [
    {
     "data": {
      "text/plain": [
       "3"
      ]
     },
     "execution_count": 45,
     "metadata": {},
     "output_type": "execute_result"
    }
   ],
   "source": [
    "len(dictionary1)"
   ]
  },
  {
   "cell_type": "code",
   "execution_count": 46,
   "metadata": {},
   "outputs": [
    {
     "data": {
      "text/plain": [
       "'Nvidia'"
      ]
     },
     "execution_count": 46,
     "metadata": {},
     "output_type": "execute_result"
    }
   ],
   "source": [
    "dictionary1[14]"
   ]
  },
  {
   "cell_type": "code",
   "execution_count": 49,
   "metadata": {},
   "outputs": [
    {
     "ename": "AttributeError",
     "evalue": "'dict' object has no attribute 'iteritems'",
     "output_type": "error",
     "traceback": [
      "\u001b[1;31m---------------------------------------------------------------------------\u001b[0m",
      "\u001b[1;31mAttributeError\u001b[0m                            Traceback (most recent call last)",
      "\u001b[1;32m<ipython-input-49-734bd3ee49ee>\u001b[0m in \u001b[0;36m<module>\u001b[1;34m()\u001b[0m\n\u001b[0;32m      4\u001b[0m \u001b[0mtemp\u001b[0m \u001b[1;33m=\u001b[0m \u001b[1;33m[\u001b[0m\u001b[1;33m]\u001b[0m\u001b[1;33m\u001b[0m\u001b[0m\n\u001b[0;32m      5\u001b[0m \u001b[0mdictlist\u001b[0m\u001b[1;33m=\u001b[0m\u001b[1;33m[\u001b[0m\u001b[1;33m]\u001b[0m\u001b[1;33m\u001b[0m\u001b[0m\n\u001b[1;32m----> 6\u001b[1;33m \u001b[1;32mfor\u001b[0m \u001b[0mkey\u001b[0m\u001b[1;33m,\u001b[0m \u001b[0mvalue\u001b[0m \u001b[1;32min\u001b[0m \u001b[0mdictionary1\u001b[0m\u001b[1;33m.\u001b[0m\u001b[0miteritems\u001b[0m\u001b[1;33m(\u001b[0m\u001b[1;33m)\u001b[0m\u001b[1;33m:\u001b[0m\u001b[1;33m\u001b[0m\u001b[0m\n\u001b[0m\u001b[0;32m      7\u001b[0m     \u001b[0mtemp\u001b[0m \u001b[1;33m=\u001b[0m \u001b[1;33m[\u001b[0m\u001b[0mkey\u001b[0m\u001b[1;33m,\u001b[0m\u001b[0mvalue\u001b[0m\u001b[1;33m]\u001b[0m\u001b[1;33m\u001b[0m\u001b[0m\n\u001b[0;32m      8\u001b[0m     \u001b[0mdictlist\u001b[0m\u001b[1;33m.\u001b[0m\u001b[0mappend\u001b[0m\u001b[1;33m(\u001b[0m\u001b[0mtemp\u001b[0m\u001b[1;33m)\u001b[0m\u001b[1;33m\u001b[0m\u001b[0m\n",
      "\u001b[1;31mAttributeError\u001b[0m: 'dict' object has no attribute 'iteritems'"
     ]
    }
   ],
   "source": [
    "#print(dictionary1.keys) # see lecture\n",
    "#for k in dictionary1.keys():\n",
    "#    print(k)\n",
    "temp = []\n",
    "dictlist=[]\n",
    "for key, value in dictionary1.iteritems():\n",
    "    temp = [key,value]\n",
    "    dictlist.append(temp)\n",
    "#dictionary1=list()\n",
    "#for i in range():\n",
    "#    dictionary1[str(i)] = list([i])\n",
    "#list"
   ]
  },
  {
   "cell_type": "code",
   "execution_count": 50,
   "metadata": {},
   "outputs": [
    {
     "ename": "KeyError",
     "evalue": "16",
     "output_type": "error",
     "traceback": [
      "\u001b[1;31m---------------------------------------------------------------------------\u001b[0m",
      "\u001b[1;31mKeyError\u001b[0m                                  Traceback (most recent call last)",
      "\u001b[1;32m<ipython-input-50-ce68a165c03d>\u001b[0m in \u001b[0;36m<module>\u001b[1;34m()\u001b[0m\n\u001b[1;32m----> 1\u001b[1;33m \u001b[0mprint\u001b[0m\u001b[1;33m(\u001b[0m\u001b[0mdictionary1\u001b[0m\u001b[1;33m[\u001b[0m\u001b[1;36m16\u001b[0m\u001b[1;33m]\u001b[0m\u001b[1;33m)\u001b[0m \u001b[1;31m#KeyError\u001b[0m\u001b[1;33m\u001b[0m\u001b[0m\n\u001b[0m",
      "\u001b[1;31mKeyError\u001b[0m: 16"
     ]
    }
   ],
   "source": [
    "print(dictionary1[16]) # Results in a KeyError because no key 16 was defined"
   ]
  },
  {
   "cell_type": "code",
   "execution_count": null,
   "metadata": {},
   "outputs": [],
   "source": []
  }
 ],
 "metadata": {
  "kernelspec": {
   "display_name": "Python 3",
   "language": "python",
   "name": "python3"
  },
  "language_info": {
   "codemirror_mode": {
    "name": "ipython",
    "version": 3
   },
   "file_extension": ".py",
   "mimetype": "text/x-python",
   "name": "python",
   "nbconvert_exporter": "python",
   "pygments_lexer": "ipython3",
   "version": "3.6.5"
  }
 },
 "nbformat": 4,
 "nbformat_minor": 2
}
