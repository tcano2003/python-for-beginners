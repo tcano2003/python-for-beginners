{
 "cells": [
  {
   "cell_type": "markdown",
   "metadata": {},
   "source": [
    "## Lecture 4\n",
    "-  Built-ins\n",
    "-  Basic import\n",
    "-  List vs Tuple\n",
    "-  iter() and next()\n",
    "-  Function definition and invocation\n",
    "-  Documenting a function\n",
    "-  Default arguments\n",
    "-  Global and local variables\n",
    "-  Variable arguments\n",
    "-  Experimentation"
   ]
  },
  {
   "cell_type": "markdown",
   "metadata": {},
   "source": [
    "## Builtin Functions\n",
    "-  Python has an extensive collections of useful functions\n",
    "   - The Python interpreter has a number of functions built into it that are always available\n",
    "     - **No import necessary**\n",
    "-  So far we have used a few of them namely:\n",
    "\n",
    "   - **print**(\"Hello World!\")  # outputs the string \"Hello World!\" on screen\n",
    "   - **type**(\"Hello World!\")   # finds out the type of the variable\n",
    "   - **int**(\"333\")             # converts a string \"333\" to integer 333\n",
    "   - **str**(33)                # converts an integer 33 to string \"33\"\n",
    "   - **input**(\"Enter an integer\") # read a string from standard-in (keyboard)\n",
    "   - **float**(\"3.1415\")        # converts a string \"3.1415\" into a float\n",
    "   - **bool('true')**           # returns True\n",
    "   - **id(3)**                  # unique id of object 3\n",
    "   - **range(start, stop [,step ])** Sequence of numbers from start to stop-1\n",
    "   - **enumerate(sequence)**      # returns index and value\n"
   ]
  },
  {
   "cell_type": "markdown",
   "metadata": {},
   "source": [
    "| Built-in Functions |\n",
    "| ---- |\t---- \t| ---- |\t---- \t| ---- |   \n",
    "| abs()  |\tdict() \t| help() |\tmin() \t| setattr() |\n",
    "| all() |\tdir() |\thex() |\tnext() |\tslice() |\n",
    "| any() |\tdivmod() |\tid() |\tobject() |\tsorted() |\n",
    "| ascii() |\tenumerate() |\tinput() |\toct() |\tstaticmethod() |\n",
    "| bin() |\teval() |\tint() |\topen() |\tstr() |\n",
    "| bool() |\texec() |\tisinstance() |\tord() |\tsum() |\n",
    "| bytearray() |\tfilter() |\tissubclass() |\tpow() |\tsuper() |\n",
    "| bytes() |\tfloat() |\titer() |\tprint() |\ttuple() |\n",
    "| callable() |\tformat() |\tlen() |\tproperty() |\ttype() |\n",
    "| chr() |\tfrozenset() |\tlist() |\trange() |\tvars() |\n",
    "| classmethod() |\tgetattr() |\tlocals() |\trepr() |\tzip() |\n",
    "| compile() |\tglobals() |\tmap() |\treversed() |\t |\n",
    "| complex() |\thasattr() |\tmax() |\tround() |\t \n",
    "| delattr() |\thash() |\tmemoryview() |\tset() |\t \n"
   ]
  },
  {
   "cell_type": "markdown",
   "metadata": {},
   "source": [
    "## Import"
   ]
  },
  {
   "cell_type": "markdown",
   "metadata": {},
   "source": [
    "- We looked into a few useful builtins, which are python functions availabe in the interpreter\n",
    "- There are **lot more amazing functions** available as **modules** in python\n",
    "  - There are python standard libraries and open source libraries/modules\n",
    "  - Think about them as separate python programs which we need to import them\n",
    "    - Basically include(import) them into our program to use them\n",
    "  - math is such a module which can be imported into our code\n",
    "  - We will look into importing in detail in later lectures\n",
    "  - **Modules contains variable, functions and classes**\n",
    "  - **modulue_name dot variable or function or class name** to access objects inside a moudle\n",
    "  - Lets look at a simple example"
   ]
  },
  {
   "cell_type": "markdown",
   "metadata": {},
   "source": [
    "## math"
   ]
  },
  {
   "cell_type": "code",
   "execution_count": null,
   "metadata": {
    "collapsed": true,
    "scrolled": true
   },
   "outputs": [],
   "source": [
    "import math    # math is the module name, pi is the object (variable) defined in math\n",
    "PI = math.pi   # all CAPS PI, coding convention that it is a constant"
   ]
  },
  {
   "cell_type": "code",
   "execution_count": null,
   "metadata": {
    "collapsed": true
   },
   "outputs": [],
   "source": [
    "math.sin(0)    # 0 radians, 2π == 360 degrees,"
   ]
  },
  {
   "cell_type": "code",
   "execution_count": null,
   "metadata": {
    "collapsed": true
   },
   "outputs": [],
   "source": [
    "math.cos(0)    # 0 radians, 2π == 360 degrees,"
   ]
  },
  {
   "cell_type": "code",
   "execution_count": null,
   "metadata": {
    "collapsed": true
   },
   "outputs": [],
   "source": [
    "math.sin(PI/2) # π/2 radians == 90 degress"
   ]
  },
  {
   "cell_type": "code",
   "execution_count": null,
   "metadata": {
    "collapsed": true
   },
   "outputs": [],
   "source": [
    "math.tan(PI/2)"
   ]
  },
  {
   "cell_type": "markdown",
   "metadata": {},
   "source": [
    "## Builtin Modules"
   ]
  },
  {
   "cell_type": "code",
   "execution_count": null,
   "metadata": {
    "collapsed": true,
    "scrolled": false
   },
   "outputs": [],
   "source": [
    "import sys\n",
    "sys.builtin_module_names  # note output is within (), read only(immutable) sequence which is a tuple"
   ]
  },
  {
   "cell_type": "markdown",
   "metadata": {},
   "source": [
    "## Keyword List"
   ]
  },
  {
   "cell_type": "code",
   "execution_count": null,
   "metadata": {
    "collapsed": true
   },
   "outputs": [],
   "source": [
    "import keyword\n",
    "keyword.kwlist  # note output is within [], mutable seuqence which is a list"
   ]
  },
  {
   "cell_type": "markdown",
   "metadata": {},
   "source": [
    "## List vs Tuple\n",
    "- containers are collections of objects\n",
    "  - items in a container can be of **any type**  (same or mixed types)\n",
    "- sequence\n",
    "- iterable\n",
    "- list is a **mutable** sequence of objects. It uses brackets [ ]  \n",
    "  - [ 3, 2, 1]\n",
    "  - ['hello', 'world']\n",
    "  - [ 1, 2, \"hello\", True, 5.0, [ 2,1,0 ] ]\n",
    "- tuple is **immutable (Read only) ** sequence of objecs. It uses paranthesis ()\n",
    "  - (3,2,1)\n",
    "  - (\"hello\", \"world\")\n",
    "- **iter(sequence)** returns **iterator**\n",
    "- **next(iterator)** returns the **next element**\n",
    "- Support membership operators *in* and **not in**"
   ]
  },
  {
   "cell_type": "code",
   "execution_count": null,
   "metadata": {
    "collapsed": true,
    "scrolled": false
   },
   "outputs": [],
   "source": [
    "3 in [ 3,2,1 ]   # list of 3 numbers, check 3 in  list with elements 3,2 and 1"
   ]
  },
  {
   "cell_type": "code",
   "execution_count": null,
   "metadata": {
    "collapsed": true,
    "scrolled": false
   },
   "outputs": [],
   "source": [
    "100 not in [ 3,2,1] # 100 not in list of 3, 2, 1"
   ]
  },
  {
   "cell_type": "code",
   "execution_count": null,
   "metadata": {
    "collapsed": true
   },
   "outputs": [],
   "source": [
    "\"world\" in ['hello', 'world']  # list of  2 strings. check membership of 'world' in list"
   ]
  },
  {
   "cell_type": "code",
   "execution_count": null,
   "metadata": {
    "collapsed": true
   },
   "outputs": [],
   "source": [
    "'a' in ['a','e','i','o','u', 'A','E','I','O','U',]"
   ]
  },
  {
   "cell_type": "code",
   "execution_count": null,
   "metadata": {
    "collapsed": true
   },
   "outputs": [],
   "source": [
    "'z' in ['a','e','i','o','u', 'A','E','I','O','U',]"
   ]
  },
  {
   "cell_type": "markdown",
   "metadata": {},
   "source": [
    "## Try these out"
   ]
  },
  {
   "cell_type": "code",
   "execution_count": null,
   "metadata": {
    "collapsed": true
   },
   "outputs": [],
   "source": [
    "iterable = [ 3, 2, 1]          # most containers are iterable\n",
    "iterator = iter(iterable)      # returns a iterator\n",
    "type(iterator)"
   ]
  },
  {
   "cell_type": "code",
   "execution_count": null,
   "metadata": {
    "collapsed": true
   },
   "outputs": [],
   "source": [
    "next(iterator)                 #  next(iterator) returns the next item/element from sequence"
   ]
  },
  {
   "cell_type": "code",
   "execution_count": null,
   "metadata": {
    "collapsed": true
   },
   "outputs": [],
   "source": [
    "next(iterator)"
   ]
  },
  {
   "cell_type": "code",
   "execution_count": null,
   "metadata": {
    "collapsed": true
   },
   "outputs": [],
   "source": [
    "next(iterator)"
   ]
  },
  {
   "cell_type": "code",
   "execution_count": null,
   "metadata": {
    "collapsed": true
   },
   "outputs": [],
   "source": [
    "next(iterator)"
   ]
  },
  {
   "cell_type": "code",
   "execution_count": null,
   "metadata": {
    "collapsed": true
   },
   "outputs": [],
   "source": [
    "next(iterator)"
   ]
  },
  {
   "cell_type": "code",
   "execution_count": null,
   "metadata": {
    "collapsed": true
   },
   "outputs": [],
   "source": [
    "iterable = ( 'hello', 'world')\n",
    "iterator_one = iter(iterable)  # returns a iterator\n",
    "iterator_two = iter(iterable)  # returns a iterator"
   ]
  },
  {
   "cell_type": "code",
   "execution_count": null,
   "metadata": {
    "collapsed": true
   },
   "outputs": [],
   "source": [
    "next(iterator_one)"
   ]
  },
  {
   "cell_type": "code",
   "execution_count": null,
   "metadata": {
    "collapsed": true
   },
   "outputs": [],
   "source": [
    "next(iterator_one)"
   ]
  },
  {
   "cell_type": "code",
   "execution_count": null,
   "metadata": {
    "collapsed": true
   },
   "outputs": [],
   "source": [
    "next(iterator_one)  # iterator_one reached the end"
   ]
  },
  {
   "cell_type": "code",
   "execution_count": null,
   "metadata": {
    "collapsed": true
   },
   "outputs": [],
   "source": [
    "next(iterator_two) # iterator_two is not at the end as iterator_one"
   ]
  },
  {
   "cell_type": "markdown",
   "metadata": {},
   "source": [
    "# For loop can iterate any Sequence\n",
    "- Internally **for** calls iter() and next() on its sequence"
   ]
  },
  {
   "cell_type": "code",
   "execution_count": null,
   "metadata": {
    "collapsed": true
   },
   "outputs": [],
   "source": [
    "for s in \"Hello World!\":      # looping through a string\n",
    "    print(s, end='')"
   ]
  },
  {
   "cell_type": "code",
   "execution_count": null,
   "metadata": {
    "collapsed": true
   },
   "outputs": [],
   "source": [
    "for r in range(5):            # looping through a range\n",
    "    print(r, end=', ')"
   ]
  },
  {
   "cell_type": "code",
   "execution_count": null,
   "metadata": {
    "collapsed": true
   },
   "outputs": [],
   "source": [
    "for n in [3,2,1]:             # looping through a list list\n",
    "    print(n)"
   ]
  },
  {
   "cell_type": "code",
   "execution_count": null,
   "metadata": {
    "collapsed": true
   },
   "outputs": [],
   "source": [
    "for s in (\"hello\", \"world\"):  # looping through a tuple\n",
    "    print(s)"
   ]
  },
  {
   "cell_type": "code",
   "execution_count": null,
   "metadata": {
    "collapsed": true
   },
   "outputs": [],
   "source": [
    "intList = list(range(0,11))  # one way to create a list, convert range into a list\n",
    "intList"
   ]
  },
  {
   "cell_type": "markdown",
   "metadata": {},
   "source": [
    "### Dir"
   ]
  },
  {
   "cell_type": "markdown",
   "metadata": {},
   "source": [
    "- When you import a module, how would you know what exists in it\n",
    "- dir(module) to find out what is available in that module"
   ]
  },
  {
   "cell_type": "markdown",
   "metadata": {},
   "source": [
    "## List of Built-in Functions"
   ]
  },
  {
   "cell_type": "code",
   "execution_count": null,
   "metadata": {
    "collapsed": true
   },
   "outputs": [],
   "source": [
    "dir(__builtin__)   # try: dir(__builtin__)[79:]"
   ]
  },
  {
   "cell_type": "code",
   "execution_count": null,
   "metadata": {
    "collapsed": true
   },
   "outputs": [],
   "source": [
    "help(dir)"
   ]
  },
  {
   "cell_type": "code",
   "execution_count": null,
   "metadata": {
    "collapsed": true
   },
   "outputs": [],
   "source": [
    "dir(math)   # lists available functions, classes, names in math module"
   ]
  },
  {
   "cell_type": "code",
   "execution_count": null,
   "metadata": {
    "collapsed": true
   },
   "outputs": [],
   "source": [
    "help(math.sqrt)"
   ]
  },
  {
   "cell_type": "code",
   "execution_count": null,
   "metadata": {
    "collapsed": true
   },
   "outputs": [],
   "source": [
    "math.sqrt(16)  # 4**2 = 16"
   ]
  },
  {
   "cell_type": "code",
   "execution_count": null,
   "metadata": {
    "collapsed": true
   },
   "outputs": [],
   "source": [
    "help(math.pow)"
   ]
  },
  {
   "cell_type": "code",
   "execution_count": null,
   "metadata": {
    "collapsed": true
   },
   "outputs": [],
   "source": [
    "math.pow(2,2)  # returns floating point"
   ]
  },
  {
   "cell_type": "code",
   "execution_count": null,
   "metadata": {
    "collapsed": true
   },
   "outputs": [],
   "source": [
    "2 ** 2         # integer"
   ]
  },
  {
   "cell_type": "code",
   "execution_count": null,
   "metadata": {
    "collapsed": true
   },
   "outputs": [],
   "source": [
    "# convert from radians to degrees\n",
    "math.degrees(2*math.pi)   # 2π = 360 degrees"
   ]
  },
  {
   "cell_type": "code",
   "execution_count": null,
   "metadata": {
    "collapsed": true
   },
   "outputs": [],
   "source": [
    "math.degrees(math.pi)   # π = 180 degrees"
   ]
  },
  {
   "cell_type": "code",
   "execution_count": null,
   "metadata": {
    "collapsed": true
   },
   "outputs": [],
   "source": [
    "radians = math.radians(90)  # convert degres to radians\n",
    "radians"
   ]
  },
  {
   "cell_type": "code",
   "execution_count": null,
   "metadata": {
    "collapsed": true
   },
   "outputs": [],
   "source": [
    "math.sin(radians)  # sine(90) is 1"
   ]
  },
  {
   "cell_type": "code",
   "execution_count": null,
   "metadata": {
    "collapsed": true
   },
   "outputs": [],
   "source": [
    "math.cos(radians)  # sine(90) is 1"
   ]
  },
  {
   "cell_type": "code",
   "execution_count": null,
   "metadata": {
    "collapsed": true
   },
   "outputs": [],
   "source": [
    "math.tan(radians)  # sine(90) is 1"
   ]
  },
  {
   "cell_type": "markdown",
   "metadata": {},
   "source": [
    "## Datetime\n",
    "-  Represents date and time in some timezone"
   ]
  },
  {
   "cell_type": "code",
   "execution_count": null,
   "metadata": {
    "collapsed": true
   },
   "outputs": [],
   "source": [
    "import datetime"
   ]
  },
  {
   "cell_type": "code",
   "execution_count": null,
   "metadata": {
    "collapsed": true,
    "scrolled": true
   },
   "outputs": [],
   "source": [
    "\n",
    "#   datetime module has the following names (objects, functions, variables, classes)\n",
    "\n",
    "#  'date',\n",
    "#  'datetime',\n",
    "#  'datetime_CAPI',\n",
    "#  'time',\n",
    "#  'timedelta',\n",
    "#  'timezone',\n",
    "#  'tzinfo'\n",
    "\n",
    "dir(datetime)"
   ]
  },
  {
   "cell_type": "code",
   "execution_count": null,
   "metadata": {
    "collapsed": true,
    "scrolled": true
   },
   "outputs": [],
   "source": [
    "dir(datetime.datetime)"
   ]
  },
  {
   "cell_type": "code",
   "execution_count": null,
   "metadata": {
    "collapsed": true,
    "scrolled": true
   },
   "outputs": [],
   "source": [
    "print(datetime)"
   ]
  },
  {
   "cell_type": "code",
   "execution_count": null,
   "metadata": {
    "collapsed": true
   },
   "outputs": [],
   "source": [
    "print(datetime.datetime)  # classes are custom data types"
   ]
  },
  {
   "cell_type": "code",
   "execution_count": null,
   "metadata": {
    "collapsed": true
   },
   "outputs": [],
   "source": [
    "type(datetime.datetime)"
   ]
  },
  {
   "cell_type": "markdown",
   "metadata": {},
   "source": [
    "### Create a date object from module datetime"
   ]
  },
  {
   "cell_type": "code",
   "execution_count": null,
   "metadata": {
    "collapsed": true
   },
   "outputs": [],
   "source": [
    "dd = datetime.date()  # expect TypeError. It says year is required"
   ]
  },
  {
   "cell_type": "code",
   "execution_count": null,
   "metadata": {
    "collapsed": true
   },
   "outputs": [],
   "source": [
    "dd = datetime.date(2018)  # expect TypeError. It says month is required"
   ]
  },
  {
   "cell_type": "code",
   "execution_count": null,
   "metadata": {
    "collapsed": true
   },
   "outputs": [],
   "source": [
    "dd = datetime.date(2018,7)  # expect TypeError. It says day is required"
   ]
  },
  {
   "cell_type": "code",
   "execution_count": null,
   "metadata": {
    "collapsed": true,
    "scrolled": true
   },
   "outputs": [],
   "source": [
    "dd = datetime.date(2018,7,31)  # year, month date\n",
    "dd"
   ]
  },
  {
   "cell_type": "markdown",
   "metadata": {},
   "source": [
    "### datetime now"
   ]
  },
  {
   "cell_type": "code",
   "execution_count": null,
   "metadata": {
    "collapsed": true
   },
   "outputs": [],
   "source": [
    "datetime.datetime.now          # use () to call a function"
   ]
  },
  {
   "cell_type": "code",
   "execution_count": null,
   "metadata": {
    "collapsed": true
   },
   "outputs": [],
   "source": [
    "dt = datetime.datetime.now() # today's date\n",
    "dt"
   ]
  },
  {
   "cell_type": "code",
   "execution_count": null,
   "metadata": {
    "collapsed": true
   },
   "outputs": [],
   "source": [
    "print(dt)"
   ]
  },
  {
   "cell_type": "code",
   "execution_count": null,
   "metadata": {
    "collapsed": true
   },
   "outputs": [],
   "source": [
    "dt.date()"
   ]
  },
  {
   "cell_type": "code",
   "execution_count": null,
   "metadata": {
    "collapsed": true
   },
   "outputs": [],
   "source": [
    "print (\"year: %d, month: %d, day: %d\" % (dt.year, dt.month, dt.day))  # format specifier"
   ]
  },
  {
   "cell_type": "code",
   "execution_count": null,
   "metadata": {
    "collapsed": true
   },
   "outputs": [],
   "source": [
    "print (\"year: {} month: {}, day: {}\".format(dt.year, dt.month, dt.day))  # format method"
   ]
  },
  {
   "cell_type": "code",
   "execution_count": null,
   "metadata": {
    "collapsed": true
   },
   "outputs": [],
   "source": [
    "dt.time()"
   ]
  },
  {
   "cell_type": "code",
   "execution_count": null,
   "metadata": {
    "collapsed": true
   },
   "outputs": [],
   "source": [
    "print(\"hour:\", dt.hour, \"minute:\", dt.minute, \"second:\", dt.second)     # basic print"
   ]
  },
  {
   "cell_type": "code",
   "execution_count": null,
   "metadata": {
    "collapsed": true
   },
   "outputs": [],
   "source": [
    "holiday = datetime.datetime(2018, 7, 4)    # providing only year, month, day\n",
    "holiday.date(), holiday.time()"
   ]
  },
  {
   "cell_type": "code",
   "execution_count": null,
   "metadata": {
    "collapsed": true
   },
   "outputs": [],
   "source": [
    "holiday = datetime.datetime(2018, 7, 4, 20, 36, 44)  # providing year, month, day, hr,min,sec\n",
    "holiday.date(), holiday.time()"
   ]
  },
  {
   "cell_type": "code",
   "execution_count": null,
   "metadata": {
    "collapsed": true
   },
   "outputs": [],
   "source": [
    "holiday.utcnow()   # asking the holiday object what day and time is it now?"
   ]
  },
  {
   "cell_type": "markdown",
   "metadata": {},
   "source": [
    "## Time"
   ]
  },
  {
   "cell_type": "code",
   "execution_count": null,
   "metadata": {
    "collapsed": true
   },
   "outputs": [],
   "source": [
    "import time\n",
    "\n",
    "time.time()  # time in seconds since epoch 12:00 am jan 1, 1970, wall clock"
   ]
  },
  {
   "cell_type": "code",
   "execution_count": null,
   "metadata": {
    "collapsed": true
   },
   "outputs": [],
   "source": [
    "time.clock()   # cpu time"
   ]
  },
  {
   "cell_type": "code",
   "execution_count": null,
   "metadata": {
    "collapsed": true
   },
   "outputs": [],
   "source": [
    "time.sleep(1)  # sleep for 1 second"
   ]
  },
  {
   "cell_type": "code",
   "execution_count": null,
   "metadata": {
    "collapsed": true
   },
   "outputs": [],
   "source": [
    "tick = time.time()   # could also replace time.time() with time.clock()\n",
    "for _ in range(3):  # underscore _ is valid variable or index name\n",
    "    time.sleep(1)\n",
    "toc = time.time()    # could also replace time.time() with time.clock()\n",
    "print('Time elapsed: ', toc-tick)  # time.clock gives cpu time, time.time gives wall clock time"
   ]
  },
  {
   "cell_type": "code",
   "execution_count": null,
   "metadata": {
    "collapsed": true
   },
   "outputs": [],
   "source": [
    "localtime = time.localtime(time.time())\n",
    "localtime # not human easily human readable"
   ]
  },
  {
   "cell_type": "code",
   "execution_count": null,
   "metadata": {
    "collapsed": true
   },
   "outputs": [],
   "source": [
    "time.asctime(localtime)  # convert localtime into a string"
   ]
  },
  {
   "cell_type": "markdown",
   "metadata": {},
   "source": [
    "## Random"
   ]
  },
  {
   "cell_type": "code",
   "execution_count": null,
   "metadata": {
    "collapsed": true,
    "scrolled": true
   },
   "outputs": [],
   "source": [
    "help(random)"
   ]
  },
  {
   "cell_type": "code",
   "execution_count": 2,
   "metadata": {},
   "outputs": [],
   "source": [
    "import random"
   ]
  },
  {
   "cell_type": "code",
   "execution_count": null,
   "metadata": {
    "collapsed": true,
    "scrolled": true
   },
   "outputs": [],
   "source": [
    "random.randint(1,10)  # outputs a random integer number from 1 to 10 (both inclusive)"
   ]
  },
  {
   "cell_type": "code",
   "execution_count": null,
   "metadata": {
    "collapsed": true
   },
   "outputs": [],
   "source": [
    "random.choice([1,2,3,4])  # try: rerunning this cell using ctrl enter"
   ]
  },
  {
   "cell_type": "code",
   "execution_count": null,
   "metadata": {
    "collapsed": true
   },
   "outputs": [],
   "source": [
    "random.choice([\"helo\",\"hi\",\"good day\", \"Nǐ hǎo\"])  # try: running this cell few times using ctrl enter"
   ]
  },
  {
   "cell_type": "code",
   "execution_count": null,
   "metadata": {
    "collapsed": true
   },
   "outputs": [],
   "source": [
    "# random generates random values, if you want repeatable pseudo random, them seed\n",
    "for i  in range(10):\n",
    "    print(random.randint(1,5),end=' ')\n",
    "print()\n",
    "for i  in range(10):\n",
    "    print(random.randint(1,5),end=' ')"
   ]
  },
  {
   "cell_type": "markdown",
   "metadata": {},
   "source": [
    "## Seed\n",
    "- Easy to test if the random sequence are repeatable (**pseudo random**)\n",
    "- Can be called with no arguments\n",
    "- integer, string, or any object\n",
    "  - include datetime.date() or datetime.datetime.now()"
   ]
  },
  {
   "cell_type": "code",
   "execution_count": null,
   "metadata": {
    "collapsed": true
   },
   "outputs": [],
   "source": [
    "random.seed(100)        # can be called with no arguments\n",
    "for i  in range(10):\n",
    "\n",
    "    print(random.randint(1,5),end=' ')\n",
    "print()\n",
    "\n",
    "random.seed(100)        # using the same seed,, will restart the same sequence\n",
    "for i  in range(10):\n",
    "    print(random.randint(1,5),end=' ')"
   ]
  },
  {
   "cell_type": "code",
   "execution_count": null,
   "metadata": {
    "collapsed": true
   },
   "outputs": [],
   "source": [
    "random.random()       # produces a random number between 0 to 1"
   ]
  },
  {
   "cell_type": "code",
   "execution_count": null,
   "metadata": {
    "collapsed": true
   },
   "outputs": [],
   "source": [
    "random.uniform(9,10)"
   ]
  },
  {
   "cell_type": "code",
   "execution_count": 3,
   "metadata": {
    "scrolled": true
   },
   "outputs": [
    {
     "data": {
      "text/plain": [
       "0.1867765669522521"
      ]
     },
     "execution_count": 3,
     "metadata": {},
     "output_type": "execute_result"
    }
   ],
   "source": [
    "random.seed(\"random seed\")  # any hashable object can be passed\n",
    "random.random()"
   ]
  },
  {
   "cell_type": "code",
   "execution_count": 4,
   "metadata": {
    "scrolled": true
   },
   "outputs": [
    {
     "data": {
      "text/plain": [
       "0.6050087373154011"
      ]
     },
     "execution_count": 4,
     "metadata": {},
     "output_type": "execute_result"
    }
   ],
   "source": [
    "random.seed(\"random seed \")  # added an extra space\n",
    "random.random()"
   ]
  },
  {
   "cell_type": "code",
   "execution_count": null,
   "metadata": {
    "collapsed": true
   },
   "outputs": [],
   "source": [
    "abs(hash(\"random seed\") - hash(\"random seed \"))  # added 1 space after seed"
   ]
  },
  {
   "cell_type": "markdown",
   "metadata": {},
   "source": [
    "## Functions\n",
    "    - Why functions?\n",
    "      - When we write python code, we are adding one statement at a time\n",
    "      - When we look back we would realize that few lines of code here and there keeps repeating\n",
    "      - If we find a defect in the repeated code we need to make changes to several places\n",
    "      - In that processes we could add more defects :)\n",
    "      - Wont it be nice to organize the repeated code?\n",
    "      \n",
    "    - What is a function?\n",
    "      - A named sequence of statement(s)\n",
    "      - It takes zero or more input parameters\n",
    "      - It returns zero or more output values\n",
    "      - It makes code reusable and modular\n",
    "      - Once a function is defined, we need to call or invoke that function"
   ]
  },
  {
   "cell_type": "markdown",
   "metadata": {},
   "source": [
    "![Function](images/Lecture-4.002.png)"
   ]
  },
  {
   "cell_type": "markdown",
   "metadata": {},
   "source": [
    "### Do Nothing Function"
   ]
  },
  {
   "cell_type": "markdown",
   "metadata": {},
   "source": [
    "![Function](images/Lecture-4.003.png)"
   ]
  },
  {
   "cell_type": "code",
   "execution_count": null,
   "metadata": {
    "collapsed": true
   },
   "outputs": [],
   "source": [
    "def do_nothing_function():  # function definition\n",
    "    pass                    # null operation\n",
    "\n",
    "do_nothing_function()       # function is called"
   ]
  },
  {
   "cell_type": "code",
   "execution_count": null,
   "metadata": {
    "collapsed": true
   },
   "outputs": [],
   "source": [
    "def foo(): pass             # single line function\n",
    "\n",
    "foo()"
   ]
  },
  {
   "cell_type": "code",
   "execution_count": null,
   "metadata": {
    "collapsed": true
   },
   "outputs": [],
   "source": [
    "def foo():                  # uses semicolon\n",
    "    ;                       # using pass is more readable\n",
    "\n",
    "foo()"
   ]
  },
  {
   "cell_type": "markdown",
   "metadata": {},
   "source": [
    "### Greetings Function"
   ]
  },
  {
   "cell_type": "code",
   "execution_count": null,
   "metadata": {
    "collapsed": true
   },
   "outputs": [],
   "source": [
    "def greetings():  # function definition\n",
    "    print(\"Greetings!\")\n",
    "\n",
    "greetings()       # function is called"
   ]
  },
  {
   "cell_type": "markdown",
   "metadata": {},
   "source": [
    "![Function](images/Lecture-4.004.png)"
   ]
  },
  {
   "cell_type": "markdown",
   "metadata": {},
   "source": [
    "### One Argument Function With no Return"
   ]
  },
  {
   "cell_type": "code",
   "execution_count": null,
   "metadata": {
    "collapsed": true
   },
   "outputs": [],
   "source": [
    "def greetingsAgain(message):     # function definition\n",
    "    print(message)\n",
    "\n",
    "greetingsAgain(\"Greetings!\")       # function is called()\n",
    "greetingsAgain(\"Hello!\") "
   ]
  },
  {
   "cell_type": "markdown",
   "metadata": {},
   "source": [
    "![Function](images/Lecture-4.005.png)"
   ]
  },
  {
   "cell_type": "markdown",
   "metadata": {},
   "source": [
    "### One Argument Function which Returns None"
   ]
  },
  {
   "cell_type": "code",
   "execution_count": null,
   "metadata": {
    "collapsed": true
   },
   "outputs": [],
   "source": [
    "def greetingsReturnsNone(message):     # function definition\n",
    "    print(message)\n",
    "    return                             # returns None\n",
    "\n",
    "nothing = greetingsAgain(\"Greetings!\") # function is called()\n",
    "type(nothing)"
   ]
  },
  {
   "cell_type": "markdown",
   "metadata": {},
   "source": [
    "![Function](images/Lecture-4.006.png)"
   ]
  },
  {
   "cell_type": "markdown",
   "metadata": {},
   "source": [
    "### One Argument Function Which Returns an Integer"
   ]
  },
  {
   "cell_type": "code",
   "execution_count": null,
   "metadata": {
    "collapsed": true
   },
   "outputs": [],
   "source": [
    "def multipyBy10(a):\n",
    "    result = a * 10\n",
    "    return result  # return can return values, expressions, lists etc\n",
    "\n",
    "TenTimes = multipyBy10(2)\n",
    "print (\"10 Times:\", TenTimes)"
   ]
  },
  {
   "cell_type": "code",
   "execution_count": null,
   "metadata": {
    "collapsed": true
   },
   "outputs": [],
   "source": [
    "def multipyBy10(a):\n",
    "    return a * 10             # return can return values, expressions, lists etc\n",
    "\n",
    "TenTimes = multipyBy10(2)\n",
    "print (\"10 Times:\", TenTimes)"
   ]
  },
  {
   "cell_type": "markdown",
   "metadata": {},
   "source": [
    "## Function using Sequence as argument"
   ]
  },
  {
   "cell_type": "code",
   "execution_count": null,
   "metadata": {
    "collapsed": true
   },
   "outputs": [],
   "source": [
    "def seqFunction(seq):   # string, list and tuples are sequences\n",
    "    for i in seq:\n",
    "        print(i, end=' ')"
   ]
  },
  {
   "cell_type": "code",
   "execution_count": null,
   "metadata": {
    "collapsed": true
   },
   "outputs": [],
   "source": [
    "seqFunction([1,2,3])   # passing list"
   ]
  },
  {
   "cell_type": "code",
   "execution_count": null,
   "metadata": {
    "collapsed": true,
    "scrolled": true
   },
   "outputs": [],
   "source": [
    "seqFunction((1,2,3))   # passing tuple"
   ]
  },
  {
   "cell_type": "code",
   "execution_count": null,
   "metadata": {
    "collapsed": true,
    "scrolled": true
   },
   "outputs": [],
   "source": [
    "seqFunction(\"abcdef\")   # passing a string"
   ]
  },
  {
   "cell_type": "markdown",
   "metadata": {},
   "source": [
    "## Function returning a List\n",
    "- **define an empty list**\n",
    "- repeatedly call **append()** to append items into the list"
   ]
  },
  {
   "cell_type": "code",
   "execution_count": null,
   "metadata": {
    "collapsed": true
   },
   "outputs": [],
   "source": [
    "def funcReturnList(n):\n",
    "    result = []          # create a empty list\n",
    "    for i in range(n):\n",
    "        result.append(i) # append items to the list\n",
    "    return result        # returns list\n",
    "\n",
    "\n",
    "x = funcReturnList(4)\n",
    "print(x)"
   ]
  },
  {
   "cell_type": "code",
   "execution_count": null,
   "metadata": {
    "collapsed": true
   },
   "outputs": [],
   "source": [
    "x = funcReturnList(2)\n",
    "print(x)"
   ]
  },
  {
   "cell_type": "markdown",
   "metadata": {},
   "source": [
    "## Function returning odd numbers"
   ]
  },
  {
   "cell_type": "code",
   "execution_count": 2,
   "metadata": {},
   "outputs": [
    {
     "data": {
      "text/plain": [
       "[1, 3, 5, 7, 9]"
      ]
     },
     "execution_count": 2,
     "metadata": {},
     "output_type": "execute_result"
    }
   ],
   "source": [
    "def funcOdd(inp):\n",
    "    result = []     # create an empty list\n",
    "    for i in inp:\n",
    "        if i % 2 == 0:\n",
    "            continue       # skip odd numbers\n",
    "        result.append(i)   # append even numbers\n",
    "    return result\n",
    "\n",
    "\n",
    "odd = funcOdd([1,2,3,4,5,6,7,8,9,10])\n",
    "odd"
   ]
  },
  {
   "cell_type": "markdown",
   "metadata": {},
   "source": [
    "### Can you modify the above function to return even numbers?"
   ]
  },
  {
   "cell_type": "markdown",
   "metadata": {},
   "source": [
    "![Function](images/Lecture-4.007.png)"
   ]
  },
  {
   "cell_type": "markdown",
   "metadata": {},
   "source": [
    "### Two Argument Function Which Returns Two Integers"
   ]
  },
  {
   "cell_type": "code",
   "execution_count": null,
   "metadata": {
    "collapsed": true
   },
   "outputs": [],
   "source": [
    "def areaPerimeter(length, width):\n",
    "    return length*width, 2*(length+width)\n",
    "\n",
    "length = 4\n",
    "width = 4\n",
    "area, perimeter = areaPerimeter(length, width)\n",
    "print (\"Area\", area, \"Perimeter\", perimeter)"
   ]
  },
  {
   "cell_type": "markdown",
   "metadata": {},
   "source": [
    "## Documenting a function\n",
    "-  Clear and concise documentation always helps\n",
    "-  The first line after the function **def** contains the function document\n",
    "-  Function document is a string\n",
    "-  String can be double or single or triple quoted\n",
    "-  How do you access a function document?\n",
    "   - functionName.\\__doc\\__"
   ]
  },
  {
   "cell_type": "code",
   "execution_count": null,
   "metadata": {
    "collapsed": true
   },
   "outputs": [],
   "source": [
    "def areaPerimeterDoc(length, width):\n",
    "    ''' \n",
    "    Calculates area and perimeter of a rectangle or a square \n",
    "    It takes length and width as parameters\n",
    "    Returns area and perimeter\n",
    "    '''\n",
    "    \n",
    "    return length*width, 2*(length+width)\n",
    "\n",
    "print(areaPerimeterDoc.__doc__)  # Accessing the function doc string"
   ]
  },
  {
   "cell_type": "markdown",
   "metadata": {},
   "source": [
    "## Default Argument\n",
    "- Argument defined at function **definition time**"
   ]
  },
  {
   "cell_type": "code",
   "execution_count": null,
   "metadata": {
    "collapsed": true
   },
   "outputs": [],
   "source": [
    "def defArgument(name=\"Everyone\"):\n",
    "    print (\"Hello\", name)\n",
    "\n",
    "defArgument()           # Using default argument \"Everyone\"\n",
    "defArgument(\"World!\")   # Overriding default argument"
   ]
  },
  {
   "cell_type": "markdown",
   "metadata": {},
   "source": [
    "## Mutable Arguments can be modified inside a function\n",
    "## Immutable Arguments are Read Only inside a function"
   ]
  },
  {
   "cell_type": "markdown",
   "metadata": {},
   "source": [
    "## Global and Local Variables"
   ]
  },
  {
   "cell_type": "code",
   "execution_count": null,
   "metadata": {
    "collapsed": true
   },
   "outputs": [],
   "source": [
    "def local():\n",
    "    print (\"local()::myLocal\", myLocal)  # myLocal is not defined. Expect NameError\n",
    "\n",
    "local()\n",
    "    "
   ]
  },
  {
   "cell_type": "code",
   "execution_count": null,
   "metadata": {
    "collapsed": true
   },
   "outputs": [],
   "source": [
    "def local():\n",
    "    print(\"local()::myLocal\", myLocal)  # myLocal is not defined in this function but defined elsewhere\n",
    "\n",
    "myLocal = 10  # myLocal defined outside the function local\n",
    "local()\n",
    "    "
   ]
  },
  {
   "cell_type": "code",
   "execution_count": null,
   "metadata": {
    "collapsed": true
   },
   "outputs": [],
   "source": [
    "def local():\n",
    "    myLocal = 100                      # a different myLocal variable, local to function\n",
    "    print(\"local()::myLocal\", myLocal)\n",
    "\n",
    "myLocal = 10   # myLocal defined outside the function local\n",
    "local()\n",
    "print(\"myLocal:\", myLocal)"
   ]
  },
  {
   "cell_type": "code",
   "execution_count": null,
   "metadata": {
    "collapsed": true
   },
   "outputs": [],
   "source": [
    "def local():\n",
    "    global myLocal   # declare myLocal is global and not local inside this function\n",
    "    myLocal = 100\n",
    "    print(\"local()::myLocal\", myLocal)\n",
    "\n",
    "myLocal = 10\n",
    "print(\"myLocal 1:\", myLocal)\n",
    "local()\n",
    "print(\"myLocal 2:\", myLocal)"
   ]
  },
  {
   "cell_type": "markdown",
   "metadata": {},
   "source": [
    "## Function with immutable parameters"
   ]
  },
  {
   "cell_type": "code",
   "execution_count": null,
   "metadata": {
    "collapsed": true
   },
   "outputs": [],
   "source": [
    "## Changing function arguments inside a function\n",
    "def local(x):\n",
    "    print(\"In Local Before, x: \", x)\n",
    "    x +=1 \n",
    "    print(\"In Local After,  x: \", x)\n",
    "    \n",
    "xx=1\n",
    "print(\"xx:\", xx)   # int, strings, floats are immutable\n",
    "local(xx)\n",
    "print(\"xx:\", xx)"
   ]
  },
  {
   "cell_type": "markdown",
   "metadata": {},
   "source": [
    "## Postional Arguments"
   ]
  },
  {
   "cell_type": "code",
   "execution_count": null,
   "metadata": {
    "collapsed": true,
    "scrolled": true
   },
   "outputs": [],
   "source": [
    "def keyword_arguments(first, second, third):\n",
    "    print(\"first: {} second: {} third: {}\".format(first, second,third))\n",
    "keyword_arguments(1,2,3)"
   ]
  },
  {
   "cell_type": "markdown",
   "metadata": {},
   "source": [
    "## Keyword Arguments"
   ]
  },
  {
   "cell_type": "code",
   "execution_count": null,
   "metadata": {
    "collapsed": true
   },
   "outputs": [],
   "source": [
    "keyword_arguments(first=1, second=2, third=1)  # position of arguments does not matter"
   ]
  },
  {
   "cell_type": "code",
   "execution_count": null,
   "metadata": {
    "collapsed": true
   },
   "outputs": [],
   "source": [
    "keyword_arguments(third=3, second=2, first=1)  # position of arguments does not matter"
   ]
  },
  {
   "cell_type": "markdown",
   "metadata": {},
   "source": [
    "## Variable Arguments (Optional)"
   ]
  },
  {
   "cell_type": "code",
   "execution_count": null,
   "metadata": {
    "collapsed": true
   },
   "outputs": [],
   "source": [
    "def variable_arguments(first_arg, *args):\n",
    "    print(\"First argument:\", first_arg)\n",
    "    for variable_args in args:\n",
    "        print(\"variable arguments:\", variable_args)"
   ]
  },
  {
   "cell_type": "code",
   "execution_count": null,
   "metadata": {
    "collapsed": true
   },
   "outputs": [],
   "source": [
    "variable_arguments(1, \"two\", 3)"
   ]
  },
  {
   "cell_type": "code",
   "execution_count": null,
   "metadata": {
    "collapsed": true
   },
   "outputs": [],
   "source": [
    "variable_arguments(1)"
   ]
  },
  {
   "cell_type": "code",
   "execution_count": null,
   "metadata": {
    "collapsed": true
   },
   "outputs": [],
   "source": [
    "def variable_arguments(*args):\n",
    "    for variable_args in args:\n",
    "        print(\"variable arguments:\", variable_args)"
   ]
  },
  {
   "cell_type": "code",
   "execution_count": null,
   "metadata": {
    "collapsed": true
   },
   "outputs": [],
   "source": [
    "variable_arguments(1, \"two\", 3)"
   ]
  },
  {
   "cell_type": "code",
   "execution_count": null,
   "metadata": {
    "collapsed": true
   },
   "outputs": [],
   "source": [
    "variable_arguments()"
   ]
  },
  {
   "cell_type": "code",
   "execution_count": null,
   "metadata": {
    "collapsed": true
   },
   "outputs": [],
   "source": [
    "def variable_arguments(*args, lastArg):\n",
    "    pass\n",
    "variable_arguments(1, \"two\", lastArg=3)"
   ]
  },
  {
   "cell_type": "markdown",
   "metadata": {},
   "source": [
    "## Variable Keyworded Arguments (Optional)"
   ]
  },
  {
   "cell_type": "code",
   "execution_count": null,
   "metadata": {
    "collapsed": true
   },
   "outputs": [],
   "source": [
    "def variable_keyworded_arguments(first_arg, **kwargs):\n",
    "    print(\"First argument:\", first_arg)\n",
    "    for key in kwargs:\n",
    "        print(\"Variable keyworded arg: %s: %s\" % (key, kwargs[key]))\n",
    "\n",
    "variable_keyworded_arguments(first_arg=1, myarg2=\"two\", myarg3=3)\n",
    "variable_keyworded_arguments(1, myarg2=\"two\", myarg3=3)\n"
   ]
  },
  {
   "cell_type": "markdown",
   "metadata": {},
   "source": [
    "## Experimentation\n",
    "-  define a function and print the function name\n",
    "-  provide parameters to a function which takes no arguments\n",
    "-  provide less parameter than the number of function arguments\n",
    "-  assign function return to less number of variables\n",
    "-  assign function name to a new variable\n",
    "-  reuse the same function name to different function def"
   ]
  },
  {
   "cell_type": "code",
   "execution_count": null,
   "metadata": {
    "collapsed": true
   },
   "outputs": [],
   "source": [
    "def foo():\n",
    "    pass\n",
    "print(foo)   #printing the name of a function"
   ]
  },
  {
   "cell_type": "code",
   "execution_count": null,
   "metadata": {
    "collapsed": true
   },
   "outputs": [],
   "source": [
    "def foo():\n",
    "    pass\n",
    "foo(1)  # passing an argument to function which accepts no arguments"
   ]
  },
  {
   "cell_type": "code",
   "execution_count": null,
   "metadata": {
    "collapsed": true
   },
   "outputs": [],
   "source": [
    "def foo(a,b):\n",
    "    pass\n",
    "foo(1)   # Function expects 2 arguments,  only one is being passed"
   ]
  },
  {
   "cell_type": "code",
   "execution_count": null,
   "metadata": {
    "collapsed": true
   },
   "outputs": [],
   "source": [
    "def foo():\n",
    "    return 1,2\n",
    "a = foo()     # Function returns 2 arguments\n",
    "a"
   ]
  },
  {
   "cell_type": "code",
   "execution_count": null,
   "metadata": {
    "collapsed": true
   },
   "outputs": [],
   "source": [
    "def foo():\n",
    "    return 1,2\n",
    "a,b,c = foo()  # expecting only 2 return values"
   ]
  },
  {
   "cell_type": "code",
   "execution_count": null,
   "metadata": {
    "collapsed": true
   },
   "outputs": [],
   "source": [
    "def foo():\n",
    "    print(\"In foo\")\n",
    "newFoo = foo          # assigning a new name to foo() function\n",
    "newFoo()"
   ]
  },
  {
   "cell_type": "code",
   "execution_count": null,
   "metadata": {
    "collapsed": true
   },
   "outputs": [],
   "source": [
    "def foo():\n",
    "    print(\"In Foo\")\n",
    "\n",
    "foo()\n",
    "\n",
    "def foo():\n",
    "    print(\"In Different Foo\")\n",
    "\n",
    "foo()"
   ]
  },
  {
   "cell_type": "markdown",
   "metadata": {},
   "source": [
    "# \\*\\*Optional\\*\\*"
   ]
  },
  {
   "cell_type": "markdown",
   "metadata": {},
   "source": [
    "## Recursion\n",
    "- What happens when a function calls itself?\n",
    "- Could make solving some problems easier\n",
    "- But hard to understand and debug\n",
    "- **Need a terminating case else will lead to infinite calls**\n",
    "    - maximum recursion depth exceeded"
   ]
  },
  {
   "cell_type": "code",
   "execution_count": null,
   "metadata": {
    "collapsed": true
   },
   "outputs": [],
   "source": [
    "def recursion(i): \n",
    "    print(\"Going to call recursion({})...\".format(i))\n",
    "    recursion(i+1)   # will call until you run out of stack space\n",
    "\n",
    "recursion(1)"
   ]
  },
  {
   "cell_type": "markdown",
   "metadata": {},
   "source": [
    "## Factorial"
   ]
  },
  {
   "cell_type": "code",
   "execution_count": null,
   "metadata": {
    "collapsed": true
   },
   "outputs": [],
   "source": [
    "# Factorial of 1 is 1\n",
    "# Factorial of 2 is 1x2\n",
    "# Factorial of 3 is 1x2x3\n",
    "# Factorial of 4 is 1x2x3x4\n",
    "\n",
    "# Factorial of n is factorial of n-1 x n\n",
    "\n",
    "\n",
    "\n",
    "def factorial_forloop(n):\n",
    "    result = 1\n",
    "    for i in range(1,n+1):\n",
    "        result *=i\n",
    "    return result\n",
    "\n",
    "n=10\n",
    "f=factorial_forloop(n)\n",
    "print(\"Factorial of {} is {}\".format(n,f))\n",
    "print (\"1*2*3*4*5*6*7*8*9*10 = {}\".format( 1*2*3*4*5*6*7*8*9*10))"
   ]
  },
  {
   "cell_type": "code",
   "execution_count": null,
   "metadata": {
    "collapsed": true
   },
   "outputs": [],
   "source": [
    "# using recursion to calculate factorial\n",
    "def factorial(n):\n",
    "    if n == 1:\n",
    "        return 1\n",
    "    return n*factorial(n-1)\n",
    "\n",
    "x = factorial(10)\n",
    "print(\"factorial 10:\", x)"
   ]
  },
  {
   "cell_type": "code",
   "execution_count": null,
   "metadata": {
    "collapsed": true
   },
   "outputs": [],
   "source": [
    "#  Concise, using return if else and recursion\n",
    "def factorial(n):\n",
    "    return n*factorial(n-1) if n != 1 else 1\n",
    "\n",
    "x = factorial(10)\n",
    "print(\"factorial 10:\", x)"
   ]
  },
  {
   "cell_type": "markdown",
   "metadata": {},
   "source": [
    "## Fibonacci Series"
   ]
  },
  {
   "cell_type": "code",
   "execution_count": null,
   "metadata": {
    "collapsed": true
   },
   "outputs": [],
   "source": [
    "# 0, 1, sum of the last 2, ...\n",
    "# Calculating Fibonacci using While loop\n",
    "\n",
    "def fib_whileloop(n):\n",
    "    a,b = 0,1\n",
    "    while b <= num:\n",
    "        a,b = b, a+b\n",
    "    return a\n",
    "\n",
    "for i in range(10):\n",
    "    print(fib(i), end=' ')"
   ]
  },
  {
   "cell_type": "code",
   "execution_count": null,
   "metadata": {
    "collapsed": true
   },
   "outputs": [],
   "source": [
    "def fib(n):\n",
    "    if n<=1:\n",
    "        return n\n",
    "    else: return fib(n-1)+fib(n-2)\n",
    "\n",
    "for i in range(10):\n",
    "    print(fib(i), end=' ')"
   ]
  },
  {
   "cell_type": "code",
   "execution_count": null,
   "metadata": {
    "collapsed": true
   },
   "outputs": [],
   "source": [
    "# concise, using return if else\n",
    "def fib(n):\n",
    "    return n if n <=1 else fib(n-1)+fib(n-2)\n",
    "\n",
    "for i in range(10):\n",
    "    print(fib(i), end=' ')"
   ]
  },
  {
   "cell_type": "markdown",
   "metadata": {},
   "source": [
    "## Iterables vs. Iterators vs. Generators"
   ]
  },
  {
   "cell_type": "markdown",
   "metadata": {},
   "source": [
    "[Read](https://nvie.com/posts/iterators-vs-generators/)"
   ]
  },
  {
   "cell_type": "markdown",
   "metadata": {},
   "source": [
    "## Generator Functions"
   ]
  },
  {
   "cell_type": "code",
   "execution_count": null,
   "metadata": {
    "collapsed": true
   },
   "outputs": [],
   "source": [
    "def countThree():\n",
    "    yield 1\n",
    "    yield 2\n",
    "    yield 3"
   ]
  },
  {
   "cell_type": "code",
   "execution_count": null,
   "metadata": {
    "collapsed": true,
    "scrolled": true
   },
   "outputs": [],
   "source": [
    "for i in countThree():\n",
    "    print(i)"
   ]
  },
  {
   "cell_type": "markdown",
   "metadata": {},
   "source": [
    "## Generator Expressions"
   ]
  },
  {
   "cell_type": "code",
   "execution_count": null,
   "metadata": {
    "collapsed": true
   },
   "outputs": [],
   "source": [
    "countThree =  (x for x in range(1,4))  # replace () with [] and try again\n",
    "type(countThree)"
   ]
  },
  {
   "cell_type": "code",
   "execution_count": null,
   "metadata": {
    "collapsed": true
   },
   "outputs": [],
   "source": [
    "countThree"
   ]
  },
  {
   "cell_type": "code",
   "execution_count": null,
   "metadata": {
    "collapsed": true
   },
   "outputs": [],
   "source": [
    "for i in countThree:\n",
    "    print(i)"
   ]
  },
  {
   "cell_type": "code",
   "execution_count": null,
   "metadata": {
    "collapsed": true
   },
   "outputs": [],
   "source": [
    "for i in countThree:\n",
    "    print(i)"
   ]
  },
  {
   "cell_type": "markdown",
   "metadata": {},
   "source": [
    "## Map"
   ]
  },
  {
   "cell_type": "code",
   "execution_count": null,
   "metadata": {
    "collapsed": true
   },
   "outputs": [],
   "source": [
    "def int_to_str(x):\n",
    "    return str(x)"
   ]
  },
  {
   "cell_type": "code",
   "execution_count": null,
   "metadata": {
    "collapsed": true
   },
   "outputs": [],
   "source": [
    "x = map(even, [1,2,3,4,5,6])\n",
    "list(x)"
   ]
  },
  {
   "cell_type": "markdown",
   "metadata": {},
   "source": [
    "## Filter"
   ]
  },
  {
   "cell_type": "code",
   "execution_count": null,
   "metadata": {
    "collapsed": true
   },
   "outputs": [],
   "source": [
    "def even(x):\n",
    "    return True if not x % 2 else False"
   ]
  },
  {
   "cell_type": "code",
   "execution_count": null,
   "metadata": {
    "collapsed": true,
    "scrolled": true
   },
   "outputs": [],
   "source": [
    "x = filter(even, [1,2,3,4,5,6])\n",
    "list(x)"
   ]
  },
  {
   "cell_type": "markdown",
   "metadata": {},
   "source": [
    "## Lambda\n",
    "- Anonymous functions"
   ]
  },
  {
   "cell_type": "code",
   "execution_count": 371,
   "metadata": {},
   "outputs": [
    {
     "data": {
      "text/plain": [
       "[1, 3, 5]"
      ]
     },
     "execution_count": 371,
     "metadata": {},
     "output_type": "execute_result"
    }
   ],
   "source": [
    "odd = filter(lambda x: x % 2, [1,2,3,4,5,6])\n",
    "list(odd)"
   ]
  },
  {
   "cell_type": "markdown",
   "metadata": {},
   "source": [
    "## Reduce"
   ]
  },
  {
   "cell_type": "code",
   "execution_count": null,
   "metadata": {
    "collapsed": true
   },
   "outputs": [],
   "source": [
    "import functools\n",
    "def add(x,y):\n",
    "    return x+y"
   ]
  },
  {
   "cell_type": "code",
   "execution_count": null,
   "metadata": {
    "collapsed": true
   },
   "outputs": [],
   "source": [
    "functools.reduce(add, [1,2,3,4,5,6])"
   ]
  },
  {
   "cell_type": "markdown",
   "metadata": {},
   "source": [
    "## Recap\n",
    "- We looked into dir() a builtin\n",
    "- Looked into how we can import a python module using basic import statement\n",
    "  - we imported math, sys, random, datetime and time modules\n",
    "-  List and tuples (mutable and immutable containers or sequences)\n",
    "-  How to define functions and call them\n",
    "-  How functionName.\\__doc\\__ displays a function's document string\n",
    "-  Default arguments which provide default values which can be overridden by the caller\n",
    "-  Global and local variables scope within function\n",
    "-  Functions with immutable parameters\n",
    "-  Variable and keyworded arguments"
   ]
  },
  {
   "cell_type": "markdown",
   "metadata": {},
   "source": [
    "## Assignments\n",
    "- Functions Writing Assignment\n",
    "- Functions Assignment"
   ]
  },
  {
   "cell_type": "markdown",
   "metadata": {},
   "source": [
    "## Quiz\n",
    "- Quiz 4"
   ]
  },
  {
   "cell_type": "code",
   "execution_count": null,
   "metadata": {
    "collapsed": true
   },
   "outputs": [],
   "source": [
    "# Ignore this line"
   ]
  }
 ],
 "metadata": {
  "kernelspec": {
   "display_name": "Python 3",
   "language": "python",
   "name": "python3"
  },
  "language_info": {
   "codemirror_mode": {
    "name": "ipython",
    "version": 3
   },
   "file_extension": ".py",
   "mimetype": "text/x-python",
   "name": "python",
   "nbconvert_exporter": "python",
   "pygments_lexer": "ipython3",
   "version": "3.6.5"
  }
 },
 "nbformat": 4,
 "nbformat_minor": 2
}
