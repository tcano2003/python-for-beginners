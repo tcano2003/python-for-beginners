{
 "cells": [
  {
   "cell_type": "markdown",
   "metadata": {},
   "source": [
    "3. Define a simple_add function that takes two arguments v1, v2 and adds them and returns the value. Make a call to the function and pass 2 and 3."
   ]
  },
  {
   "cell_type": "code",
   "execution_count": 49,
   "metadata": {},
   "outputs": [
    {
     "name": "stdout",
     "output_type": "stream",
     "text": [
      "2  *  3 =  6\n"
     ]
    }
   ],
   "source": [
    "def simple_add(v1, v2):\n",
    "    ''' Multiplies integer variables v1 and v2 returns the result\n",
    "    '''\n",
    "    result = v1*v2\n",
    "    print(v1,' * ', v2, \"= \", result)\n",
    "simple_add(v1 = 2, v2 = 3)"
   ]
  },
  {
   "cell_type": "markdown",
   "metadata": {},
   "source": [
    "4. Define a concatenate_two function that takes first and last name and concatenates the two with a space in between them and returns the value. Make a call to the function and pass Captain and Cook"
   ]
  },
  {
   "cell_type": "code",
   "execution_count": null,
   "metadata": {},
   "outputs": [],
   "source": [
    "def concatenate_two(first_name, last_name):\n",
    "    ''' This function takes first name and last name and concatenates the\n",
    "        two names with a space in between them and returns a value\n",
    "    '''\n",
    "    full_name = first_name + \" \" + last_name\n",
    "    return full_name\n",
    "concatenate_two(first_name = 'Captain', last_name = 'Cook')"
   ]
  },
  {
   "cell_type": "code",
   "execution_count": null,
   "metadata": {},
   "outputs": [],
   "source": []
  }
 ],
 "metadata": {
  "kernelspec": {
   "display_name": "Python 3",
   "language": "python",
   "name": "python3"
  },
  "language_info": {
   "codemirror_mode": {
    "name": "ipython",
    "version": 3
   },
   "file_extension": ".py",
   "mimetype": "text/x-python",
   "name": "python",
   "nbconvert_exporter": "python",
   "pygments_lexer": "ipython3",
   "version": "3.6.5"
  }
 },
 "nbformat": 4,
 "nbformat_minor": 2
}
