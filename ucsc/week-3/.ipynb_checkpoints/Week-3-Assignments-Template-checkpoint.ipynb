{
 "cells": [
  {
   "cell_type": "markdown",
   "metadata": {},
   "source": [
    "# Functions Writing Assignment"
   ]
  },
  {
   "cell_type": "markdown",
   "metadata": {},
   "source": [
    "#### 1. Define a function raised_function that takes two values v1 and v2 and computes v1 raised to v2 and returns the value. Make a call to the function and supply 4 and 7. "
   ]
  },
  {
   "cell_type": "code",
   "execution_count": 59,
   "metadata": {},
   "outputs": [
    {
     "name": "stdout",
     "output_type": "stream",
     "text": [
      "In raised_function(): v1: 4, v2: 7\n",
      "In raised_function(): v1: 4, v2: 7 result: 16384\n"
     ]
    },
    {
     "data": {
      "text/plain": [
       "16384"
      ]
     },
     "execution_count": 59,
     "metadata": {},
     "output_type": "execute_result"
    }
   ],
   "source": [
    "def raised_function(v1, v2):\n",
    "    '''\n",
    "    Takes two values v1 and v2 and computes v1 raised to v2 and returns the value\n",
    "    '''\n",
    "    print(\"In raised_function(): v1: {}, v2: {}\".format(v1,v2))\n",
    "    \n",
    "    result = v1**v2\n",
    "    \n",
    "    print(\"In raised_function(): v1: {}, v2: {} result: {}\".format(v1,v2, result))\n",
    "    \n",
    "    return  result            # computes v1 raised to v2 and returns the value\n",
    "\n",
    "raised_function(v1=4, v2=7)"
   ]
  },
  {
   "cell_type": "markdown",
   "metadata": {},
   "source": [
    "#### 2. Define a function string_loop that takes a string and loops through it and prints only vowels. Make a call to the function and pass “compute”. "
   ]
  },
  {
   "cell_type": "code",
   "execution_count": 82,
   "metadata": {},
   "outputs": [
    {
     "ename": "SyntaxError",
     "evalue": "Missing parentheses in call to 'print'. Did you mean print(vowels)? (<ipython-input-82-529df9121ed4>, line 13)",
     "output_type": "error",
     "traceback": [
      "\u001b[1;36m  File \u001b[1;32m\"<ipython-input-82-529df9121ed4>\"\u001b[1;36m, line \u001b[1;32m13\u001b[0m\n\u001b[1;33m    print vowels\u001b[0m\n\u001b[1;37m               ^\u001b[0m\n\u001b[1;31mSyntaxError\u001b[0m\u001b[1;31m:\u001b[0m Missing parentheses in call to 'print'. Did you mean print(vowels)?\n"
     ]
    }
   ],
   "source": [
    "def string_loop(strIn):\n",
    "    '''\n",
    "    takes a string and loops through it and prints only vowels\n",
    "    '''\n",
    "    print(\"In string_loop(): strIn: {}\".format(strIn))\n",
    "    \n",
    "    vowels = []\n",
    "    for i in strIn:\n",
    "        if i in ('aeiouAEIOU'):\n",
    "            vowels.append(i)\n",
    "            print(\"In string_loop(), Result: {}\".format( vowels))\n",
    "            continue\n",
    "\n",
    "string_loop('compute')"
   ]
  },
  {
   "cell_type": "code",
   "execution_count": 80,
   "metadata": {},
   "outputs": [
    {
     "name": "stdout",
     "output_type": "stream",
     "text": [
      "\n",
      "    takes a string and loops through it and prints only vowels\n",
      "    \n"
     ]
    }
   ],
   "source": [
    "def string_loop(strIn):\n",
    "    '''\n",
    "    takes a string and loops through it and prints only vowels\n",
    "    '''\n",
    "strIn = \"compute\"\n",
    "vowels = [] \n",
    "for i in strIn:\n",
    "    if vowels in ('a','e','i','o','u','A','E','I','O','U'):\n",
    "        vowels.append(i)\n",
    "        print(\"In string_loop(), Result: {}\".format( vowels))\n",
    "        continue\n",
    "\n",
    "# test code\n",
    "\n",
    "print(string_loop.__doc__)\n",
    "ret = string_loop(\"aeiou\")\n",
    "ret = string_loop(\"AEIOU\")\n",
    "ret = string_loop(\"123456\")\n",
    "ret = string_loop(\"spam and eggs\")\n",
    "ret = string_loop(\"\")"
   ]
  },
  {
   "cell_type": "code",
   "execution_count": 66,
   "metadata": {},
   "outputs": [
    {
     "name": "stdout",
     "output_type": "stream",
     "text": [
      "In string_loop(): strIn: compute\n"
     ]
    }
   ],
   "source": [
    "string_loop(\"compute\")"
   ]
  },
  {
   "cell_type": "markdown",
   "metadata": {},
   "source": [
    "#### 3. Define a function string_len that takes a default value s1=“apples” and prints the length of the string. Call the function and don’t pass any arguments. Then call the function again and pass “watermelon”."
   ]
  },
  {
   "cell_type": "code",
   "execution_count": 13,
   "metadata": {},
   "outputs": [
    {
     "name": "stdout",
     "output_type": "stream",
     "text": [
      "In string_len(): s1: apples\n",
      "String: apples                          Length: 6\n",
      "In string_len(): s1: watermelon\n",
      "String: watermelon                      Length: 10\n"
     ]
    }
   ],
   "source": [
    "def string_len(s1=\"apples\"):\n",
    "    '''\n",
    "    takes a default value s1=“apples” and prints the length of the string\n",
    "    '''\n",
    "    print(\"In string_len(): s1: {}\".format(s1))\n",
    "    result = len(s1)   #  find the length of s1     \n",
    "    print(\"String: {:30s}  Length: {}\".format(s1, result))\n",
    "\n",
    "string_len()\n",
    "string_len(\"watermelon\")"
   ]
  },
  {
   "cell_type": "markdown",
   "metadata": {},
   "source": [
    "#### 4. Define a function mult_two that takes default arguments a = 10, b=11. The function should check if a is a multiple of b. In the function call, supply b = 7 and a = 21 in that order. "
   ]
  },
  {
   "cell_type": "code",
   "execution_count": 18,
   "metadata": {},
   "outputs": [
    {
     "name": "stdout",
     "output_type": "stream",
     "text": [
      "10 is NOT a multiple of 11\n",
      "21 is a multiple of 7\n"
     ]
    }
   ],
   "source": [
    "def mult_two(a=10, b=11):\n",
    "    '''\n",
    "    Takes default arguments a = 10, b=11. The function should check if a is a multiple of b\n",
    "    '''\n",
    "    \n",
    "    ## add your code here ##\n",
    "    if a % b == 0:\n",
    "        print(\"{} is a multiple of {}\".format(a,b))\n",
    "    else:\n",
    "        print(\"{} is NOT a multiple of {}\".format(a,b))\n",
    "mult_two()       # uses default argument for a and b\n",
    "mult_two( b = 7, a = 21)"
   ]
  },
  {
   "cell_type": "markdown",
   "metadata": {},
   "source": [
    "# Functions Assignment"
   ]
  },
  {
   "cell_type": "markdown",
   "metadata": {},
   "source": [
    "#### 1. If list1 = [21, 24, 27, 32, 36, 40].  Define a function called list_3and4 that would take a list and output another list with elements that are divisible by both 3 and 4. "
   ]
  },
  {
   "cell_type": "code",
   "execution_count": 58,
   "metadata": {},
   "outputs": [
    {
     "name": "stdout",
     "output_type": "stream",
     "text": [
      "In list_3and4(), Input: range(1, 145, 12)\n",
      "In list_3and4(), Result: []\n",
      "True\n",
      "In list_3and4(), Input: range(0, 145, 12)\n",
      "In list_3and4(), Result: [0, 12, 24, 36, 48, 60, 72, 84, 96, 108, 120, 132, 144]\n",
      "True\n"
     ]
    }
   ],
   "source": [
    "def list_3and4(seq): \n",
    "    '''\n",
    "     take a list and output another list with elements that are divisible by both 3 and 4\n",
    "    '''\n",
    "    \n",
    "    print(\"In list_3and4(), Input: {}\".format( seq))    # print seq\n",
    "    \n",
    "    result = []                        # initialize a new list\n",
    "    \n",
    "    for i in seq:                   # iterate thru seq\n",
    "        if i % 3 == 0 & i % 4 == 0:\n",
    "            result.append(i)            # append when divisible\n",
    "    print(\"In list_3and4(), Result: {}\".format( result))\n",
    "    return result                      # return newly created list\n",
    "\n",
    "# test code\n",
    "x = list_3and4(range(1,145,12))        # range is a sequence\n",
    "print(x == [])\n",
    "x = list_3and4(range(0,145,12))        # range is a sequence\n",
    "print(x == [0, 12, 24, 36, 48, 60, 72, 84, 96, 108, 120, 132, 144])"
   ]
  },
  {
   "cell_type": "code",
   "execution_count": 50,
   "metadata": {},
   "outputs": [
    {
     "name": "stdout",
     "output_type": "stream",
     "text": [
      "In list_3and4(), Input: [21, 24, 27, 32, 36, 40]\n",
      "In list_3and4(), Result: [21, 24, 27, 36]\n",
      "False\n"
     ]
    }
   ],
   "source": [
    "list1 = [21, 24, 27, 32, 36, 40]\n",
    "x = list_3and4(list1)\n",
    "print(x == [24, 36])"
   ]
  },
  {
   "cell_type": "markdown",
   "metadata": {},
   "source": [
    "#### 2. Define a function, write_vowels that takes a word and returns a list with vowels from the word. Call the function and pass totality."
   ]
  },
  {
   "cell_type": "code",
   "execution_count": 46,
   "metadata": {},
   "outputs": [
    {
     "name": "stdout",
     "output_type": "stream",
     "text": [
      "In write_vowels(), Input: totality\n",
      "In write_vowels(), Input: totality, Result: ['o', 'a', 'i']\n"
     ]
    },
    {
     "data": {
      "text/plain": [
       "['o', 'a', 'i']"
      ]
     },
     "execution_count": 46,
     "metadata": {},
     "output_type": "execute_result"
    }
   ],
   "source": [
    "def write_vowels(word):\n",
    "    '''\n",
    "    takes a word and returns a list with vowels from the word\n",
    "    '''\n",
    "    print(\"In write_vowels(), Input: {}\".format(word)) \n",
    "    vowels = []                   # create empty list to hold result\n",
    "    for i in word:\n",
    "        if i in ('aeiou'):## add your code here ##\n",
    "            vowels.append(i)      # append character if a vowel\n",
    "    print(\"In write_vowels(), Input: {}, Result: {}\".format( word, vowels))\n",
    "    return vowels\n",
    "\n",
    "write_vowels(\"totality\")"
   ]
  },
  {
   "cell_type": "code",
   "execution_count": null,
   "metadata": {},
   "outputs": [],
   "source": []
  }
 ],
 "metadata": {
  "kernelspec": {
   "display_name": "Python 3",
   "language": "python",
   "name": "python3"
  },
  "language_info": {
   "codemirror_mode": {
    "name": "ipython",
    "version": 3
   },
   "file_extension": ".py",
   "mimetype": "text/x-python",
   "name": "python",
   "nbconvert_exporter": "python",
   "pygments_lexer": "ipython3",
   "version": "3.6.5"
  }
 },
 "nbformat": 4,
 "nbformat_minor": 2
}
