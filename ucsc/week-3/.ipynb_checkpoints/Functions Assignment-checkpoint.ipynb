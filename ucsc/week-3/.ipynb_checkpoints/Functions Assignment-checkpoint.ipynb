{
 "cells": [
  {
   "cell_type": "markdown",
   "metadata": {},
   "source": [
    "#### 1. If list1 = [21, 24, 27, 32, 36, 40].  Define a function called list_3and4 that would take a list and output another list with elements that are divisible by both 3 and 4. "
   ]
  },
  {
   "cell_type": "code",
   "execution_count": 7,
   "metadata": {},
   "outputs": [
    {
     "name": "stdout",
     "output_type": "stream",
     "text": [
      "In list_3and4(), Input: [21, 24, 27, 32, 36, 40]\n",
      "In list_3and4(), Result: [24, 36]\n"
     ]
    },
    {
     "data": {
      "text/plain": [
       "[24, 36]"
      ]
     },
     "execution_count": 7,
     "metadata": {},
     "output_type": "execute_result"
    }
   ],
   "source": [
    "def list_3and4(list1): \n",
    "    '''\n",
    "     take a list and output another list with elements that are divisible by both 3 and 4\n",
    "    '''\n",
    "    \n",
    "    print(\"In list_3and4(), Input: {}\".format( list1))    # print seq\n",
    "    \n",
    "    result = []                        # initialize a new list\n",
    "    \n",
    "    for i in list1:                   # iterate thru seq\n",
    "        if i % 3 == 0 and i % 4 == 0:\n",
    "            result.append(i)            # append when divisible\n",
    "    print(\"In list_3and4(), Result: {}\".format( result))\n",
    "    return result                      # return newly created list\n",
    "\n",
    "list_3and4([21, 24, 27, 32, 36, 40])"
   ]
  },
  {
   "cell_type": "markdown",
   "metadata": {},
   "source": [
    "#### 2. Define a function, write_vowels that takes a word and returns a list with vowels from the word. Call the function and pass totality."
   ]
  },
  {
   "cell_type": "code",
   "execution_count": 8,
   "metadata": {},
   "outputs": [
    {
     "name": "stdout",
     "output_type": "stream",
     "text": [
      "In write_vowels(), Input: totality\n",
      "In write_vowels(), Input: totality, Result: ['o', 'a', 'i']\n"
     ]
    },
    {
     "data": {
      "text/plain": [
       "['o', 'a', 'i']"
      ]
     },
     "execution_count": 8,
     "metadata": {},
     "output_type": "execute_result"
    }
   ],
   "source": [
    "def write_vowels(word):\n",
    "    '''\n",
    "    takes a word and returns a list with vowels from the word\n",
    "    '''\n",
    "    print(\"In write_vowels(), Input: {}\".format(word)) \n",
    "    vowels = []                   # create empty list to hold result\n",
    "    for i in word:\n",
    "        if i in ('aeiou'):## add your code here ##\n",
    "            vowels.append(i)      # append character if a vowel\n",
    "    print(\"In write_vowels(), Input: {}, Result: {}\".format( word, vowels))\n",
    "    return vowels\n",
    "\n",
    "write_vowels(\"totality\")"
   ]
  },
  {
   "cell_type": "code",
   "execution_count": null,
   "metadata": {},
   "outputs": [],
   "source": []
  }
 ],
 "metadata": {
  "kernelspec": {
   "display_name": "Python 3",
   "language": "python",
   "name": "python3"
  },
  "language_info": {
   "codemirror_mode": {
    "name": "ipython",
    "version": 3
   },
   "file_extension": ".py",
   "mimetype": "text/x-python",
   "name": "python",
   "nbconvert_exporter": "python",
   "pygments_lexer": "ipython3",
   "version": "3.6.5"
  }
 },
 "nbformat": 4,
 "nbformat_minor": 2
}
