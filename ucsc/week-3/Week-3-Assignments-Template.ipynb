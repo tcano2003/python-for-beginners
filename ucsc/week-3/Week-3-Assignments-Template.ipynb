{
 "cells": [
  {
   "cell_type": "markdown",
   "metadata": {},
   "source": [
    "# Functions Writing Assignment"
   ]
  },
  {
   "cell_type": "markdown",
   "metadata": {},
   "source": [
    "#### 1. Define a function raised_function that takes two values v1 and v2 and computes v1 raised to v2 and returns the value. Make a call to the function and supply 4 and 7. "
   ]
  },
  {
   "cell_type": "code",
   "execution_count": 13,
   "metadata": {},
   "outputs": [
    {
     "name": "stdout",
     "output_type": "stream",
     "text": [
      "\n",
      "    Takes two values v1 and v2 and computes v1 raised to v2 and returns the value\n",
      "    \n",
      "In raised_function(): v1: 4, v2: 7\n",
      "In raised_function(): v1: 4, v2: 7 result: 16384\n"
     ]
    }
   ],
   "source": [
    "def raised_function(v1, v2):\n",
    "    '''\n",
    "    Takes two values v1 and v2 and computes v1 raised to v2 and returns the value\n",
    "    '''\n",
    "    v1 = 4\n",
    "    v2 = 7\n",
    "    print(\"In raised_function(): v1: {}, v2: {}\".format(v1,v2))\n",
    "    \n",
    "    result = v1**v2 ## add your code here ##\n",
    "    \n",
    "    print(\"In raised_function(): v1: {}, v2: {} result: {}\".format(v1,v2, result))\n",
    "    \n",
    "    return  result            # computes v1 raised to v2 and returns the value\n",
    "\n",
    "# test code\n",
    "print(raised_function.__doc__)\n",
    "ret = raised_function(4,0)"
   ]
  },
  {
   "cell_type": "code",
   "execution_count": 14,
   "metadata": {},
   "outputs": [
    {
     "name": "stdout",
     "output_type": "stream",
     "text": [
      "In raised_function(): v1: 4, v2: 7\n",
      "In raised_function(): v1: 4, v2: 7 result: 16384\n",
      "raised_function(4,7), returns: 16384\n"
     ]
    }
   ],
   "source": [
    "ret = raised_function(4, 7)\n",
    "print(\"raised_function({},{}), returns: {}\".format(4,7, ret))"
   ]
  },
  {
   "cell_type": "code",
   "execution_count": 15,
   "metadata": {},
   "outputs": [
    {
     "data": {
      "text/plain": [
       "True"
      ]
     },
     "execution_count": 15,
     "metadata": {},
     "output_type": "execute_result"
    }
   ],
   "source": [
    "# test code\n",
    "ret == 4 ** 7    # True means function worked"
   ]
  },
  {
   "cell_type": "markdown",
   "metadata": {},
   "source": [
    "#### 2. Define a function string_loop that takes a string and loops through it and prints only vowels. Make a call to the function and pass “compute”. "
   ]
  },
  {
   "cell_type": "code",
   "execution_count": 76,
   "metadata": {},
   "outputs": [
    {
     "name": "stdout",
     "output_type": "stream",
     "text": [
      "\n",
      "    takes a string and loops through it and prints only vowels\n",
      "    \n",
      "In string_loop(): strIn: aeiou\n",
      "In string_loop(): strIn: AEIOU\n",
      "In string_loop(): strIn: 123456\n",
      "In string_loop(): strIn: spam and eggs\n",
      "In string_loop(): strIn: \n"
     ]
    }
   ],
   "source": [
    "def string_loop(strIn):\n",
    "    '''\n",
    "    takes a string and loops through it and prints only vowels\n",
    "    '''\n",
    "    print(\"In string_loop(): strIn: {}\".format(strIn))\n",
    "    \n",
    "    ## add your code here ##\n",
    "    # using for loop iterate the string and look if character in string is a vowel\n",
    "    strIn = \"compute\"\n",
    "    vowels = [] # \n",
    "    for i in strIn:\n",
    "        if vowels in ('a','e','i','o','u','A','E','I','O','U'):\n",
    "        #if vowels in ('a','e','i','o','u','A','E','I','O','U'):\n",
    "   # for i in strIn:\n",
    "    #    if i in ['a','e','i','o','u','A','E','I','O','U']\n",
    "            vowels.append(i)\n",
    "            print(\"In string_loop(), Result: {}\".format( vowels))\n",
    "            continue\n",
    "\n",
    "# test code\n",
    "\n",
    "print(string_loop.__doc__)\n",
    "ret = string_loop(\"aeiou\")\n",
    "ret = string_loop(\"AEIOU\")\n",
    "ret = string_loop(\"123456\")\n",
    "ret = string_loop(\"spam and eggs\")\n",
    "ret = string_loop(\"\")"
   ]
  },
  {
   "cell_type": "code",
   "execution_count": 81,
   "metadata": {},
   "outputs": [
    {
     "name": "stdout",
     "output_type": "stream",
     "text": [
      "\n",
      "    takes a string and loops through it and prints only vowels\n",
      "    \n"
     ]
    }
   ],
   "source": [
    "def string_loop(strIn):\n",
    "    '''\n",
    "    takes a string and loops through it and prints only vowels\n",
    "    '''\n",
    "strIn = \"compute\"\n",
    "vowels = [] \n",
    "for i in strIn:\n",
    "    if vowels in ('a','e','i','o','u','A','E','I','O','U'):\n",
    "        vowels.append(i)\n",
    "        print(\"In string_loop(), Result: {}\".format( vowels))\n",
    "        continue\n",
    "\n",
    "# test code\n",
    "\n",
    "print(string_loop.__doc__)\n",
    "ret = string_loop(\"aeiou\")\n",
    "ret = string_loop(\"AEIOU\")\n",
    "ret = string_loop(\"123456\")\n",
    "ret = string_loop(\"spam and eggs\")\n",
    "ret = string_loop(\"\")"
   ]
  },
  {
   "cell_type": "code",
   "execution_count": 66,
   "metadata": {},
   "outputs": [
    {
     "name": "stdout",
     "output_type": "stream",
     "text": [
      "In string_loop(): strIn: compute\n"
     ]
    }
   ],
   "source": [
    "string_loop(\"compute\")"
   ]
  },
  {
   "cell_type": "markdown",
   "metadata": {},
   "source": [
    "#### 3. Define a function string_len that takes a default value s1=“apples” and prints the length of the string. Call the function and don’t pass any arguments. Then call the function again and pass “watermelon”."
   ]
  },
  {
   "cell_type": "code",
   "execution_count": 83,
   "metadata": {},
   "outputs": [
    {
     "ename": "SyntaxError",
     "evalue": "'break' outside loop (<ipython-input-83-1ff78e61cbb2>, line 7)",
     "output_type": "error",
     "traceback": [
      "\u001b[1;36m  File \u001b[1;32m\"<ipython-input-83-1ff78e61cbb2>\"\u001b[1;36m, line \u001b[1;32m7\u001b[0m\n\u001b[1;33m    break\u001b[0m\n\u001b[1;37m    ^\u001b[0m\n\u001b[1;31mSyntaxError\u001b[0m\u001b[1;31m:\u001b[0m 'break' outside loop\n"
     ]
    }
   ],
   "source": [
    "def string_len(s1=\"apples\"):\n",
    "    '''\n",
    "    takes a default value s1=“apples” and prints the length of the string\n",
    "    '''\n",
    "    print(\"In string_len(): s1: {}\".format(s1))\n",
    "    ## add your code here ##\n",
    "    \n",
    "    ## add your code here ##\n",
    "    result = 0   #  find the length of s1     \n",
    "    print(\"String: {:30s}  Length: {}\".format(s1, result))\n",
    "# test code\n",
    "string_len('1')\n",
    "string_len('12')\n",
    "string_len('')"
   ]
  },
  {
   "cell_type": "code",
   "execution_count": 1,
   "metadata": {},
   "outputs": [
    {
     "ename": "NameError",
     "evalue": "name 'string_len' is not defined",
     "output_type": "error",
     "traceback": [
      "\u001b[1;31m---------------------------------------------------------------------------\u001b[0m",
      "\u001b[1;31mNameError\u001b[0m                                 Traceback (most recent call last)",
      "\u001b[1;32m<ipython-input-1-4fe2232cefba>\u001b[0m in \u001b[0;36m<module>\u001b[1;34m()\u001b[0m\n\u001b[1;32m----> 1\u001b[1;33m \u001b[0mstring_len\u001b[0m\u001b[1;33m(\u001b[0m\u001b[1;33m)\u001b[0m                       \u001b[1;31m# uses default argument \"apples\"\u001b[0m\u001b[1;33m\u001b[0m\u001b[0m\n\u001b[0m\u001b[0;32m      2\u001b[0m \u001b[0mstring_len\u001b[0m\u001b[1;33m(\u001b[0m\u001b[1;34m\"watermelon\"\u001b[0m\u001b[1;33m)\u001b[0m\u001b[1;33m\u001b[0m\u001b[0m\n",
      "\u001b[1;31mNameError\u001b[0m: name 'string_len' is not defined"
     ]
    }
   ],
   "source": [
    "string_len()                       # uses default argument \"apples\"\n",
    "string_len(\"watermelon\")"
   ]
  },
  {
   "cell_type": "code",
   "execution_count": null,
   "metadata": {},
   "outputs": [],
   "source": [
    "# test code\n",
    "len('apples') == string_len()\n",
    "len(\"watermelon\") == string_len(\"watermelon\")"
   ]
  },
  {
   "cell_type": "markdown",
   "metadata": {},
   "source": [
    "#### 4. Define a function mult_two that takes default arguments a = 10, b=11. The function should check if a is a multiple of b. In the function call, supply b = 7 and a = 21 in that order. "
   ]
  },
  {
   "cell_type": "code",
   "execution_count": 4,
   "metadata": {},
   "outputs": [
    {
     "ename": "ZeroDivisionError",
     "evalue": "integer division or modulo by zero",
     "output_type": "error",
     "traceback": [
      "\u001b[1;31m---------------------------------------------------------------------------\u001b[0m",
      "\u001b[1;31mZeroDivisionError\u001b[0m                         Traceback (most recent call last)",
      "\u001b[1;32m<ipython-input-4-490084313cf7>\u001b[0m in \u001b[0;36m<module>\u001b[1;34m()\u001b[0m\n\u001b[0;32m     10\u001b[0m         \u001b[0mprint\u001b[0m\u001b[1;33m(\u001b[0m\u001b[1;34m\"{} is NOT a multiple of {}\"\u001b[0m\u001b[1;33m.\u001b[0m\u001b[0mformat\u001b[0m\u001b[1;33m(\u001b[0m\u001b[0ma\u001b[0m\u001b[1;33m,\u001b[0m\u001b[0mb\u001b[0m\u001b[1;33m)\u001b[0m\u001b[1;33m)\u001b[0m\u001b[1;33m\u001b[0m\u001b[0m\n\u001b[0;32m     11\u001b[0m \u001b[1;31m# test code\u001b[0m\u001b[1;33m\u001b[0m\u001b[1;33m\u001b[0m\u001b[0m\n\u001b[1;32m---> 12\u001b[1;33m \u001b[0mmult_two\u001b[0m\u001b[1;33m(\u001b[0m\u001b[1;33m)\u001b[0m       \u001b[1;31m# uses default argument for a and b\u001b[0m\u001b[1;33m\u001b[0m\u001b[0m\n\u001b[0m\u001b[0;32m     13\u001b[0m \u001b[0mmult_two\u001b[0m\u001b[1;33m(\u001b[0m\u001b[1;36m10\u001b[0m\u001b[1;33m,\u001b[0m\u001b[1;36m5\u001b[0m\u001b[1;33m)\u001b[0m\u001b[1;33m\u001b[0m\u001b[0m\n\u001b[0;32m     14\u001b[0m \u001b[0mmult_two\u001b[0m\u001b[1;33m(\u001b[0m \u001b[0ma\u001b[0m \u001b[1;33m=\u001b[0m \u001b[1;36m21\u001b[0m\u001b[1;33m,\u001b[0m \u001b[0mb\u001b[0m \u001b[1;33m=\u001b[0m \u001b[1;36m7\u001b[0m\u001b[1;33m)\u001b[0m\u001b[1;33m\u001b[0m\u001b[0m\n",
      "\u001b[1;32m<ipython-input-4-490084313cf7>\u001b[0m in \u001b[0;36mmult_two\u001b[1;34m(a, b)\u001b[0m\n\u001b[0;32m      5\u001b[0m \u001b[1;33m\u001b[0m\u001b[0m\n\u001b[0;32m      6\u001b[0m     \u001b[1;31m## add your code here ##\u001b[0m\u001b[1;33m\u001b[0m\u001b[1;33m\u001b[0m\u001b[0m\n\u001b[1;32m----> 7\u001b[1;33m     \u001b[1;32mif\u001b[0m \u001b[0ma\u001b[0m \u001b[1;33m%\u001b[0m \u001b[1;36m0\u001b[0m\u001b[1;33m:\u001b[0m\u001b[1;33m\u001b[0m\u001b[0m\n\u001b[0m\u001b[0;32m      8\u001b[0m         \u001b[0mprint\u001b[0m\u001b[1;33m(\u001b[0m\u001b[1;34m\"{} is a multiple of {}\"\u001b[0m\u001b[1;33m.\u001b[0m\u001b[0mformat\u001b[0m\u001b[1;33m(\u001b[0m\u001b[0ma\u001b[0m\u001b[1;33m,\u001b[0m\u001b[0mb\u001b[0m\u001b[1;33m)\u001b[0m\u001b[1;33m)\u001b[0m\u001b[1;33m\u001b[0m\u001b[0m\n\u001b[0;32m      9\u001b[0m     \u001b[1;32melse\u001b[0m\u001b[1;33m:\u001b[0m\u001b[1;33m\u001b[0m\u001b[0m\n",
      "\u001b[1;31mZeroDivisionError\u001b[0m: integer division or modulo by zero"
     ]
    }
   ],
   "source": [
    "def mult_two(a=10, b=11):\n",
    "    '''\n",
    "    Takes default arguments a = 10, b=11. The function should check if a is a multiple of b\n",
    "    '''\n",
    "    \n",
    "    ## add your code here ##\n",
    "    if ...\n",
    "        print(\"{} is a multiple of {}\".format(a,b))\n",
    "    else:\n",
    "        print(\"{} is NOT a multiple of {}\".format(a,b))\n",
    "# test code\n",
    "mult_two()       # uses default argument for a and b\n",
    "mult_two(10,5)\n",
    "mult_two( a = 21, b = 7)"
   ]
  },
  {
   "cell_type": "code",
   "execution_count": null,
   "metadata": {
    "scrolled": true
   },
   "outputs": [],
   "source": [
    "mult_two(b=7, a = 21)"
   ]
  },
  {
   "cell_type": "markdown",
   "metadata": {},
   "source": [
    "# Functions Assignment"
   ]
  },
  {
   "cell_type": "markdown",
   "metadata": {},
   "source": [
    "#### 1. If list1 = [21, 24, 27, 32, 36, 40].  Define a function called list_3and4 that would take a list and output another list with elements that are divisible by both 3 and 4. "
   ]
  },
  {
   "cell_type": "code",
   "execution_count": 12,
   "metadata": {},
   "outputs": [
    {
     "name": "stdout",
     "output_type": "stream",
     "text": [
      "In list_3and4(), Input: range(1, 145, 12)\n",
      "In list_3and4(), Result: []\n",
      "True\n",
      "In list_3and4(), Input: range(0, 145, 12)\n",
      "In list_3and4(), Result: [0, 12, 24, 36, 48, 60, 72, 84, 96, 108, 120, 132, 144]\n",
      "True\n"
     ]
    }
   ],
   "source": [
    "def list_3and4(seq): \n",
    "    '''\n",
    "     take a list and output another list with elements that are divisible by both 3 and 4\n",
    "    '''\n",
    "    \n",
    "    print(\"In list_3and4(), Input: {}\".format( seq))    # print seq\n",
    "    \n",
    "    result = []                        # initialize a new list\n",
    "    \n",
    "    for item in seq:                   # iterate thru seq\n",
    "        ## add your code here ##\n",
    "        result.append(item)            # append when divisible\n",
    "    \n",
    "    print(\"In list_3and4(), Result: {}\".format( result))\n",
    "    return result                      # return newly created list\n",
    "\n",
    "# test code\n",
    "x = list_3and4(range(1,145,12))        # range is a sequence\n",
    "print(x == [])\n",
    "x = list_3and4(range(0,145,12))        # range is a sequence\n",
    "print(x == [0, 12, 24, 36, 48, 60, 72, 84, 96, 108, 120, 132, 144])"
   ]
  },
  {
   "cell_type": "code",
   "execution_count": 14,
   "metadata": {},
   "outputs": [
    {
     "name": "stdout",
     "output_type": "stream",
     "text": [
      "In list_3and4(), Input: [21, 24, 27, 32, 36, 40]\n",
      "In list_3and4(), Result: [24, 36]\n",
      "True\n"
     ]
    }
   ],
   "source": [
    "list1 = [21, 24, 27, 32, 36, 40]\n",
    "x = list_3and4(list1)\n",
    "print(x == [24, 36])"
   ]
  },
  {
   "cell_type": "markdown",
   "metadata": {},
   "source": [
    "#### 2. Define a function, write_vowels that takes a word and returns a list with vowels from the word. Call the function and pass totality."
   ]
  },
  {
   "cell_type": "code",
   "execution_count": null,
   "metadata": {},
   "outputs": [],
   "source": [
    "def write_vowels(word):\n",
    "    '''\n",
    "    takes a word and returns a list with vowels from the word\n",
    "    '''\n",
    "\n",
    "    print(\"In write_vowels(), Input: {}\".format(word)) \n",
    "    vowels = []                   # create empty list to hold result\n",
    "    for i in word:\n",
    "        ## add your code here ##\n",
    "            vowels.append(i)      # append character if a vowel\n",
    "    print(\"In write_vowels(), Input: {}, Result: {}\".format( word, vowels))\n",
    "    return vowels"
   ]
  },
  {
   "cell_type": "code",
   "execution_count": null,
   "metadata": {},
   "outputs": [],
   "source": [
    "# test code\n",
    "v = write_vowels(\"aeiou\")\n",
    "v = write_vowels(\"AEIOU\")\n",
    "v = write_vowels(\"san francisco\")\n",
    "v"
   ]
  }
 ],
 "metadata": {
  "kernelspec": {
   "display_name": "Python 3",
   "language": "python",
   "name": "python3"
  },
  "language_info": {
   "codemirror_mode": {
    "name": "ipython",
    "version": 3
   },
   "file_extension": ".py",
   "mimetype": "text/x-python",
   "name": "python",
   "nbconvert_exporter": "python",
   "pygments_lexer": "ipython3",
   "version": "3.6.5"
  }
 },
 "nbformat": 4,
 "nbformat_minor": 2
}
