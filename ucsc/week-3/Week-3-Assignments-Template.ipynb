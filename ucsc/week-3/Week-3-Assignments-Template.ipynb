{
 "cells": [
  {
   "cell_type": "markdown",
   "metadata": {},
   "source": [
    "# Functions Writing Assignment"
   ]
  },
  {
   "cell_type": "markdown",
   "metadata": {},
   "source": [
    "#### 1. Define a function raised_function that takes two values v1 and v2 and computes v1 raised to v2 and returns the value. Make a call to the function and supply 4 and 7. "
   ]
  },
  {
   "cell_type": "code",
   "execution_count": 13,
   "metadata": {},
   "outputs": [
    {
     "name": "stdout",
     "output_type": "stream",
     "text": [
      "\n",
      "    Takes two values v1 and v2 and computes v1 raised to v2 and returns the value\n",
      "    \n",
      "In raised_function(): v1: 4, v2: 7\n",
      "In raised_function(): v1: 4, v2: 7 result: 16384\n"
     ]
    }
   ],
   "source": [
    "def raised_function(v1, v2):\n",
    "    '''\n",
    "    Takes two values v1 and v2 and computes v1 raised to v2 and returns the value\n",
    "    '''\n",
    "    v1 = 4\n",
    "    v2 = 7\n",
    "    print(\"In raised_function(): v1: {}, v2: {}\".format(v1,v2))\n",
    "    \n",
    "    result = v1**v2 ## add your code here ##\n",
    "    \n",
    "    print(\"In raised_function(): v1: {}, v2: {} result: {}\".format(v1,v2, result))\n",
    "    \n",
    "    return  result            # computes v1 raised to v2 and returns the value\n",
    "\n",
    "# test code\n",
    "print(raised_function.__doc__)\n",
    "ret = raised_function(4,0)"
   ]
  },
  {
   "cell_type": "code",
   "execution_count": 14,
   "metadata": {},
   "outputs": [
    {
     "name": "stdout",
     "output_type": "stream",
     "text": [
      "In raised_function(): v1: 4, v2: 7\n",
      "In raised_function(): v1: 4, v2: 7 result: 16384\n",
      "raised_function(4,7), returns: 16384\n"
     ]
    }
   ],
   "source": [
    "ret = raised_function(4, 7)\n",
    "print(\"raised_function({},{}), returns: {}\".format(4,7, ret))"
   ]
  },
  {
   "cell_type": "code",
   "execution_count": 15,
   "metadata": {},
   "outputs": [
    {
     "data": {
      "text/plain": [
       "True"
      ]
     },
     "execution_count": 15,
     "metadata": {},
     "output_type": "execute_result"
    }
   ],
   "source": [
    "# test code\n",
    "ret == 4 ** 7    # True means function worked"
   ]
  },
  {
   "cell_type": "markdown",
   "metadata": {},
   "source": [
    "#### 2. Define a function string_loop that takes a string and loops through it and prints only vowels. Make a call to the function and pass “compute”. "
   ]
  },
  {
   "cell_type": "code",
   "execution_count": 56,
   "metadata": {},
   "outputs": [
    {
     "name": "stdout",
     "output_type": "stream",
     "text": [
      "\n",
      "    takes a string and loops through it and prints only vowels\n",
      "    \n",
      "In string_loop(): strIn: aeiou\n"
     ]
    },
    {
     "ename": "TypeError",
     "evalue": "'in <string>' requires string as left operand, not tuple",
     "output_type": "error",
     "traceback": [
      "\u001b[1;31m---------------------------------------------------------------------------\u001b[0m",
      "\u001b[1;31mTypeError\u001b[0m                                 Traceback (most recent call last)",
      "\u001b[1;32m<ipython-input-56-449c4bd09495>\u001b[0m in \u001b[0;36m<module>\u001b[1;34m()\u001b[0m\n\u001b[0;32m     20\u001b[0m \u001b[1;33m\u001b[0m\u001b[0m\n\u001b[0;32m     21\u001b[0m \u001b[0mprint\u001b[0m\u001b[1;33m(\u001b[0m\u001b[0mstring_loop\u001b[0m\u001b[1;33m.\u001b[0m\u001b[0m__doc__\u001b[0m\u001b[1;33m)\u001b[0m\u001b[1;33m\u001b[0m\u001b[0m\n\u001b[1;32m---> 22\u001b[1;33m \u001b[0mret\u001b[0m \u001b[1;33m=\u001b[0m \u001b[0mstring_loop\u001b[0m\u001b[1;33m(\u001b[0m\u001b[1;34m\"aeiou\"\u001b[0m\u001b[1;33m)\u001b[0m\u001b[1;33m\u001b[0m\u001b[0m\n\u001b[0m\u001b[0;32m     23\u001b[0m \u001b[0mret\u001b[0m \u001b[1;33m=\u001b[0m \u001b[0mstring_loop\u001b[0m\u001b[1;33m(\u001b[0m\u001b[1;34m\"AEIOU\"\u001b[0m\u001b[1;33m)\u001b[0m\u001b[1;33m\u001b[0m\u001b[0m\n\u001b[0;32m     24\u001b[0m \u001b[0mret\u001b[0m \u001b[1;33m=\u001b[0m \u001b[0mstring_loop\u001b[0m\u001b[1;33m(\u001b[0m\u001b[1;34m\"123456\"\u001b[0m\u001b[1;33m)\u001b[0m\u001b[1;33m\u001b[0m\u001b[0m\n",
      "\u001b[1;32m<ipython-input-56-449c4bd09495>\u001b[0m in \u001b[0;36mstring_loop\u001b[1;34m(strIn)\u001b[0m\n\u001b[0;32m     10\u001b[0m     \u001b[0mvowels\u001b[0m \u001b[1;33m=\u001b[0m \u001b[1;33m(\u001b[0m\u001b[1;34m'a'\u001b[0m\u001b[1;33m,\u001b[0m\u001b[1;34m'e'\u001b[0m\u001b[1;33m,\u001b[0m\u001b[1;34m'i'\u001b[0m\u001b[1;33m,\u001b[0m\u001b[1;34m'o'\u001b[0m\u001b[1;33m,\u001b[0m\u001b[1;34m'u'\u001b[0m\u001b[1;33m,\u001b[0m\u001b[1;34m'A'\u001b[0m\u001b[1;33m,\u001b[0m\u001b[1;34m'E'\u001b[0m\u001b[1;33m,\u001b[0m\u001b[1;34m'I'\u001b[0m\u001b[1;33m,\u001b[0m\u001b[1;34m'O'\u001b[0m\u001b[1;33m,\u001b[0m\u001b[1;34m'U'\u001b[0m\u001b[1;33m)\u001b[0m\u001b[1;33m\u001b[0m\u001b[0m\n\u001b[0;32m     11\u001b[0m     \u001b[1;32mfor\u001b[0m \u001b[0mi\u001b[0m \u001b[1;32min\u001b[0m \u001b[0mstrIn\u001b[0m\u001b[1;33m:\u001b[0m\u001b[1;33m\u001b[0m\u001b[0m\n\u001b[1;32m---> 12\u001b[1;33m         \u001b[1;32mif\u001b[0m \u001b[0mvowels\u001b[0m \u001b[1;32min\u001b[0m \u001b[0mstrIn\u001b[0m\u001b[1;33m:\u001b[0m\u001b[1;33m\u001b[0m\u001b[0m\n\u001b[0m\u001b[0;32m     13\u001b[0m    \u001b[1;31m# for i in strIn:\u001b[0m\u001b[1;33m\u001b[0m\u001b[1;33m\u001b[0m\u001b[0m\n\u001b[0;32m     14\u001b[0m     \u001b[1;31m#    if i in ['a','e','i','o','u','A','E','I','O','U']\u001b[0m\u001b[1;33m\u001b[0m\u001b[1;33m\u001b[0m\u001b[0m\n",
      "\u001b[1;31mTypeError\u001b[0m: 'in <string>' requires string as left operand, not tuple"
     ]
    }
   ],
   "source": [
    "def string_loop(strIn):\n",
    "    '''\n",
    "    takes a string and loops through it and prints only vowels\n",
    "    '''\n",
    "    print(\"In string_loop(): strIn: {}\".format(strIn))\n",
    "    \n",
    "    ## add your code here ##\n",
    "    # using for loop iterate the string and look if character in string is a vowel\n",
    "    strIn = \"compute\"\n",
    "    vowels = [] # \n",
    "    for i in strIn:\n",
    "        if vowels in ('a','e','i','o','u','A','E','I','O','U'):\n",
    "        #if vowels in ('a','e','i','o','u','A','E','I','O','U'):\n",
    "   # for i in strIn:\n",
    "    #    if i in ['a','e','i','o','u','A','E','I','O','U']\n",
    "            continue\n",
    "        vowels.append(i)\n",
    "        print(\"In string_loop(), Result: {}\".format( vowels))\n",
    "\n",
    "# test code\n",
    "\n",
    "print(string_loop.__doc__)\n",
    "ret = string_loop(\"aeiou\")\n",
    "ret = string_loop(\"AEIOU\")\n",
    "ret = string_loop(\"123456\")\n",
    "ret = string_loop(\"spam and eggs\")\n",
    "ret = string_loop(\"\")"
   ]
  },
  {
   "cell_type": "code",
   "execution_count": 23,
   "metadata": {},
   "outputs": [
    {
     "name": "stdout",
     "output_type": "stream",
     "text": [
      "In string_loop(): strIn: compute\n",
      "In string_loop(), Result: ['c', 'm', 'p', 't']\n"
     ]
    }
   ],
   "source": [
    "string_loop(\"compute\")"
   ]
  },
  {
   "cell_type": "markdown",
   "metadata": {},
   "source": [
    "#### 3. Define a function string_len that takes a default value s1=“apples” and prints the length of the string. Call the function and don’t pass any arguments. Then call the function again and pass “watermelon”."
   ]
  },
  {
   "cell_type": "code",
   "execution_count": null,
   "metadata": {},
   "outputs": [],
   "source": [
    "def string_len(s1=\"apples\"):\n",
    "    '''\n",
    "    takes a default value s1=“apples” and prints the length of the string\n",
    "    '''\n",
    "    print(\"In string_len(): s1: {}\".format(s1))\n",
    "    ## add your code here ##\n",
    "    result = 0   #  find the length of s1     \n",
    "    print(\"String: {:30s}  Length: {}\".format(s1, result))\n",
    "# test code\n",
    "string_len('1')\n",
    "string_len('12')\n",
    "string_len('')"
   ]
  },
  {
   "cell_type": "code",
   "execution_count": null,
   "metadata": {},
   "outputs": [],
   "source": [
    "string_len()                       # uses default argument \"apples\"\n",
    "string_len(\"watermelon\")"
   ]
  },
  {
   "cell_type": "code",
   "execution_count": null,
   "metadata": {},
   "outputs": [],
   "source": [
    "# test code\n",
    "len('apples') == string_len()\n",
    "len(\"watermelon\") == string_len(\"watermelon\")"
   ]
  },
  {
   "cell_type": "markdown",
   "metadata": {},
   "source": [
    "#### 4. Define a function mult_two that takes default arguments a = 10, b=11. The function should check if a is a multiple of b. In the function call, supply b = 7 and a = 21 in that order. "
   ]
  },
  {
   "cell_type": "code",
   "execution_count": null,
   "metadata": {},
   "outputs": [],
   "source": [
    "def mult_two(a=10, b=11):\n",
    "    '''\n",
    "    Takes default arguments a = 10, b=11. The function should check if a is a multiple of b\n",
    "    '''\n",
    "    \n",
    "    ## add your code here ##\n",
    "    if ...\n",
    "        print(\"{} is a multiple of {}\".format(a,b))\n",
    "    else:\n",
    "        print(\"{} is NOT a multiple of {}\".format(a,b))\n",
    "# test code\n",
    "mult_two()       # uses default argument for a and b\n",
    "mult_two(10,5)\n",
    "mult_two( a = 21, b = 7)"
   ]
  },
  {
   "cell_type": "code",
   "execution_count": null,
   "metadata": {
    "scrolled": true
   },
   "outputs": [],
   "source": [
    "mult_two(b=7, a = 21)"
   ]
  },
  {
   "cell_type": "markdown",
   "metadata": {},
   "source": [
    "# Functions Assignment"
   ]
  },
  {
   "cell_type": "markdown",
   "metadata": {},
   "source": [
    "#### 1. If list1 = [21, 24, 27, 32, 36, 40].  Define a function called list_3and4 that would take a list and output another list with elements that are divisible by both 3 and 4. "
   ]
  },
  {
   "cell_type": "code",
   "execution_count": 12,
   "metadata": {},
   "outputs": [
    {
     "name": "stdout",
     "output_type": "stream",
     "text": [
      "In list_3and4(), Input: range(1, 145, 12)\n",
      "In list_3and4(), Result: []\n",
      "True\n",
      "In list_3and4(), Input: range(0, 145, 12)\n",
      "In list_3and4(), Result: [0, 12, 24, 36, 48, 60, 72, 84, 96, 108, 120, 132, 144]\n",
      "True\n"
     ]
    }
   ],
   "source": [
    "def list_3and4(seq): \n",
    "    '''\n",
    "     take a list and output another list with elements that are divisible by both 3 and 4\n",
    "    '''\n",
    "    \n",
    "    print(\"In list_3and4(), Input: {}\".format( seq))    # print seq\n",
    "    \n",
    "    result = []                        # initialize a new list\n",
    "    \n",
    "    for item in seq:                   # iterate thru seq\n",
    "        ## add your code here ##\n",
    "        result.append(item)            # append when divisible\n",
    "    \n",
    "    print(\"In list_3and4(), Result: {}\".format( result))\n",
    "    return result                      # return newly created list\n",
    "\n",
    "# test code\n",
    "x = list_3and4(range(1,145,12))        # range is a sequence\n",
    "print(x == [])\n",
    "x = list_3and4(range(0,145,12))        # range is a sequence\n",
    "print(x == [0, 12, 24, 36, 48, 60, 72, 84, 96, 108, 120, 132, 144])"
   ]
  },
  {
   "cell_type": "code",
   "execution_count": 14,
   "metadata": {},
   "outputs": [
    {
     "name": "stdout",
     "output_type": "stream",
     "text": [
      "In list_3and4(), Input: [21, 24, 27, 32, 36, 40]\n",
      "In list_3and4(), Result: [24, 36]\n",
      "True\n"
     ]
    }
   ],
   "source": [
    "list1 = [21, 24, 27, 32, 36, 40]\n",
    "x = list_3and4(list1)\n",
    "print(x == [24, 36])"
   ]
  },
  {
   "cell_type": "markdown",
   "metadata": {},
   "source": [
    "#### 2. Define a function, write_vowels that takes a word and returns a list with vowels from the word. Call the function and pass totality."
   ]
  },
  {
   "cell_type": "code",
   "execution_count": null,
   "metadata": {},
   "outputs": [],
   "source": [
    "def write_vowels(word):\n",
    "    '''\n",
    "    takes a word and returns a list with vowels from the word\n",
    "    '''\n",
    "\n",
    "    print(\"In write_vowels(), Input: {}\".format(word)) \n",
    "    vowels = []                   # create empty list to hold result\n",
    "    for i in word:\n",
    "        ## add your code here ##\n",
    "            vowels.append(i)      # append character if a vowel\n",
    "    print(\"In write_vowels(), Input: {}, Result: {}\".format( word, vowels))\n",
    "    return vowels"
   ]
  },
  {
   "cell_type": "code",
   "execution_count": null,
   "metadata": {},
   "outputs": [],
   "source": [
    "# test code\n",
    "v = write_vowels(\"aeiou\")\n",
    "v = write_vowels(\"AEIOU\")\n",
    "v = write_vowels(\"san francisco\")\n",
    "v"
   ]
  }
 ],
 "metadata": {
  "kernelspec": {
   "display_name": "Python 3",
   "language": "python",
   "name": "python3"
  },
  "language_info": {
   "codemirror_mode": {
    "name": "ipython",
    "version": 3
   },
   "file_extension": ".py",
   "mimetype": "text/x-python",
   "name": "python",
   "nbconvert_exporter": "python",
   "pygments_lexer": "ipython3",
   "version": "3.6.5"
  }
 },
 "nbformat": 4,
 "nbformat_minor": 2
}
