{
 "cells": [
  {
   "cell_type": "markdown",
   "metadata": {},
   "source": [
    "# Assignment Prep"
   ]
  },
  {
   "cell_type": "markdown",
   "metadata": {},
   "source": [
    "- Document function usage\n",
    "- Add single or multiline comments\n",
    "- print input and output parameters\n",
    "- Use for loop to iterate a sequence such as list, string\n",
    "``` \n",
    "  for i in seq:   # loop through a sequence\n",
    "      print(i)\n",
    "```\n",
    "- If you need to return a list from a function, create an empty list and use list append method to add elements\n",
    "```\n",
    "  result = []               # create an empty list for returning results\n",
    "  for item in seq:\n",
    "      ...\n",
    "      result.append(item)   # add items into list using append\n",
    "      ...\n",
    "  return result\n",
    "```\n",
    "- Write test code on how a function will be called and what to expect \n",
    "  - Before defining the function\n",
    "- Test function with and without arguments when using default arguments\n",
    "- Function returns are optional\n",
    "- Default arguments are defined at function defintion time\n",
    "- Sequence can be passed as parameters and returned"
   ]
  },
  {
   "cell_type": "markdown",
   "metadata": {},
   "source": [
    "# How to write a function\n",
    "- Write test code on how a function will be called and what to expect \n",
    "  - Before defining the function\n",
    "- Test function with and without arguments when using default arguments\n",
    "- Function returns are optional\n",
    "- Default arguments are defined at function defintion time\n",
    "- Sequence can be passed as parameters and returned"
   ]
  },
  {
   "cell_type": "code",
   "execution_count": 2,
   "metadata": {},
   "outputs": [],
   "source": [
    "def findEvenDigits(seq): \n",
    "    '''\n",
    "    takes a sequence (list) of digits as function parameter\n",
    "    create a new list to contain return results\n",
    "    returns list of even digits\n",
    "    '''\n",
    "    \n",
    "    print(\"In findEvenDigits(), Input: {}\".format( seq))    # print seq. This is a formatted print\n",
    "    \n",
    "    result = []                        # initialize a new list\n",
    "    for i in seq:                      # iterates thru the sequence\n",
    "        if  i % 2:                     # skips odd digits  \n",
    "            continue                   # continue if true, if false, appends below\n",
    "        result.append(i)               # append elements to the list  \n",
    "        \n",
    "    print(\"In findEvenDigits(), Result: {}\".format( result))\n",
    "    return result                      # return newly created list"
   ]
  },
  {
   "cell_type": "code",
   "execution_count": 3,
   "metadata": {
    "scrolled": true
   },
   "outputs": [
    {
     "name": "stdout",
     "output_type": "stream",
     "text": [
      "In findEvenDigits(), Input: range(0, 10)\n",
      "In findEvenDigits(), Result: [0, 2, 4, 6, 8]\n",
      "In findEvenDigits(), Input: [0, 1, 2, 3, 4, 5, 6, 7, 8, 9]\n",
      "In findEvenDigits(), Result: [0, 2, 4, 6, 8]\n",
      "In findEvenDigits(), Input: []\n",
      "In findEvenDigits(), Result: []\n"
     ]
    }
   ],
   "source": [
    "# test code\n",
    "x = findEvenDigits(range(0,10))        # range is a sequence\n",
    "x = findEvenDigits(list(range(0,10)))  # convert a range into a list\n",
    "x = findEvenDigits([])"
   ]
  },
  {
   "cell_type": "code",
   "execution_count": 11,
   "metadata": {
    "collapsed": true
   },
   "outputs": [],
   "source": [
    "def removeNonDigits(digits):\n",
    "    '''\n",
    "    takes a sequence (string) of digits and letters as function parameter\n",
    "    create a new list to contain return results\n",
    "    returns list which are not digits\n",
    "    '''\n",
    "    \n",
    "    print(\"In removeNonDigits(), Input: {}\".format( digits))    # print seq\n",
    "    non_digits = []\n",
    "    for i in digits:\n",
    "        if i in ['0','1','2','3','4','5','6','7','8','9']:\n",
    "            continue\n",
    "        non_digits.append(i)\n",
    "    print(\"In removeNonDigits(), Result: {}\".format( non_digits))\n",
    "    return non_digits"
   ]
  },
  {
   "cell_type": "code",
   "execution_count": 9,
   "metadata": {
    "scrolled": false
   },
   "outputs": [
    {
     "name": "stdout",
     "output_type": "stream",
     "text": [
      "In removeNonDigits(), Input: 123456789\n",
      "In removeNonDigits(), Result: []\n",
      "In removeNonDigits(), Input: 1a2b3c\n",
      "In removeNonDigits(), Result: ['a', 'b', 'c']\n",
      "In removeNonDigits(), Input: \n",
      "In removeNonDigits(), Result: []\n"
     ]
    },
    {
     "data": {
      "text/plain": [
       "[]"
      ]
     },
     "execution_count": 9,
     "metadata": {},
     "output_type": "execute_result"
    }
   ],
   "source": [
    "# test code\n",
    "removeNonDigits(\"123456789\")\n",
    "removeNonDigits(\"1a2b3c\")\n",
    "removeNonDigits(\"\")"
   ]
  },
  {
   "cell_type": "code",
   "execution_count": 7,
   "metadata": {},
   "outputs": [
    {
     "data": {
      "text/plain": [
       "True"
      ]
     },
     "execution_count": 7,
     "metadata": {},
     "output_type": "execute_result"
    }
   ],
   "source": [
    "s = \"Hello world\"\n",
    "x = 'a'\n",
    "x in ['a', 'i', 'A']"
   ]
  },
  {
   "cell_type": "code",
   "execution_count": 9,
   "metadata": {},
   "outputs": [
    {
     "data": {
      "text/plain": [
       "True"
      ]
     },
     "execution_count": 9,
     "metadata": {},
     "output_type": "execute_result"
    }
   ],
   "source": [
    "x in \"aeiouAEIOU\""
   ]
  },
  {
   "cell_type": "code",
   "execution_count": null,
   "metadata": {},
   "outputs": [],
   "source": []
  }
 ],
 "metadata": {
  "kernelspec": {
   "display_name": "Python 3",
   "language": "python",
   "name": "python3"
  },
  "language_info": {
   "codemirror_mode": {
    "name": "ipython",
    "version": 3
   },
   "file_extension": ".py",
   "mimetype": "text/x-python",
   "name": "python",
   "nbconvert_exporter": "python",
   "pygments_lexer": "ipython3",
   "version": "3.6.5"
  }
 },
 "nbformat": 4,
 "nbformat_minor": 2
}
