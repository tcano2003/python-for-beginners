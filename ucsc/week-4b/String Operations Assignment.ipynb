{
 "cells": [
  {
   "cell_type": "markdown",
   "metadata": {},
   "source": [
    "# String Operations Assignment"
   ]
  },
  {
   "cell_type": "markdown",
   "metadata": {},
   "source": [
    "Directions:  \n",
    "[Read String Slicing](https://docs.python.org/3/tutorial/introduction.html) and answer questions.\n"
   ]
  },
  {
   "cell_type": "markdown",
   "metadata": {},
   "source": [
    "1.\n",
    "If w = \"equation\"\n",
    "- Slice first three characters from w and assign it to w1 and print w1.\n",
    "- Do the necessary operations so that the output will be \"EQUAtion\"  "
   ]
  },
  {
   "cell_type": "code",
   "execution_count": 1,
   "metadata": {},
   "outputs": [
    {
     "name": "stdout",
     "output_type": "stream",
     "text": [
      "equ\n"
     ]
    },
    {
     "data": {
      "text/plain": [
       "'EQUAtion'"
      ]
     },
     "execution_count": 1,
     "metadata": {},
     "output_type": "execute_result"
    }
   ],
   "source": [
    "w = \"equation\"\n",
    "w1 = w[0:3]\n",
    "print(w1)\n",
    "\n",
    "w.replace(\"equa\",\"EQUA\")"
   ]
  },
  {
   "cell_type": "markdown",
   "metadata": {},
   "source": [
    "2.\n",
    "t = \"programming is fun\"\n",
    "slice t into three parts. Then do the required to get the following\n",
    "\n",
    "Programming IS fun."
   ]
  },
  {
   "cell_type": "code",
   "execution_count": 2,
   "metadata": {},
   "outputs": [
    {
     "name": "stdout",
     "output_type": "stream",
     "text": [
      "['programming', 'is', 'fun']\n",
      "Programming IS fun\n"
     ]
    }
   ],
   "source": [
    "t = \"programming is fun\"\n",
    "\n",
    "print(t.split(None, 3))\n",
    "\n",
    "t2 = t.replace(\"is\", \"IS\")\n",
    "t3 = t2.replace(\"p\", \"P\")\n",
    "print(t3)"
   ]
  },
  {
   "cell_type": "code",
   "execution_count": null,
   "metadata": {},
   "outputs": [],
   "source": []
  }
 ],
 "metadata": {
  "kernelspec": {
   "display_name": "Python 3",
   "language": "python",
   "name": "python3"
  },
  "language_info": {
   "codemirror_mode": {
    "name": "ipython",
    "version": 3
   },
   "file_extension": ".py",
   "mimetype": "text/x-python",
   "name": "python",
   "nbconvert_exporter": "python",
   "pygments_lexer": "ipython3",
   "version": "3.6.5"
  }
 },
 "nbformat": 4,
 "nbformat_minor": 2
}
