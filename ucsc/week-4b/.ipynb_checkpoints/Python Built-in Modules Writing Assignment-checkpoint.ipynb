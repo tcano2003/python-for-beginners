{
 "cells": [
  {
   "cell_type": "markdown",
   "metadata": {},
   "source": [
    "# Python Built-in Modules Writing Assignment"
   ]
  },
  {
   "cell_type": "markdown",
   "metadata": {},
   "source": [
    "### 1. Import math module and find the cosine of pi/4. "
   ]
  },
  {
   "cell_type": "code",
   "execution_count": 1,
   "metadata": {},
   "outputs": [
    {
     "data": {
      "text/plain": [
       "0.7071067811865476"
      ]
     },
     "execution_count": 1,
     "metadata": {},
     "output_type": "execute_result"
    }
   ],
   "source": [
    "from math import cos, pi\n",
    "\n",
    "cos(pi/4)"
   ]
  },
  {
   "cell_type": "markdown",
   "metadata": {},
   "source": [
    "### 2. From list2 = [6, 12, 15, 21], randomly choose an element. Then use the pow function from math module to determine that element raised to 3 and print it."
   ]
  },
  {
   "cell_type": "code",
   "execution_count": 2,
   "metadata": {},
   "outputs": [
    {
     "name": "stdout",
     "output_type": "stream",
     "text": [
      "9261\n"
     ]
    }
   ],
   "source": [
    "import math, random\n",
    "list2 = [6, 12, 15, 21]\n",
    "element = random.choice(list2)\n",
    "result = pow(element, 3)\n",
    "print(result)"
   ]
  },
  {
   "cell_type": "markdown",
   "metadata": {},
   "source": [
    "### 3. Seed using the current date and then generate a random number.  Hint:  use datetime.datetime.now().date() to obtain a date object and pass date object into random.seed"
   ]
  },
  {
   "cell_type": "code",
   "execution_count": 3,
   "metadata": {},
   "outputs": [],
   "source": [
    "#import datetime, random\n",
    "#dt = datetime.datetime.now().date()\n",
    "#dt2 = random.seed(datetime.datetime.now().date())\n",
    "#print(dt)\n",
    "#print(dt2)"
   ]
  },
  {
   "cell_type": "markdown",
   "metadata": {},
   "source": [
    "### 4. Use time.clock() to find the time before and time after the for-loop that loops through range(1000) and appends the value to a list called list1. Print the time taken for the loop. "
   ]
  },
  {
   "cell_type": "code",
   "execution_count": 4,
   "metadata": {},
   "outputs": [
    {
     "name": "stdout",
     "output_type": "stream",
     "text": [
      "Start Time:  1533165699.326697 \n",
      "End Time:  1533165699.327698 \n",
      "Time elapsed:  0.0010008811950683594\n"
     ]
    }
   ],
   "source": [
    "import time\n",
    "\n",
    "list1 = []\n",
    "\n",
    "tick = time.time()\n",
    "for i in range(1000):\n",
    "    #time.sleep(1)\n",
    "    list1.append(i)\n",
    "tock = time.time()\n",
    "print('Start Time: ', tick, '\\nEnd Time: ', tock, '\\nTime elapsed: ', tock-tick)"
   ]
  },
  {
   "cell_type": "code",
   "execution_count": null,
   "metadata": {},
   "outputs": [],
   "source": []
  }
 ],
 "metadata": {
  "kernelspec": {
   "display_name": "Python 3",
   "language": "python",
   "name": "python3"
  },
  "language_info": {
   "codemirror_mode": {
    "name": "ipython",
    "version": 3
   },
   "file_extension": ".py",
   "mimetype": "text/x-python",
   "name": "python",
   "nbconvert_exporter": "python",
   "pygments_lexer": "ipython3",
   "version": "3.6.5"
  }
 },
 "nbformat": 4,
 "nbformat_minor": 2
}
