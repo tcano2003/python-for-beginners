{
 "cells": [
  {
   "cell_type": "markdown",
   "metadata": {},
   "source": [
    "# String Operations Writing Assignment"
   ]
  },
  {
   "cell_type": "markdown",
   "metadata": {},
   "source": [
    "#### 1. Perform appropriate operations to remove space and ; from string1 where string1 = \" it rained a lot ;\""
   ]
  },
  {
   "cell_type": "code",
   "execution_count": 1,
   "metadata": {},
   "outputs": [
    {
     "name": "stdout",
     "output_type": "stream",
     "text": [
      "it rained a lot\n"
     ]
    }
   ],
   "source": [
    "string1 = \" it rained a lot ;\"\n",
    "print(string1.strip(\" ;\"))"
   ]
  },
  {
   "cell_type": "markdown",
   "metadata": {},
   "source": [
    "#### 2. If list1 = [\"we\", \"are\", \"going\", \"bowling\"] how would you get \"we are going bowling\"?"
   ]
  },
  {
   "cell_type": "code",
   "execution_count": 2,
   "metadata": {},
   "outputs": [
    {
     "name": "stdout",
     "output_type": "stream",
     "text": [
      "we are going bowling\n"
     ]
    }
   ],
   "source": [
    "list1 = [\"we\", \"are\", \"going\", \"bowling\"]\n",
    "\n",
    "print(\" \".join(list1))"
   ]
  },
  {
   "cell_type": "markdown",
   "metadata": {},
   "source": [
    "#### 3. If string2 = \"programming; in Python; is fun\". Perform the required operation(s) to get [\"programming\", \"in Python\", \"is fun\"]"
   ]
  },
  {
   "cell_type": "code",
   "execution_count": 3,
   "metadata": {},
   "outputs": [
    {
     "name": "stdout",
     "output_type": "stream",
     "text": [
      "['programming', 'in Python', 'is fun']\n"
     ]
    }
   ],
   "source": [
    "string2 = \"programming; in Python; is fun\"\n",
    "nosemi = string2.split(\";\")\n",
    "# print(nosemi) # check the removal of semicolon\n",
    "result = [nosemi.strip(\" \") for nosemi in nosemi]\n",
    "print(result)"
   ]
  },
  {
   "cell_type": "markdown",
   "metadata": {},
   "source": [
    "#### 4. If w = \"Anthem\", convert w to uppercase. Use find method to locate the index where \"TH\" appears in w. "
   ]
  },
  {
   "cell_type": "code",
   "execution_count": 4,
   "metadata": {},
   "outputs": [
    {
     "name": "stdout",
     "output_type": "stream",
     "text": [
      "ANTHEM\n"
     ]
    },
    {
     "data": {
      "text/plain": [
       "2"
      ]
     },
     "execution_count": 4,
     "metadata": {},
     "output_type": "execute_result"
    }
   ],
   "source": [
    "w = \"Anthem\"\n",
    "w = w.upper()\n",
    "print(w)\n",
    "w.index('TH')"
   ]
  },
  {
   "cell_type": "code",
   "execution_count": null,
   "metadata": {},
   "outputs": [],
   "source": []
  }
 ],
 "metadata": {
  "kernelspec": {
   "display_name": "Python 3",
   "language": "python",
   "name": "python3"
  },
  "language_info": {
   "codemirror_mode": {
    "name": "ipython",
    "version": 3
   },
   "file_extension": ".py",
   "mimetype": "text/x-python",
   "name": "python",
   "nbconvert_exporter": "python",
   "pygments_lexer": "ipython3",
   "version": "3.6.5"
  }
 },
 "nbformat": 4,
 "nbformat_minor": 2
}
