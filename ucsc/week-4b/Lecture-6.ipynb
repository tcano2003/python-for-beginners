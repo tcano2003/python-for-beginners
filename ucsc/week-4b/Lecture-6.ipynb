{
 "cells": [
  {
   "cell_type": "markdown",
   "metadata": {
    "collapsed": true
   },
   "source": [
    "# Lecture 6\n",
    "  - Strings\n",
    "  - Operations\n",
    "  - Formatting\n",
    "  - String Methods"
   ]
  },
  {
   "cell_type": "markdown",
   "metadata": {},
   "source": [
    "## Unicode\n",
    "- In early days all characters were represented by ASCII\n",
    "- Characters occupied 8 bits\n",
    "- 0 - 127 values were enough to represent english languge:\n",
    "  - Upper and lower case alphabets\n",
    "  - Digits\n",
    "  - Punctuations\n",
    "  - Non printable characters (control characters)\n",
    "- A letter maps to some bits which you can store on disk or in memory:\n",
    "  -  A -> 0100 0001\n",
    "- **Other languages started using codes from 128-255**\n",
    "- Asian Languages has thousands of characters\n",
    "  - They needed more memory"
   ]
  },
  {
   "cell_type": "code",
   "execution_count": null,
   "metadata": {},
   "outputs": [],
   "source": [
    "bin(ord('A'))  # hex 0x41, 0100 = 0x4  0001 = 0x1 -->  0x41"
   ]
  },
  {
   "cell_type": "markdown",
   "metadata": {},
   "source": [
    "-  **Unicode consortium** came up with a concept called **code point**, where every character is represented as:\n",
    "   - For e.g: Hello --> U+0048 U+0065 U+006C U+006C U+006F\n",
    "   - English text rarely used code points above U+00FF\n",
    "   - Then the issue comes with how they will stored in memory?\n",
    "     - Endian issues:\n",
    "       00 48 vs 48 00\n",
    "-  UTF-8 was another system for storing your string of Unicode code points, those magic U+ numbers, in memory using 8 bit bytes \n",
    "-  In **UTF-8**, every **code point from 0-127** is stored in a **single byte**\n",
    "-  Only **code points 128 and above** are stored using **2, 3, in fact, up to 6 bytes**\n",
    "-  **English text** looks exactly the same in **UTF-8** as it did in **ASCII**\n",
    "\n",
    "\n"
   ]
  },
  {
   "cell_type": "code",
   "execution_count": null,
   "metadata": {
    "scrolled": false
   },
   "outputs": [],
   "source": [
    "for i in \"Hello\":    # iterating through a sequence (string)\n",
    "    codePoint = ord(i)\n",
    "    print(\"{} --> {:3d} {} {}\".format(i,codePoint,hex(codePoint), bin(codePoint)))"
   ]
  },
  {
   "cell_type": "markdown",
   "metadata": {},
   "source": [
    "#### Python Strings are Unicode by Default"
   ]
  },
  {
   "cell_type": "code",
   "execution_count": null,
   "metadata": {},
   "outputs": [],
   "source": [
    "print(u\"hi 猫\")    # u prefixed before a string denotes unicode"
   ]
  },
  {
   "cell_type": "code",
   "execution_count": null,
   "metadata": {},
   "outputs": [],
   "source": [
    "print(\"hi 猫\")    # unicode by default, u prefix is not needed"
   ]
  },
  {
   "cell_type": "code",
   "execution_count": null,
   "metadata": {},
   "outputs": [],
   "source": [
    "print(\"∑ Ω µ\")   # greek alphabets"
   ]
  },
  {
   "cell_type": "markdown",
   "metadata": {},
   "source": [
    "## Strings\n",
    "- Immutable \n",
    "  - **Readonly**, values cant be changed\n",
    "  - They cannot be modified\n",
    "  - **New strings** will formed on certain string operations\n",
    "- String variables can be **reassigned** with new values\n",
    "\n",
    "\n",
    "### Single, Double or Triple Quotes\n",
    "-  Triple quotes are used when strings have line breaks\n",
    "   -  For e.g.: you have a paragraph of text you want to assign to variable"
   ]
  },
  {
   "cell_type": "code",
   "execution_count": null,
   "metadata": {
    "scrolled": true
   },
   "outputs": [],
   "source": [
    "# you can use single or double or triple quotes to represent strings\n",
    "string1 = 'Hello World'  # single quote\n",
    "string2 = \"Hello World\"  # double quote\n",
    "string3 = '''Hello World''' # triple single quote\n",
    "\n",
    "print (\"String 1, 2, 3: \", string1, string2, string3)\n",
    "print (\"Type of String 1, 2, 3: \", type(string1), type(string2), type(string3))"
   ]
  },
  {
   "cell_type": "code",
   "execution_count": null,
   "metadata": {},
   "outputs": [],
   "source": [
    "# multi line string (or a comment)\n",
    "para = '''This is line 1.\n",
    "this is line 2.\n",
    "This is line3.'''\n",
    "print (para)"
   ]
  },
  {
   "cell_type": "markdown",
   "metadata": {},
   "source": [
    "### Escape Characters\n",
    "-  Have special meaning to certain characters\n",
    "-  Character preceded by a back slash \\\n",
    "   -  '\\a'  alarm\n",
    "   -  '\\t'  tab\n",
    "   -  '\\n'  newline\n",
    "   -  '\\r'  carriage return"
   ]
  },
  {
   "cell_type": "raw",
   "metadata": {},
   "source": [
    "$ python3\n",
    "Python 3.5.2 (default, Nov 17 2016, 17:05:23) \n",
    "[GCC 5.4.0 20160609] on linux\n",
    "Type \"help\", \"copyright\", \"credits\" or \"license\" for more information.\n",
    ">>> print(\"\\a\")\n",
    "\n",
    ">>> "
   ]
  },
  {
   "cell_type": "code",
   "execution_count": null,
   "metadata": {},
   "outputs": [],
   "source": [
    "print ('\\a')  # you are supposed to hear a beep"
   ]
  },
  {
   "cell_type": "code",
   "execution_count": null,
   "metadata": {},
   "outputs": [],
   "source": [
    "print (\"foo\", \"\\t\", \"bar\")  # prints a tab between foo and bar"
   ]
  },
  {
   "cell_type": "code",
   "execution_count": null,
   "metadata": {},
   "outputs": [],
   "source": [
    "print (\"foo\\n.\")  # prints a new line and then dot\n",
    "print (\"bar\\n.\")"
   ]
  },
  {
   "cell_type": "code",
   "execution_count": null,
   "metadata": {},
   "outputs": [],
   "source": [
    "print (\"foo\\r.\")  # prints foo and then carriage return and overwrite f with doe\n",
    "print (\"bar\\r.\")  # carriage return and overwrites b with ."
   ]
  },
  {
   "cell_type": "code",
   "execution_count": null,
   "metadata": {},
   "outputs": [],
   "source": [
    "stringu = u'Hello World'  #default is unicode in python3\n",
    "stringr = r'Hello\\tWorld\\n'  # raw string where escape \\ does not mean anything\n",
    "print (\"String u, r: \", stringu, stringr)\n",
    "print (\"Type of String u, r: \", type(stringu), type(stringr))"
   ]
  },
  {
   "cell_type": "code",
   "execution_count": null,
   "metadata": {},
   "outputs": [],
   "source": [
    "print (\"foo\\tbar\")   # tab character"
   ]
  },
  {
   "cell_type": "code",
   "execution_count": null,
   "metadata": {},
   "outputs": [],
   "source": [
    "print (r\"foo\\tbar\")  # raw string"
   ]
  },
  {
   "cell_type": "code",
   "execution_count": null,
   "metadata": {},
   "outputs": [],
   "source": [
    "print (\"foo\\\\bar\")  # escape the backslash"
   ]
  },
  {
   "cell_type": "code",
   "execution_count": null,
   "metadata": {},
   "outputs": [],
   "source": [
    "print (\"foo\\\\\\\\bar\")  # escape the backslash"
   ]
  },
  {
   "cell_type": "markdown",
   "metadata": {},
   "source": [
    "#### Raw Strings - Strings prefixed with r or R"
   ]
  },
  {
   "cell_type": "code",
   "execution_count": null,
   "metadata": {},
   "outputs": [],
   "source": [
    "r = r\"\\nh\\ni\\n\"  # supresses the meaning of slash\n",
    "print(r)"
   ]
  },
  {
   "cell_type": "markdown",
   "metadata": {},
   "source": [
    "### String Variable Reinitialized\n",
    "-  **New string object is being formed**\n",
    "-  **String ids are different**\n",
    "![Reinitialized](images/Lecture-6.002.png)"
   ]
  },
  {
   "cell_type": "code",
   "execution_count": null,
   "metadata": {},
   "outputs": [],
   "source": [
    "foo='Foo'\n",
    "print(\"foo:\", foo, \"id:\", id(foo))\n",
    "foo ='Bar'\n",
    "print(\"foo:\", foo, \"id:\", id(foo))"
   ]
  },
  {
   "cell_type": "markdown",
   "metadata": {},
   "source": [
    "## Operations\n",
    "\n",
    "### Concatenation +\n",
    "-  str1 + str2\n",
    "-  str1 + str2 + str3\n",
    "![Concatenation](images/Lecture-6.003.png)"
   ]
  },
  {
   "cell_type": "code",
   "execution_count": null,
   "metadata": {},
   "outputs": [],
   "source": [
    "fooStr = 'Foo'\n",
    "barStr = 'Bar'\n",
    "cat = fooStr + barStr\n",
    "print(cat)"
   ]
  },
  {
   "cell_type": "code",
   "execution_count": null,
   "metadata": {},
   "outputs": [],
   "source": [
    "# Ids are all different, because different object strings\n",
    "print('id fooStr {}, id barStr {}, id cat {}'.format(id(fooStr), id(barStr), id(cat)))"
   ]
  },
  {
   "cell_type": "code",
   "execution_count": null,
   "metadata": {},
   "outputs": [],
   "source": [
    "cat = \"Foo\" \"Bar\"   # no plus, strings by themselves\n",
    "cat"
   ]
  },
  {
   "cell_type": "code",
   "execution_count": null,
   "metadata": {},
   "outputs": [],
   "source": [
    "cat = \"Foo\" \"Bar\" 'Baz'\n",
    "cat"
   ]
  },
  {
   "cell_type": "markdown",
   "metadata": {},
   "source": [
    "### Repetition *\n",
    "-  str1*3\n",
    "-  3*str1\n",
    "\n",
    "![Repetition](images/Lecture-6.004.png)"
   ]
  },
  {
   "cell_type": "code",
   "execution_count": null,
   "metadata": {},
   "outputs": [],
   "source": [
    "print(\"fooStr:\", fooStr)\n",
    "rep = fooStr*3\n",
    "rep2 = 3*fooStr\n",
    "print (rep, rep2)"
   ]
  },
  {
   "cell_type": "code",
   "execution_count": null,
   "metadata": {},
   "outputs": [],
   "source": [
    "id(rep) == id(rep2)  # different string objects"
   ]
  },
  {
   "cell_type": "code",
   "execution_count": null,
   "metadata": {},
   "outputs": [],
   "source": [
    "rep3 = fooStr * -5  # what heppens when multiplied by -ve number?\n",
    "rep3 # creates an empty string"
   ]
  },
  {
   "cell_type": "markdown",
   "metadata": {},
   "source": [
    "### Index [ ]\n",
    "![Index](images/Lecture-6.005.png)"
   ]
  },
  {
   "cell_type": "code",
   "execution_count": null,
   "metadata": {},
   "outputs": [],
   "source": [
    "helloWorld = 'Hello Wo'\n",
    "print (\"Length:\", len(helloWorld))\n",
    "print (\"Index 0: \", helloWorld[0], \"Index 3:\", helloWorld[3])"
   ]
  },
  {
   "cell_type": "code",
   "execution_count": null,
   "metadata": {},
   "outputs": [],
   "source": [
    "for index, value in enumerate(helloWorld): # enumerate gives index and value of sequence\n",
    "    print(\" Index: {} Value: {}\".format(index,value))"
   ]
  },
  {
   "cell_type": "code",
   "execution_count": null,
   "metadata": {},
   "outputs": [],
   "source": [
    "helloWorld[8]   # Expect IndexError, there no element at 8th position"
   ]
  },
  {
   "cell_type": "markdown",
   "metadata": {},
   "source": [
    "![Index](images/Lecture-6.006.png)"
   ]
  },
  {
   "cell_type": "code",
   "execution_count": null,
   "metadata": {},
   "outputs": [],
   "source": [
    "print (\"Index -1: \", helloWorld[-1], \"Index -8:\", helloWorld[-8])"
   ]
  },
  {
   "cell_type": "markdown",
   "metadata": {},
   "source": [
    "### Slice [start:Upto:Skip]\n",
    "![Slice](images/Lecture-6.007.png)"
   ]
  },
  {
   "cell_type": "code",
   "execution_count": null,
   "metadata": {},
   "outputs": [],
   "source": [
    "print (\"helloWorld[1:4]\", helloWorld[1:4])"
   ]
  },
  {
   "cell_type": "markdown",
   "metadata": {},
   "source": [
    "![Slice](images/Lecture-6.008.png)"
   ]
  },
  {
   "cell_type": "code",
   "execution_count": null,
   "metadata": {},
   "outputs": [],
   "source": [
    "print (\"helloWorld[0:7:2]\", helloWorld[0:7:2]) # stride or skip 2"
   ]
  },
  {
   "cell_type": "markdown",
   "metadata": {},
   "source": [
    "![Slice](images/Lecture-6.009.png)"
   ]
  },
  {
   "cell_type": "code",
   "execution_count": null,
   "metadata": {
    "scrolled": true
   },
   "outputs": [],
   "source": [
    "print (\"helloWorld[::-1]\", helloWorld[::-1]) # reverse slicing"
   ]
  },
  {
   "cell_type": "markdown",
   "metadata": {},
   "source": [
    "### Immutable, Cant Change String"
   ]
  },
  {
   "cell_type": "code",
   "execution_count": null,
   "metadata": {},
   "outputs": [],
   "source": [
    "helloWorld[0]  # read character at 0th index"
   ]
  },
  {
   "cell_type": "code",
   "execution_count": null,
   "metadata": {},
   "outputs": [],
   "source": [
    "helloWorld[0] = 'h'  # Expect TypeError "
   ]
  },
  {
   "cell_type": "markdown",
   "metadata": {},
   "source": [
    "### String Methods\n",
    "- dir(str)\n",
    "- help(str.casefold)"
   ]
  },
  {
   "cell_type": "code",
   "execution_count": null,
   "metadata": {},
   "outputs": [],
   "source": [
    "dir(str)                      # returns methods in string as a list"
   ]
  },
  {
   "cell_type": "code",
   "execution_count": null,
   "metadata": {},
   "outputs": [],
   "source": [
    "for _ in dir(str):\n",
    "    if  _.startswith(\"__\"):   # filtering off names which startswith __\n",
    "        continue\n",
    "    print(_)"
   ]
  },
  {
   "cell_type": "code",
   "execution_count": null,
   "metadata": {},
   "outputs": [],
   "source": [
    "help(str.casefold)"
   ]
  },
  {
   "cell_type": "code",
   "execution_count": null,
   "metadata": {},
   "outputs": [],
   "source": [
    "s_upper = \"HELLO\"\n",
    "s_lower = \"hello\"\n",
    "\n",
    "s_upper == s_lower  # strings are case sensitive (upper and lcwer case are different)"
   ]
  },
  {
   "cell_type": "markdown",
   "metadata": {},
   "source": [
    "#### Casefold"
   ]
  },
  {
   "cell_type": "code",
   "execution_count": null,
   "metadata": {},
   "outputs": [],
   "source": [
    "s_upper.casefold() == s_lower.casefold()"
   ]
  },
  {
   "cell_type": "markdown",
   "metadata": {},
   "source": [
    "#### Capitalize"
   ]
  },
  {
   "cell_type": "code",
   "execution_count": null,
   "metadata": {},
   "outputs": [],
   "source": [
    "\"hello world\".capitalize()  # capitalizes the first letter of first word"
   ]
  },
  {
   "cell_type": "code",
   "execution_count": null,
   "metadata": {},
   "outputs": [],
   "source": [
    "s=\"hello world\"\n",
    "s.capitalize()  # capitalizes the first letter of first word"
   ]
  },
  {
   "cell_type": "markdown",
   "metadata": {},
   "source": [
    "#### Title"
   ]
  },
  {
   "cell_type": "code",
   "execution_count": null,
   "metadata": {},
   "outputs": [],
   "source": [
    "\"hello world, greetings\".title()    # capitalizes first letter of every word"
   ]
  },
  {
   "cell_type": "code",
   "execution_count": null,
   "metadata": {},
   "outputs": [],
   "source": [
    "g=\"hello world, greetings\"\n",
    "g.title()    # capitalizes first letter of every word"
   ]
  },
  {
   "cell_type": "markdown",
   "metadata": {},
   "source": [
    "#### Upper"
   ]
  },
  {
   "cell_type": "code",
   "execution_count": null,
   "metadata": {
    "scrolled": true
   },
   "outputs": [],
   "source": [
    "\"hello world\".upper()  # converts to upper case"
   ]
  },
  {
   "cell_type": "code",
   "execution_count": null,
   "metadata": {
    "scrolled": true
   },
   "outputs": [],
   "source": [
    "x = \"hello world\"\n",
    "x.upper()  # converts to upper case"
   ]
  },
  {
   "cell_type": "markdown",
   "metadata": {},
   "source": [
    "#### Lower"
   ]
  },
  {
   "cell_type": "code",
   "execution_count": null,
   "metadata": {},
   "outputs": [],
   "source": [
    "'HELLO WORLD'.lower()  # converts to lower case"
   ]
  },
  {
   "cell_type": "markdown",
   "metadata": {},
   "source": [
    "#### Count"
   ]
  },
  {
   "cell_type": "code",
   "execution_count": null,
   "metadata": {},
   "outputs": [],
   "source": [
    "\"hello world\".count('l')  # there are 3 l in hello world"
   ]
  },
  {
   "cell_type": "code",
   "execution_count": null,
   "metadata": {
    "scrolled": true
   },
   "outputs": [],
   "source": [
    "\"hello world\".count('Z')  # there is no Z in hello world"
   ]
  },
  {
   "cell_type": "markdown",
   "metadata": {},
   "source": [
    "#### Strip White Spaces"
   ]
  },
  {
   "cell_type": "code",
   "execution_count": null,
   "metadata": {
    "collapsed": true
   },
   "outputs": [],
   "source": [
    "s = \"    hello world   \"  # whitespaces at start and end are stripped"
   ]
  },
  {
   "cell_type": "code",
   "execution_count": null,
   "metadata": {
    "collapsed": true
   },
   "outputs": [],
   "source": [
    "print(\"s: |{}| s.strip: |{}|\".format(s, s.strip()))"
   ]
  },
  {
   "cell_type": "code",
   "execution_count": null,
   "metadata": {
    "collapsed": true
   },
   "outputs": [],
   "source": [
    "s.strip()"
   ]
  },
  {
   "cell_type": "markdown",
   "metadata": {},
   "source": [
    "#### Strip Leading and Trailing Characters"
   ]
  },
  {
   "cell_type": "code",
   "execution_count": null,
   "metadata": {
    "collapsed": true
   },
   "outputs": [],
   "source": [
    "s = \" ;,hello world!?   \"  # whitespaces and punctuations\n",
    "s.strip(';,!? ')           # remove characters at start and end of string"
   ]
  },
  {
   "cell_type": "markdown",
   "metadata": {},
   "source": [
    "#### Split White Spaces"
   ]
  },
  {
   "cell_type": "code",
   "execution_count": null,
   "metadata": {
    "collapsed": true
   },
   "outputs": [],
   "source": [
    "s=\"The brown fox jumped quickly at the lazy dogs\""
   ]
  },
  {
   "cell_type": "code",
   "execution_count": null,
   "metadata": {
    "collapsed": true,
    "scrolled": false
   },
   "outputs": [],
   "source": [
    "s.split()  # breaks apart sentence into list of words"
   ]
  },
  {
   "cell_type": "markdown",
   "metadata": {},
   "source": [
    "#### Strip and Split lines"
   ]
  },
  {
   "cell_type": "code",
   "execution_count": null,
   "metadata": {
    "collapsed": true,
    "scrolled": true
   },
   "outputs": [],
   "source": [
    "s = '''\n",
    "line 1\n",
    "line 2\n",
    "line 3\n",
    "'''\n",
    "s    # note \\n are new lines"
   ]
  },
  {
   "cell_type": "code",
   "execution_count": null,
   "metadata": {
    "collapsed": true
   },
   "outputs": [],
   "source": [
    "s.splitlines() # splits into a list of single lines"
   ]
  },
  {
   "cell_type": "code",
   "execution_count": null,
   "metadata": {
    "collapsed": true,
    "scrolled": true
   },
   "outputs": [],
   "source": [
    "s.strip().splitlines()"
   ]
  },
  {
   "cell_type": "markdown",
   "metadata": {},
   "source": [
    "#### Replace"
   ]
  },
  {
   "cell_type": "code",
   "execution_count": null,
   "metadata": {
    "collapsed": true
   },
   "outputs": [],
   "source": [
    "s = \"Python Programmers is cool!\"\n",
    "s.replace(\"is\",\"are\")"
   ]
  },
  {
   "cell_type": "code",
   "execution_count": null,
   "metadata": {},
   "outputs": [],
   "source": [
    "\"Python Programmers is cool!\".replace(\"is\",\"are\")"
   ]
  },
  {
   "cell_type": "code",
   "execution_count": null,
   "metadata": {},
   "outputs": [],
   "source": [
    "s.replace(\"cool\",\"COOL\")"
   ]
  },
  {
   "cell_type": "markdown",
   "metadata": {},
   "source": [
    "#### Join"
   ]
  },
  {
   "cell_type": "code",
   "execution_count": null,
   "metadata": {},
   "outputs": [],
   "source": [
    "a2zLetters = \"The brown fox jumped quickly at the lazy dogs\"\n",
    "a2zWords = a2zLetters.split()\n",
    "print(a2zWords) # print list of words\n",
    "\n",
    "\" \".join(a2zWords) # creates a string from list of words"
   ]
  },
  {
   "cell_type": "code",
   "execution_count": null,
   "metadata": {},
   "outputs": [],
   "source": [
    "s = ''\n",
    "s.join(a2zWords) # creates a string from list of words"
   ]
  },
  {
   "cell_type": "code",
   "execution_count": null,
   "metadata": {},
   "outputs": [],
   "source": [
    "''.join(a2zWords) # creates a string from list of words"
   ]
  },
  {
   "cell_type": "code",
   "execution_count": null,
   "metadata": {},
   "outputs": [],
   "source": [
    "s = '-'\n",
    "s.join(a2zWords) # creates a string from list of words"
   ]
  },
  {
   "cell_type": "code",
   "execution_count": null,
   "metadata": {},
   "outputs": [],
   "source": [
    "'_'.join(a2zWords) # creates a string from list of words"
   ]
  },
  {
   "cell_type": "markdown",
   "metadata": {},
   "source": [
    "#### Index vs Find\n",
    "- index, rindex\n",
    "  - Raises value error if string not found\n",
    "- find, rfind\n",
    "  - returns -1 if string not found"
   ]
  },
  {
   "cell_type": "code",
   "execution_count": null,
   "metadata": {},
   "outputs": [],
   "source": [
    "s = \"One Two Three\"\n",
    "s.find(\"e\")  # e from left"
   ]
  },
  {
   "cell_type": "code",
   "execution_count": null,
   "metadata": {
    "scrolled": true
   },
   "outputs": [],
   "source": [
    "s.rfind('e')  # e from right"
   ]
  },
  {
   "cell_type": "code",
   "execution_count": null,
   "metadata": {},
   "outputs": [],
   "source": [
    "s.find(\"Foo\")  # returns -1 when substring not found in string"
   ]
  },
  {
   "cell_type": "code",
   "execution_count": null,
   "metadata": {},
   "outputs": [],
   "source": [
    "s = \"One Two Three\"\n",
    "s.index(\"e\")"
   ]
  },
  {
   "cell_type": "code",
   "execution_count": null,
   "metadata": {
    "scrolled": true
   },
   "outputs": [],
   "source": [
    "s.rindex('e')"
   ]
  },
  {
   "cell_type": "code",
   "execution_count": null,
   "metadata": {
    "scrolled": false
   },
   "outputs": [],
   "source": [
    "s.index(\"Foo\")   # expect valueError"
   ]
  },
  {
   "cell_type": "markdown",
   "metadata": {},
   "source": [
    "## String Format Specifier\n",
    "- A string can be formated using %\n",
    "  - \"format specifier\"  % (arguments) \n",
    "     - Note here % is not the modulus operator\n",
    "\n",
    "| format | remarks |\n",
    "| --- | --- |\n",
    "| %d, %i | Decimal |\n",
    "| %s | string |\n",
    "| %f | floating point |\n",
    "| %e, %E | scientific notation |\n",
    "| %x, %X | hex |"
   ]
  },
  {
   "cell_type": "code",
   "execution_count": null,
   "metadata": {
    "scrolled": true
   },
   "outputs": [],
   "source": [
    "print (\"percent d: %d\" % (10))  # print a decimal number"
   ]
  },
  {
   "cell_type": "code",
   "execution_count": null,
   "metadata": {},
   "outputs": [],
   "source": [
    "print (\"percent i: %i\" % (-10.23)) # %i and %d are same"
   ]
  },
  {
   "cell_type": "code",
   "execution_count": null,
   "metadata": {},
   "outputs": [],
   "source": [
    "print (\"percent f: %f\" % (3.1415)) # print a floating point"
   ]
  },
  {
   "cell_type": "code",
   "execution_count": null,
   "metadata": {},
   "outputs": [],
   "source": [
    "print (\"percent e/E: %e\" % (10000)) # print in scientific notation"
   ]
  },
  {
   "cell_type": "code",
   "execution_count": null,
   "metadata": {},
   "outputs": [],
   "source": [
    "print (\"percent s: %s\" % (10000))   # print a string"
   ]
  },
  {
   "cell_type": "code",
   "execution_count": null,
   "metadata": {},
   "outputs": [],
   "source": [
    "print (\"percent x: %x\" % (65534)) # print integer in hexadecimal"
   ]
  },
  {
   "cell_type": "code",
   "execution_count": null,
   "metadata": {},
   "outputs": [],
   "source": [
    "print (\"percent X: %X\" % (65534)) # %x or %X prints in hexadecimal"
   ]
  },
  {
   "cell_type": "code",
   "execution_count": null,
   "metadata": {},
   "outputs": [],
   "source": [
    "print (\"percent X: %X %X\" % (47710, 47633))"
   ]
  },
  {
   "cell_type": "markdown",
   "metadata": {},
   "source": [
    "### String Format method\n",
    "- ''.format()"
   ]
  },
  {
   "cell_type": "code",
   "execution_count": null,
   "metadata": {},
   "outputs": [],
   "source": [
    "'{} {}'.format('one', 'two')"
   ]
  },
  {
   "cell_type": "code",
   "execution_count": null,
   "metadata": {},
   "outputs": [],
   "source": [
    "'{} {}'.format(1, 2)"
   ]
  },
  {
   "cell_type": "code",
   "execution_count": null,
   "metadata": {},
   "outputs": [],
   "source": [
    "'{1} {0} {1}'.format(\"one\",\"two\")"
   ]
  },
  {
   "cell_type": "code",
   "execution_count": null,
   "metadata": {},
   "outputs": [],
   "source": [
    "'{1} {0} {1}'.format(1,2)"
   ]
  },
  {
   "cell_type": "code",
   "execution_count": null,
   "metadata": {},
   "outputs": [],
   "source": [
    "'| {0:<10} | {0:^10} | {0:>10} |'.format('Hello') # sufficient width for hello"
   ]
  },
  {
   "cell_type": "code",
   "execution_count": null,
   "metadata": {},
   "outputs": [],
   "source": [
    "'| {0:<2} | {0:^2} | {0:>2} |'.format('Hello') # string longer than width provided"
   ]
  },
  {
   "cell_type": "code",
   "execution_count": null,
   "metadata": {},
   "outputs": [],
   "source": [
    "'{:10.5}'.format('Hello World')  # only 5 characters printedcv"
   ]
  },
  {
   "cell_type": "code",
   "execution_count": null,
   "metadata": {
    "collapsed": true
   },
   "outputs": [],
   "source": [
    "'{:06.2f}'.format(3.141592653589793)"
   ]
  },
  {
   "cell_type": "markdown",
   "metadata": {},
   "source": [
    "## Recap\n",
    "- Unicode\n",
    "- Strings\n",
    "- Concatenation and Repetition operators\n",
    "- String indexing, Slicing\n",
    "- String Format Sepcifier and Format Methods\n",
    "- String Methods"
   ]
  },
  {
   "cell_type": "markdown",
   "metadata": {},
   "source": [
    "## Assignments\n",
    "- String Operations Assignment\n",
    "- String Operations Writing Assignment"
   ]
  },
  {
   "cell_type": "markdown",
   "metadata": {},
   "source": [
    "## Quiz\n",
    "- Quiz 6"
   ]
  },
  {
   "cell_type": "markdown",
   "metadata": {},
   "source": [
    "## Reference\n",
    "\n",
    "[Joel On Unicode](https://www.joelonsoftware.com/2003/10/08/the-absolute-minimum-every-software-developer-absolutely-positively-must-know-about-unicode-and-character-sets-no-excuses/)\n",
    "\n",
    "[Strings and Character Data in Python](https://realpython.com/python-strings)\n",
    "  "
   ]
  }
 ],
 "metadata": {
  "kernelspec": {
   "display_name": "Python 3",
   "language": "python",
   "name": "python3"
  },
  "language_info": {
   "codemirror_mode": {
    "name": "ipython",
    "version": 3
   },
   "file_extension": ".py",
   "mimetype": "text/x-python",
   "name": "python",
   "nbconvert_exporter": "python",
   "pygments_lexer": "ipython3",
   "version": "3.5.2"
  }
 },
 "nbformat": 4,
 "nbformat_minor": 2
}
